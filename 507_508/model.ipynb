{
 "cells": [
  {
   "cell_type": "markdown",
   "id": "a2d316db",
   "metadata": {
    "colab_type": "text",
    "id": "view-in-github"
   },
   "source": [
    "<a href=\"https://colab.research.google.com/github/tops201/project_507/blob/main/507_508/model.ipynb\" target=\"_parent\"><img src=\"https://colab.research.google.com/assets/colab-badge.svg\" alt=\"Open In Colab\"/></a>"
   ]
  },
  {
   "cell_type": "code",
   "execution_count": null,
   "id": "a62016be-f548-426c-8463-4990bce88bad",
   "metadata": {
    "id": "a62016be-f548-426c-8463-4990bce88bad"
   },
   "outputs": [],
   "source": [
    "import io\n",
    "\n",
    "import matplotlib.pyplot as plt\n",
    "import numpy as np\n",
    "import pandas as pd\n",
    "import seaborn as sns\n",
    "import tensorflow as tf\n",
    "import tensorflow.keras as keras\n",
    "\n",
    "from google.colab import files #for google colab\n",
    "\n",
    "from sklearn.linear_model import LinearRegression\n",
    "from sklearn.model_selection import train_test_split\n",
    "from sklearn.preprocessing import MinMaxScaler\n",
    "\n",
    "from tensorflow.keras import Sequential\n",
    "\n",
    "from tensorflow.keras.callbacks import Callback\n",
    "from tensorflow.keras.layers import Dense, Input, Lambda, LSTM"
   ]
  },
  {
   "cell_type": "code",
   "execution_count": 5,
   "id": "bd3fdbc8-d459-4639-a2f1-d2e556e321d5",
   "metadata": {
    "colab": {
     "base_uri": "https://localhost:8080/",
     "height": 315,
     "resources": {
      "http://localhost:8080/nbextensions/google.colab/files.js": {
       "data": "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",
       "headers": [
        [
         "content-type",
         "application/javascript"
        ]
       ],
       "ok": true,
       "status": 200,
       "status_text": "OK"
      }
     }
    },
    "id": "bd3fdbc8-d459-4639-a2f1-d2e556e321d5",
    "outputId": "62e8e842-c280-47ec-a0ee-cf76a8227466"
   },
   "outputs": [
    {
     "data": {
      "text/html": [
       "\n",
       "     <input type=\"file\" id=\"files-9ae89c38-965f-41a0-a456-b4e665d5c4dc\" name=\"files[]\" multiple disabled\n",
       "        style=\"border:none\" />\n",
       "     <output id=\"result-9ae89c38-965f-41a0-a456-b4e665d5c4dc\">\n",
       "      Upload widget is only available when the cell has been executed in the\n",
       "      current browser session. Please rerun this cell to enable.\n",
       "      </output>\n",
       "      <script src=\"/nbextensions/google.colab/files.js\"></script> "
      ],
      "text/plain": [
       "<IPython.core.display.HTML object>"
      ]
     },
     "metadata": {},
     "output_type": "display_data"
    },
    {
     "name": "stdout",
     "output_type": "stream",
     "text": [
      "Saving well3.xlsx to well3.xlsx\n"
     ]
    },
    {
     "data": {
      "text/html": [
       "<div>\n",
       "<style scoped>\n",
       "    .dataframe tbody tr th:only-of-type {\n",
       "        vertical-align: middle;\n",
       "    }\n",
       "\n",
       "    .dataframe tbody tr th {\n",
       "        vertical-align: top;\n",
       "    }\n",
       "\n",
       "    .dataframe thead th {\n",
       "        text-align: right;\n",
       "    }\n",
       "</style>\n",
       "<table border=\"1\" class=\"dataframe\">\n",
       "  <thead>\n",
       "    <tr style=\"text-align: right;\">\n",
       "      <th></th>\n",
       "      <th>AVG_DOWNHOLE_PRESSURE</th>\n",
       "      <th>AVG_DOWNHOLE_TEMPERATURE</th>\n",
       "      <th>AVG_DP_TUBING</th>\n",
       "      <th>AVG_ANNULUS_PRESS</th>\n",
       "      <th>AVG_CHOKE_SIZE_P</th>\n",
       "      <th>AVG_WHP_P</th>\n",
       "      <th>AVG_WHT_P</th>\n",
       "      <th>DP_CHOKE_SIZE</th>\n",
       "      <th>BORE_OIL_VOL</th>\n",
       "      <th>BORE_GAS_VOL</th>\n",
       "      <th>BORE_WAT_VOL</th>\n",
       "    </tr>\n",
       "    <tr>\n",
       "      <th>DATEPRD</th>\n",
       "      <th></th>\n",
       "      <th></th>\n",
       "      <th></th>\n",
       "      <th></th>\n",
       "      <th></th>\n",
       "      <th></th>\n",
       "      <th></th>\n",
       "      <th></th>\n",
       "      <th></th>\n",
       "      <th></th>\n",
       "      <th></th>\n",
       "    </tr>\n",
       "  </thead>\n",
       "  <tbody>\n",
       "    <tr>\n",
       "      <th>2008-02-12</th>\n",
       "      <td>308.055940</td>\n",
       "      <td>104.418090</td>\n",
       "      <td>201.250000</td>\n",
       "      <td>18.639557</td>\n",
       "      <td>14.484431</td>\n",
       "      <td>106.805939</td>\n",
       "      <td>16.294718</td>\n",
       "      <td>92.475107</td>\n",
       "      <td>284.65</td>\n",
       "      <td>38888.67</td>\n",
       "      <td>385.01</td>\n",
       "    </tr>\n",
       "    <tr>\n",
       "      <th>2008-02-13</th>\n",
       "      <td>303.033518</td>\n",
       "      <td>105.402696</td>\n",
       "      <td>182.144942</td>\n",
       "      <td>16.466641</td>\n",
       "      <td>22.832986</td>\n",
       "      <td>120.888576</td>\n",
       "      <td>53.374330</td>\n",
       "      <td>89.620148</td>\n",
       "      <td>1869.70</td>\n",
       "      <td>285246.16</td>\n",
       "      <td>7.13</td>\n",
       "    </tr>\n",
       "    <tr>\n",
       "      <th>2008-02-14</th>\n",
       "      <td>295.586061</td>\n",
       "      <td>105.775486</td>\n",
       "      <td>181.867887</td>\n",
       "      <td>12.659589</td>\n",
       "      <td>31.249966</td>\n",
       "      <td>113.718175</td>\n",
       "      <td>72.737631</td>\n",
       "      <td>80.120465</td>\n",
       "      <td>3124.09</td>\n",
       "      <td>509954.88</td>\n",
       "      <td>1.16</td>\n",
       "    </tr>\n",
       "    <tr>\n",
       "      <th>2008-02-15</th>\n",
       "      <td>297.662702</td>\n",
       "      <td>105.751875</td>\n",
       "      <td>180.832060</td>\n",
       "      <td>5.264052</td>\n",
       "      <td>28.518930</td>\n",
       "      <td>116.830642</td>\n",
       "      <td>69.995943</td>\n",
       "      <td>84.250990</td>\n",
       "      <td>2608.28</td>\n",
       "      <td>383426.67</td>\n",
       "      <td>0.97</td>\n",
       "    </tr>\n",
       "    <tr>\n",
       "      <th>2008-02-16</th>\n",
       "      <td>295.935519</td>\n",
       "      <td>105.811114</td>\n",
       "      <td>180.501045</td>\n",
       "      <td>12.384634</td>\n",
       "      <td>30.227902</td>\n",
       "      <td>115.434474</td>\n",
       "      <td>71.518347</td>\n",
       "      <td>82.359026</td>\n",
       "      <td>3051.80</td>\n",
       "      <td>418474.00</td>\n",
       "      <td>4.89</td>\n",
       "    </tr>\n",
       "  </tbody>\n",
       "</table>\n",
       "</div>"
      ],
      "text/plain": [
       "            AVG_DOWNHOLE_PRESSURE  ...  BORE_WAT_VOL\n",
       "DATEPRD                            ...              \n",
       "2008-02-12             308.055940  ...        385.01\n",
       "2008-02-13             303.033518  ...          7.13\n",
       "2008-02-14             295.586061  ...          1.16\n",
       "2008-02-15             297.662702  ...          0.97\n",
       "2008-02-16             295.935519  ...          4.89\n",
       "\n",
       "[5 rows x 11 columns]"
      ]
     },
     "execution_count": 5,
     "metadata": {},
     "output_type": "execute_result"
    }
   ],
   "source": [
    "#fetch dataset\n",
    "\n",
    "data_file = files.upload() #for google colab\n",
    "\n",
    "df = pd.read_excel(io.BytesIO(data_file[\"well3.xlsx\"]), index_col=\"DATEPRD\") #for google colab\n",
    "#df = pd.read_excel(\"well3.xlsx\", index_col=\"DATEPRD\") #for local IDE\n",
    "\n",
    "date = df.index\n",
    "\n",
    "df.head()"
   ]
  },
  {
   "cell_type": "code",
   "execution_count": 6,
   "id": "9525ff5a-6d80-43d7-8fda-5c7a3b310106",
   "metadata": {
    "id": "9525ff5a-6d80-43d7-8fda-5c7a3b310106"
   },
   "outputs": [],
   "source": [
    "#function to plot the a series\n",
    "def plot_series(x, y, format=\"-\", start=None, end=None, label=None):\n",
    "    plt.plot(x[start:end], y[start:end], format, label=label)\n",
    "    plt.xlabel(\"Date\")\n",
    "    plt.ylabel(\"Oil Volume\")\n",
    "    if label:\n",
    "        plt.legend(fontsize=14)\n",
    "    plt.grid(True)\n",
    "\n",
    "    \n",
    "def sequential_window_dataset(series, window_size):\n",
    "    series = tf.expand_dims(series, axis=-1)\n",
    "    ds = tf.data.Dataset.from_tensor_slices(series)\n",
    "    ds = ds.window(window_size + 1, shift=window_size, drop_remainder=True)\n",
    "    ds = ds.flat_map(lambda window: window.batch(window_size + 1))\n",
    "    ds = ds.map(lambda window: (window[:-1], window[1:]))\n",
    "    return ds.batch(1).prefetch(1)\n",
    "\n",
    "\n",
    "class ResetStatesCallback(Callback):\n",
    "    def on_epoch_begin(self, epoch, logs):\n",
    "        self.model.reset_states()"
   ]
  },
  {
   "cell_type": "code",
   "execution_count": 7,
   "id": "44685c64-c61f-431d-8527-cd77d346bf81",
   "metadata": {
    "colab": {
     "base_uri": "https://localhost:8080/",
     "height": 406
    },
    "id": "44685c64-c61f-431d-8527-cd77d346bf81",
    "outputId": "50f9674f-8d80-418b-e223-1fa88d007970"
   },
   "outputs": [
    {
     "data": {
      "image/png": "[encoded data removed]",
      "text/plain": [
       "<Figure size 1440x432 with 1 Axes>"
      ]
     },
     "metadata": {
      "needs_background": "light"
     },
     "output_type": "display_data"
    },
    {
     "data": {
      "text/plain": [
       "array([ 284.65, 1869.7 , 3124.09, ...,    0.  ,    0.  ,    0.  ])"
      ]
     },
     "execution_count": 7,
     "metadata": {},
     "output_type": "execute_result"
    }
   ],
   "source": [
    "oil_data = df.BORE_OIL_VOL.to_numpy()\n",
    "\n",
    "plt.figure(figsize=(20, 6))\n",
    "plot_series(date, oil_data)\n",
    "plt.show()\n",
    "\n",
    "oil_data"
   ]
  },
  {
   "cell_type": "code",
   "execution_count": 8,
   "id": "7696660b",
   "metadata": {
    "colab": {
     "base_uri": "https://localhost:8080/"
    },
    "id": "7696660b",
    "outputId": "bf5d48be-bc2f-4856-89a6-672f6957f187"
   },
   "outputs": [
    {
     "name": "stdout",
     "output_type": "stream",
     "text": [
      "(2750,) (306,) (2750,) (306,)\n"
     ]
    }
   ],
   "source": [
    "#split the time series into training and validation sets\n",
    "split_date = 2750\n",
    "\n",
    "date_train = date[:split_date]\n",
    "date_valid = date[split_date:]\n",
    "\n",
    "x_train = oil_data[:split_date]\n",
    "x_valid = oil_data[split_date:]\n",
    "\n",
    "print(x_train.shape, x_valid.shape, date_train.shape, date_valid.shape)"
   ]
  },
  {
   "cell_type": "markdown",
   "id": "b577aadb-081a-49f0-999c-4d2a6062968e",
   "metadata": {
    "id": "b577aadb-081a-49f0-999c-4d2a6062968e",
    "tags": []
   },
   "source": [
    "# RNN Model - LSTM"
   ]
  },
  {
   "cell_type": "code",
   "execution_count": 9,
   "id": "01913cd7",
   "metadata": {
    "colab": {
     "base_uri": "https://localhost:8080/"
    },
    "id": "01913cd7",
    "outputId": "46d6ab6d-ea57-48e1-d2b6-b95d3fc9ce38"
   },
   "outputs": [
    {
     "name": "stdout",
     "output_type": "stream",
     "text": [
      "Epoch 1/100\n",
      "91/91 [==============================] - 4s 14ms/step - loss: 1650.9897 - mae: 1651.4656\n",
      "Epoch 2/100\n",
      "91/91 [==============================] - 1s 14ms/step - loss: 1650.9862 - mae: 1651.4637\n",
      "Epoch 3/100\n",
      "91/91 [==============================] - 1s 14ms/step - loss: 1650.9840 - mae: 1651.4597\n",
      "Epoch 4/100\n",
      "91/91 [==============================] - 1s 14ms/step - loss: 1650.9813 - mae: 1651.4573\n",
      "Epoch 5/100\n",
      "91/91 [==============================] - 1s 14ms/step - loss: 1650.9788 - mae: 1651.4546\n",
      "Epoch 6/100\n",
      "91/91 [==============================] - 1s 14ms/step - loss: 1650.9760 - mae: 1651.4518\n",
      "Epoch 7/100\n",
      "91/91 [==============================] - 1s 14ms/step - loss: 1650.9733 - mae: 1651.4495\n",
      "Epoch 8/100\n",
      "91/91 [==============================] - 1s 14ms/step - loss: 1650.9706 - mae: 1651.4459\n",
      "Epoch 9/100\n",
      "91/91 [==============================] - 1s 14ms/step - loss: 1650.9683 - mae: 1651.4443\n",
      "Epoch 10/100\n",
      "91/91 [==============================] - 1s 14ms/step - loss: 1650.9657 - mae: 1651.4418\n",
      "Epoch 11/100\n",
      "91/91 [==============================] - 1s 14ms/step - loss: 1650.9628 - mae: 1651.4382\n",
      "Epoch 12/100\n",
      "91/91 [==============================] - 1s 14ms/step - loss: 1650.9603 - mae: 1651.4355\n",
      "Epoch 13/100\n",
      "91/91 [==============================] - 1s 14ms/step - loss: 1650.9570 - mae: 1651.4327\n",
      "Epoch 14/100\n",
      "91/91 [==============================] - 1s 14ms/step - loss: 1650.9545 - mae: 1651.4298\n",
      "Epoch 15/100\n",
      "91/91 [==============================] - 1s 14ms/step - loss: 1650.9521 - mae: 1651.4261\n",
      "Epoch 16/100\n",
      "91/91 [==============================] - 1s 14ms/step - loss: 1650.9480 - mae: 1651.4231\n",
      "Epoch 17/100\n",
      "91/91 [==============================] - 1s 14ms/step - loss: 1650.9446 - mae: 1651.4198\n",
      "Epoch 18/100\n",
      "91/91 [==============================] - 1s 14ms/step - loss: 1650.9412 - mae: 1651.4152\n",
      "Epoch 19/100\n",
      "91/91 [==============================] - 1s 14ms/step - loss: 1650.9370 - mae: 1651.4115\n",
      "Epoch 20/100\n",
      "91/91 [==============================] - 1s 14ms/step - loss: 1650.9330 - mae: 1651.4073\n",
      "Epoch 21/100\n",
      "91/91 [==============================] - 1s 14ms/step - loss: 1650.9283 - mae: 1651.4023\n",
      "Epoch 22/100\n",
      "91/91 [==============================] - 1s 14ms/step - loss: 1650.9231 - mae: 1651.3978\n",
      "Epoch 23/100\n",
      "91/91 [==============================] - 1s 14ms/step - loss: 1650.9186 - mae: 1651.3920\n",
      "Epoch 24/100\n",
      "91/91 [==============================] - 1s 14ms/step - loss: 1650.9122 - mae: 1651.3857\n",
      "Epoch 25/100\n",
      "91/91 [==============================] - 1s 14ms/step - loss: 1650.9062 - mae: 1651.3788\n",
      "Epoch 26/100\n",
      "91/91 [==============================] - 1s 14ms/step - loss: 1650.8992 - mae: 1651.3722\n",
      "Epoch 27/100\n",
      "91/91 [==============================] - 1s 14ms/step - loss: 1650.8910 - mae: 1651.3639\n",
      "Epoch 28/100\n",
      "91/91 [==============================] - 1s 14ms/step - loss: 1650.8829 - mae: 1651.3550\n",
      "Epoch 29/100\n",
      "91/91 [==============================] - 1s 14ms/step - loss: 1650.8732 - mae: 1651.3458\n",
      "Epoch 30/100\n",
      "91/91 [==============================] - 1s 14ms/step - loss: 1650.8623 - mae: 1651.3339\n",
      "Epoch 31/100\n",
      "91/91 [==============================] - 1s 14ms/step - loss: 1650.8506 - mae: 1651.3225\n",
      "Epoch 32/100\n",
      "91/91 [==============================] - 1s 14ms/step - loss: 1650.8374 - mae: 1651.3088\n",
      "Epoch 33/100\n",
      "91/91 [==============================] - 1s 14ms/step - loss: 1650.8223 - mae: 1651.2928\n",
      "Epoch 34/100\n",
      "91/91 [==============================] - 1s 14ms/step - loss: 1650.8057 - mae: 1651.2766\n",
      "Epoch 35/100\n",
      "91/91 [==============================] - 1s 14ms/step - loss: 1650.7860 - mae: 1651.2562\n",
      "Epoch 36/100\n",
      "91/91 [==============================] - 1s 14ms/step - loss: 1650.7622 - mae: 1651.2324\n",
      "Epoch 37/100\n",
      "91/91 [==============================] - 1s 14ms/step - loss: 1650.7264 - mae: 1651.1970\n",
      "Epoch 38/100\n",
      "91/91 [==============================] - 1s 14ms/step - loss: 1650.6331 - mae: 1651.1057\n",
      "Epoch 39/100\n",
      "91/91 [==============================] - 1s 14ms/step - loss: 1650.5485 - mae: 1651.0229\n",
      "Epoch 40/100\n",
      "91/91 [==============================] - 1s 14ms/step - loss: 1650.5135 - mae: 1650.9897\n",
      "Epoch 41/100\n",
      "91/91 [==============================] - 1s 15ms/step - loss: 1650.4772 - mae: 1650.9531\n",
      "Epoch 42/100\n",
      "91/91 [==============================] - 1s 14ms/step - loss: 1650.4375 - mae: 1650.9154\n",
      "Epoch 43/100\n",
      "91/91 [==============================] - 1s 14ms/step - loss: 1650.3943 - mae: 1650.8738\n",
      "Epoch 44/100\n",
      "91/91 [==============================] - 1s 14ms/step - loss: 1650.3436 - mae: 1650.8246\n",
      "Epoch 45/100\n",
      "91/91 [==============================] - 1s 14ms/step - loss: 1650.2838 - mae: 1650.7661\n",
      "Epoch 46/100\n",
      "91/91 [==============================] - 1s 14ms/step - loss: 1650.2256 - mae: 1650.7097\n",
      "Epoch 47/100\n",
      "91/91 [==============================] - 1s 15ms/step - loss: 1650.1616 - mae: 1650.6469\n",
      "Epoch 48/100\n",
      "91/91 [==============================] - 1s 14ms/step - loss: 1650.0907 - mae: 1650.5780\n",
      "Epoch 49/100\n",
      "91/91 [==============================] - 1s 14ms/step - loss: 1650.0118 - mae: 1650.4996\n",
      "Epoch 50/100\n",
      "91/91 [==============================] - 1s 14ms/step - loss: 1649.9243 - mae: 1650.4154\n",
      "Epoch 51/100\n",
      "91/91 [==============================] - 1s 14ms/step - loss: 1649.8276 - mae: 1650.3199\n",
      "Epoch 52/100\n",
      "91/91 [==============================] - 1s 14ms/step - loss: 1649.7201 - mae: 1650.2137\n",
      "Epoch 53/100\n",
      "91/91 [==============================] - 1s 14ms/step - loss: 1649.6039 - mae: 1650.0984\n",
      "Epoch 54/100\n",
      "91/91 [==============================] - 1s 14ms/step - loss: 1649.4764 - mae: 1649.9722\n",
      "Epoch 55/100\n",
      "91/91 [==============================] - 1s 14ms/step - loss: 1649.3357 - mae: 1649.8319\n",
      "Epoch 56/100\n",
      "91/91 [==============================] - 1s 14ms/step - loss: 1649.1747 - mae: 1649.6702\n",
      "Epoch 57/100\n",
      "91/91 [==============================] - 1s 14ms/step - loss: 1649.0093 - mae: 1649.5057\n",
      "Epoch 58/100\n",
      "91/91 [==============================] - 1s 14ms/step - loss: 1648.8302 - mae: 1649.3276\n",
      "Epoch 59/100\n",
      "91/91 [==============================] - 1s 14ms/step - loss: 1648.6355 - mae: 1649.1328\n",
      "Epoch 60/100\n",
      "91/91 [==============================] - 1s 14ms/step - loss: 1648.4237 - mae: 1648.9210\n",
      "Epoch 61/100\n",
      "91/91 [==============================] - 1s 14ms/step - loss: 1648.1930 - mae: 1648.6907\n",
      "Epoch 62/100\n",
      "91/91 [==============================] - 1s 15ms/step - loss: 1647.9406 - mae: 1648.4379\n",
      "Epoch 63/100\n",
      "91/91 [==============================] - 1s 14ms/step - loss: 1647.6613 - mae: 1648.1589\n",
      "Epoch 64/100\n",
      "91/91 [==============================] - 1s 14ms/step - loss: 1647.3120 - mae: 1647.8103\n",
      "Epoch 65/100\n",
      "91/91 [==============================] - 1s 14ms/step - loss: 1646.9701 - mae: 1647.4692\n",
      "Epoch 66/100\n",
      "91/91 [==============================] - 1s 14ms/step - loss: 1646.5874 - mae: 1647.0874\n",
      "Epoch 67/100\n",
      "91/91 [==============================] - 1s 14ms/step - loss: 1646.1547 - mae: 1646.6538\n",
      "Epoch 68/100\n",
      "91/91 [==============================] - 1s 14ms/step - loss: 1645.6650 - mae: 1646.1648\n",
      "Epoch 69/100\n",
      "91/91 [==============================] - 1s 14ms/step - loss: 1645.0938 - mae: 1645.5936\n",
      "Epoch 70/100\n",
      "91/91 [==============================] - 1s 14ms/step - loss: 1644.4091 - mae: 1644.9088\n",
      "Epoch 71/100\n",
      "91/91 [==============================] - 1s 14ms/step - loss: 1643.6035 - mae: 1644.1035\n",
      "Epoch 72/100\n",
      "91/91 [==============================] - 1s 14ms/step - loss: 1642.6385 - mae: 1643.1381\n",
      "Epoch 73/100\n",
      "91/91 [==============================] - 1s 14ms/step - loss: 1641.4591 - mae: 1641.9591\n",
      "Epoch 74/100\n",
      "91/91 [==============================] - 1s 14ms/step - loss: 1639.9958 - mae: 1640.4949\n",
      "Epoch 75/100\n",
      "91/91 [==============================] - 1s 14ms/step - loss: 1638.1635 - mae: 1638.6622\n",
      "Epoch 76/100\n",
      "91/91 [==============================] - 1s 14ms/step - loss: 1635.8602 - mae: 1636.3601\n",
      "Epoch 77/100\n",
      "91/91 [==============================] - 1s 14ms/step - loss: 1632.9705 - mae: 1633.4705\n",
      "Epoch 78/100\n",
      "91/91 [==============================] - 1s 14ms/step - loss: 1629.4189 - mae: 1629.9191\n",
      "Epoch 79/100\n",
      "91/91 [==============================] - 1s 14ms/step - loss: 1625.1600 - mae: 1625.6599\n",
      "Epoch 80/100\n",
      "91/91 [==============================] - 1s 14ms/step - loss: 1620.1204 - mae: 1620.6207\n",
      "Epoch 81/100\n",
      "91/91 [==============================] - 1s 14ms/step - loss: 1614.2437 - mae: 1614.7438\n",
      "Epoch 82/100\n",
      "91/91 [==============================] - 1s 14ms/step - loss: 1607.4663 - mae: 1607.9668\n",
      "Epoch 83/100\n",
      "91/91 [==============================] - 1s 14ms/step - loss: 1599.7533 - mae: 1600.2522\n",
      "Epoch 84/100\n",
      "91/91 [==============================] - 1s 15ms/step - loss: 1591.0785 - mae: 1591.5775\n",
      "Epoch 85/100\n",
      "91/91 [==============================] - 1s 14ms/step - loss: 1581.3812 - mae: 1581.8811\n",
      "Epoch 86/100\n",
      "91/91 [==============================] - 1s 14ms/step - loss: 1570.5184 - mae: 1571.0179\n",
      "Epoch 87/100\n",
      "91/91 [==============================] - 1s 14ms/step - loss: 1558.3999 - mae: 1558.9000\n",
      "Epoch 88/100\n",
      "91/91 [==============================] - 1s 14ms/step - loss: 1544.7859 - mae: 1545.2854\n",
      "Epoch 89/100\n",
      "91/91 [==============================] - 1s 14ms/step - loss: 1529.4902 - mae: 1529.9896\n",
      "Epoch 90/100\n",
      "91/91 [==============================] - 1s 14ms/step - loss: 1512.5444 - mae: 1513.0439\n",
      "Epoch 91/100\n",
      "91/91 [==============================] - 1s 15ms/step - loss: 1495.5685 - mae: 1496.0684\n",
      "Epoch 92/100\n",
      "91/91 [==============================] - 1s 15ms/step - loss: 1481.8453 - mae: 1482.3436\n",
      "Epoch 93/100\n",
      "91/91 [==============================] - 1s 14ms/step - loss: 1478.9075 - mae: 1479.4072\n",
      "Epoch 94/100\n",
      "91/91 [==============================] - 1s 14ms/step - loss: 1480.5708 - mae: 1481.0706\n",
      "Epoch 95/100\n",
      "91/91 [==============================] - 1s 14ms/step - loss: 1470.0575 - mae: 1470.5579\n",
      "Epoch 96/100\n",
      "91/91 [==============================] - 1s 14ms/step - loss: 1450.4674 - mae: 1450.9662\n",
      "Epoch 97/100\n",
      "91/91 [==============================] - 1s 14ms/step - loss: 1434.2467 - mae: 1434.7463\n",
      "Epoch 98/100\n",
      "91/91 [==============================] - 1s 14ms/step - loss: 1421.7299 - mae: 1422.2300\n",
      "Epoch 99/100\n",
      "91/91 [==============================] - 1s 14ms/step - loss: 1405.9921 - mae: 1406.4921\n",
      "Epoch 100/100\n",
      "91/91 [==============================] - 1s 14ms/step - loss: 1389.3136 - mae: 1389.8138\n"
     ]
    }
   ],
   "source": [
    "#clear session \n",
    "keras.backend.clear_session()\n",
    "tf.random.set_seed(42)\n",
    "np.random.seed(42)\n",
    "\n",
    "window_size = 30\n",
    "train_set = sequential_window_dataset(x_train, window_size)\n",
    "\n",
    "model = Sequential([\n",
    "    \n",
    "        LSTM(100, return_sequences=True, stateful=True, batch_input_shape=[1, None, 1]),\n",
    "        LSTM(100, return_sequences=True, stateful=True),\n",
    "        Dense(1)\n",
    "        #Lambda(lambda x: x * 200.0)\n",
    "    \n",
    "    ])\n",
    "\n",
    "learning_rate_schedule = keras.callbacks.LearningRateScheduler(lambda epoch: 1e-8 * 10**(epoch / 20))\n",
    "\n",
    "reset_states = ResetStatesCallback()\n",
    "\n",
    "optimizer = keras.optimizers.SGD(learning_rate=1e-8, momentum=0.9)\n",
    "\n",
    "model.compile(loss=keras.losses.Huber(), optimizer=optimizer, metrics=[\"mae\"])\n",
    "\n",
    "history = model.fit(train_set, epochs=100, callbacks=[learning_rate_schedule, reset_states])"
   ]
  },
  {
   "cell_type": "code",
   "execution_count": 23,
   "id": "eada4ef5",
   "metadata": {
    "colab": {
     "base_uri": "https://localhost:8080/",
     "height": 291
    },
    "id": "eada4ef5",
    "outputId": "267fff3c-e77a-479e-f939-72b980fccca8"
   },
   "outputs": [
    {
     "data": {
      "image/png": "[encoded data removed]",
      "text/plain": [
       "<Figure size 432x288 with 1 Axes>"
      ]
     },
     "metadata": {
      "needs_background": "light"
     },
     "output_type": "display_data"
    },
    {
     "data": {
      "text/plain": [
       "1389.3135986328125"
      ]
     },
     "execution_count": 23,
     "metadata": {},
     "output_type": "execute_result"
    }
   ],
   "source": [
    "plt.semilogx(history.history[\"lr\"], history.history[\"loss\"])\n",
    "plt.axis([1e-8, 1e-3, 1300, 1700])\n",
    "plt.show()\n",
    "\n",
    "min(history.history[\"loss\"])"
   ]
  },
  {
   "cell_type": "markdown",
   "id": "4cbd174e-49b0-4ed8-a720-fbe33fd53d40",
   "metadata": {
    "id": "4cbd174e-49b0-4ed8-a720-fbe33fd53d40"
   },
   "source": [
    "#univariate"
   ]
  },
  {
   "cell_type": "code",
   "execution_count": null,
   "id": "2316a106-9cff-432d-a283-38e726f3217e",
   "metadata": {
    "id": "2316a106-9cff-432d-a283-38e726f3217e"
   },
   "outputs": [],
   "source": [
    "# specify the window size\n",
    "n_steps = 7\n",
    "\n",
    "# split into samples\n",
    "X, y = split_sequence(values, n_steps)\n",
    "\n",
    "# reshape into [samples, timesteps, features]\n",
    "X = X.reshape((X.shape[0], X.shape[1], 1))\n",
    "\n",
    "# split into train/test\n",
    "X_train, X_test, y_train, y_test = train_test_split(X, y, test_size = 0.3, random_state=42)\n",
    "print(X_train.shape, X_test.shape, y_train.shape, y_test.shape)\n",
    "\n",
    "# define model\n",
    "model = Sequential()\n",
    "\n",
    "model.add(Input(shape=(X_train.shape[1],)))"
   ]
  },
  {
   "cell_type": "code",
   "execution_count": null,
   "id": "430921d0-6b20-4608-b168-60a0e0580e5d",
   "metadata": {
    "id": "430921d0-6b20-4608-b168-60a0e0580e5d"
   },
   "outputs": [],
   "source": [
    "model.add(LSTM(100, activation='relu', kernel_initializer='he_normal'))"
   ]
  },
  {
   "cell_type": "code",
   "execution_count": null,
   "id": "127f0a5c-83ab-4002-9af6-5a83c54f25a7",
   "metadata": {
    "id": "127f0a5c-83ab-4002-9af6-5a83c54f25a7"
   },
   "outputs": [],
   "source": [
    "model.add(Dense(50, activation='relu', kernel_initializer='he_normal'))\n",
    "model.add(Dense(50, activation='relu', kernel_initializer='he_normal'))\n",
    "model.add(Dense(1))\n",
    "\n",
    "# compile the model\n",
    "model.compile(optimizer='adam', loss='mse', metrics=['mae'])\n",
    "\n",
    "# fit the model\n",
    "model.fit(X_train, y_train, epochs=350, batch_size=32, verbose=2, validation_data=(X_test, y_test))\n",
    "\n",
    "# evaluate the model\n",
    "mse, mae = model.evaluate(X_test, y_test, verbose=0)\n",
    "print('MSE: %.3f, RMSE: %.3f, MAE: %.3f' % (mse, sqrt(mse), mae))\n",
    "\n",
    "# make a prediction\n"
   ]
  },
  {
   "cell_type": "code",
   "execution_count": null,
   "id": "23b5d7fb-7c21-47c6-b4ea-3d75dbfeb9b8",
   "metadata": {
    "id": "23b5d7fb-7c21-47c6-b4ea-3d75dbfeb9b8"
   },
   "outputs": [],
   "source": [
    "# convert series to supervised learning\n",
    "def series_to_supervised(data, n_in=1, n_out=1, dropnan=True):\n",
    "    n_vars = 1 if type(data) is list else data.shape[1]\n",
    "    df = DataFrame(data)\n",
    "    cols, names = list(), list()\n",
    "    # input sequence (t-n, ... t-1)\n",
    "    for i in range(n_in, 0, -1):\n",
    "        cols.append(df.shift(i))\n",
    "        names += [('var%d(t-%d)' % (j+1, i)) for j in range(n_vars)]\n",
    "    # forecast sequence (t, t+1, ... t+n)\n",
    "    for i in range(0, n_out):\n",
    "        cols.append(df.shift(-i))\n",
    "        if i == 0:\n",
    "            names += [('var%d(t)' % (j+1)) for j in range(n_vars)]\n",
    "        else:\n",
    "            names += [('var%d(t+%d)' % (j+1, i)) for j in range(n_vars)]\n",
    "    # put it all together\n",
    "    agg = concat(cols, axis=1)\n",
    "    agg.columns = names\n",
    "    # drop rows with NaN values\n",
    "    if dropnan:\n",
    "        agg.dropna(inplace=True)\n",
    "    return agg\n",
    "\n",
    "# load dataset\n",
    "dataset = read_csv('pollution.csv', header=0, index_col=0)\n",
    "values = dataset.values\n",
    "# integer encode direction\n",
    "encoder = LabelEncoder()\n",
    "values[:,4] = encoder.fit_transform(values[:,4])\n",
    "# ensure all data is float\n",
    "values = values.astype('float32')\n",
    "# normalize features\n",
    "scaler = MinMaxScaler(feature_range=(0, 1))\n",
    "scaled = scaler.fit_transform(values)\n",
    "# frame as supervised learning\n",
    "reframed = series_to_supervised(scaled, 1, 1)\n",
    "# drop columns we don't want to predict\n",
    "reframed.drop(reframed.columns[[9,10,11,12,13,14,15]], axis=1, inplace=True)\n",
    "print(reframed.head())"
   ]
  },
  {
   "cell_type": "code",
   "execution_count": null,
   "id": "e55de80a-bae0-4ef1-a05a-00de6df093a0",
   "metadata": {
    "id": "e55de80a-bae0-4ef1-a05a-00de6df093a0"
   },
   "outputs": [],
   "source": []
  },
  {
   "cell_type": "code",
   "execution_count": null,
   "id": "1d2df512-51e7-480e-8946-513ed58764b8",
   "metadata": {
    "id": "1d2df512-51e7-480e-8946-513ed58764b8"
   },
   "outputs": [],
   "source": []
  },
  {
   "cell_type": "markdown",
   "id": "e6228521-e56f-4306-89da-eddfa4d5823c",
   "metadata": {
    "id": "e6228521-e56f-4306-89da-eddfa4d5823c",
    "jp-MarkdownHeadingCollapsed": true,
    "tags": []
   },
   "source": [
    "#  MLP"
   ]
  },
  {
   "cell_type": "code",
   "execution_count": null,
   "id": "9e760c02-4ac0-495e-8451-638bce1fdab2",
   "metadata": {
    "id": "9e760c02-4ac0-495e-8451-638bce1fdab2"
   },
   "outputs": [],
   "source": [
    "print(X_train.shape, X_test.shape, y_train.shape, y_test.shape)\n",
    "\n",
    "# determine the number of input & output features\n",
    "features_in = X_train.shape[1]\n",
    "features_out = y_train.shape[1]\n",
    "\n",
    "# define model\n",
    "mlp = Sequential()\n",
    "\n",
    "mlp.add(Input(shape=(features_in,)))\n",
    "\n",
    "mlp.add(Dense(10, activation='relu', kernel_initializer='he_normal'))\n",
    "mlp.add(Dense(8, activation='relu', kernel_initializer='he_normal'))\n",
    "mlp.add(Dense(features_out))\n",
    "\n",
    "# compile the model\n",
    "mlp.compile(optimizer='adam', loss='mse')\n",
    "\n",
    "# fit the model\n",
    "mlp.fit(X_train, y_train, epochs=150, batch_size=32, verbose=0)\n",
    "\n",
    "# evaluate the model\n",
    "error = mlp.evaluate(X_test, y_test, verbose=2)\n",
    "print('MSE: %.3f, RMSE: %.3f' % (error, sqrt(error)))\n"
   ]
  }
 ],
 "metadata": {
  "colab": {
   "include_colab_link": true,
   "name": "model.ipynb",
   "provenance": []
  },
  "kernelspec": {
   "display_name": "Python 3",
   "language": "python",
   "name": "python3"
  },
  "language_info": {
   "codemirror_mode": {
    "name": "ipython",
    "version": 3
   },
   "file_extension": ".py",
   "mimetype": "text/x-python",
   "name": "python",
   "nbconvert_exporter": "python",
   "pygments_lexer": "ipython3",
   "version": "3.9.6"
  }
 },
 "nbformat": 4,
 "nbformat_minor": 5
}
