{
 "cells": [
  {
   "cell_type": "markdown",
   "id": "485ea80c",
   "metadata": {
    "colab_type": "text",
    "id": "view-in-github"
   },
   "source": [
    "<a href=\"https://colab.research.google.com/github/tops201/project_507/blob/main/507_508/model.ipynb\" target=\"_parent\"><img src=\"https://colab.research.google.com/assets/colab-badge.svg\" alt=\"Open In Colab\"/></a>"
   ]
  },
  {
   "cell_type": "code",
   "execution_count": 13,
   "id": "ca26bf12",
   "metadata": {
    "id": "a62016be-f548-426c-8463-4990bce88bad"
   },
   "outputs": [],
   "source": [
    "import io\n",
    "import math\n",
    "\n",
    "import matplotlib.pyplot as plt\n",
    "import numpy as np\n",
    "import pandas as pd\n",
    "import seaborn as sns\n",
    "import tensorflow as tf\n",
    "import tensorflow.keras as keras\n",
    "\n",
    "#from google.colab import files #for google colab\n",
    "\n",
    "from sklearn.linear_model import LinearRegression\n",
    "from sklearn.model_selection import train_test_split\n",
    "from sklearn.preprocessing import MinMaxScaler\n",
    "\n",
    "from tensorflow.keras import Sequential\n",
    "\n",
    "from tensorflow.keras.callbacks import Callback, ModelCheckpoint, EarlyStopping, LearningRateScheduler\n",
    "from tensorflow.keras.layers import Dense, Input, Lambda, LSTM"
   ]
  },
  {
   "cell_type": "code",
   "execution_count": 4,
   "id": "c4cfbd6a",
   "metadata": {
    "colab": {
     "base_uri": "https://localhost:8080/",
     "height": 315,
     "resources": {
      "http://localhost:8080/nbextensions/google.colab/files.js": {
       "data": "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",
       "headers": [
        [
         "content-type",
         "application/javascript"
        ]
       ],
       "ok": true,
       "status": 200,
       "status_text": "OK"
      }
     }
    },
    "id": "bd3fdbc8-d459-4639-a2f1-d2e556e321d5",
    "outputId": "599e54b2-896c-4501-b065-8d8aa9b50cc3"
   },
   "outputs": [
    {
     "data": {
      "text/html": [
       "<div>\n",
       "<style scoped>\n",
       "    .dataframe tbody tr th:only-of-type {\n",
       "        vertical-align: middle;\n",
       "    }\n",
       "\n",
       "    .dataframe tbody tr th {\n",
       "        vertical-align: top;\n",
       "    }\n",
       "\n",
       "    .dataframe thead th {\n",
       "        text-align: right;\n",
       "    }\n",
       "</style>\n",
       "<table border=\"1\" class=\"dataframe\">\n",
       "  <thead>\n",
       "    <tr style=\"text-align: right;\">\n",
       "      <th></th>\n",
       "      <th>BORE_GAS_VOL</th>\n",
       "      <th>BORE_OIL_VOL</th>\n",
       "      <th>BORE_WAT_VOL</th>\n",
       "    </tr>\n",
       "    <tr>\n",
       "      <th>DATEPRD</th>\n",
       "      <th></th>\n",
       "      <th></th>\n",
       "      <th></th>\n",
       "    </tr>\n",
       "  </thead>\n",
       "  <tbody>\n",
       "    <tr>\n",
       "      <th>39490</th>\n",
       "      <td>38888.67</td>\n",
       "      <td>284.65</td>\n",
       "      <td>385.01</td>\n",
       "    </tr>\n",
       "    <tr>\n",
       "      <th>39491</th>\n",
       "      <td>285246.16</td>\n",
       "      <td>1869.70</td>\n",
       "      <td>7.13</td>\n",
       "    </tr>\n",
       "    <tr>\n",
       "      <th>39492</th>\n",
       "      <td>509954.88</td>\n",
       "      <td>3124.09</td>\n",
       "      <td>1.16</td>\n",
       "    </tr>\n",
       "    <tr>\n",
       "      <th>39493</th>\n",
       "      <td>383426.67</td>\n",
       "      <td>2608.28</td>\n",
       "      <td>0.97</td>\n",
       "    </tr>\n",
       "    <tr>\n",
       "      <th>39494</th>\n",
       "      <td>418474.00</td>\n",
       "      <td>3051.80</td>\n",
       "      <td>4.89</td>\n",
       "    </tr>\n",
       "  </tbody>\n",
       "</table>\n",
       "</div>"
      ],
      "text/plain": [
       "         BORE_GAS_VOL  BORE_OIL_VOL  BORE_WAT_VOL\n",
       "DATEPRD                                          \n",
       "39490        38888.67        284.65        385.01\n",
       "39491       285246.16       1869.70          7.13\n",
       "39492       509954.88       3124.09          1.16\n",
       "39493       383426.67       2608.28          0.97\n",
       "39494       418474.00       3051.80          4.89"
      ]
     },
     "execution_count": 4,
     "metadata": {},
     "output_type": "execute_result"
    }
   ],
   "source": [
    "#fetch dataset\n",
    "\n",
    "#data_file = files.upload() #for google colab\n",
    "\n",
    "#df = pd.read_excel(io.BytesIO(data_file[\"daily_field_data.xlsx\"]), index_col=\"DATEPRD\") #for google colab\n",
    "df = pd.read_excel(\"daily_field_data.xlsx\", index_col=\"DATEPRD\") #for local IDE\n",
    "\n",
    "date = df.index\n",
    "\n",
    "df.head()"
   ]
  },
  {
   "cell_type": "code",
   "execution_count": 5,
   "id": "fb5673bf-f36b-4bf1-8987-5c667b7bb471",
   "metadata": {},
   "outputs": [
    {
     "data": {
      "text/html": [
       "<div>\n",
       "<style scoped>\n",
       "    .dataframe tbody tr th:only-of-type {\n",
       "        vertical-align: middle;\n",
       "    }\n",
       "\n",
       "    .dataframe tbody tr th {\n",
       "        vertical-align: top;\n",
       "    }\n",
       "\n",
       "    .dataframe thead th {\n",
       "        text-align: right;\n",
       "    }\n",
       "</style>\n",
       "<table border=\"1\" class=\"dataframe\">\n",
       "  <thead>\n",
       "    <tr style=\"text-align: right;\">\n",
       "      <th></th>\n",
       "      <th>BORE_GAS_VOL</th>\n",
       "      <th>BORE_OIL_VOL</th>\n",
       "      <th>BORE_WAT_VOL</th>\n",
       "    </tr>\n",
       "    <tr>\n",
       "      <th>DATEPRD</th>\n",
       "      <th></th>\n",
       "      <th></th>\n",
       "      <th></th>\n",
       "    </tr>\n",
       "  </thead>\n",
       "  <tbody>\n",
       "    <tr>\n",
       "      <th>39490</th>\n",
       "      <td>0.028509</td>\n",
       "      <td>0.028932</td>\n",
       "      <td>0.083855</td>\n",
       "    </tr>\n",
       "    <tr>\n",
       "      <th>39491</th>\n",
       "      <td>0.209112</td>\n",
       "      <td>0.197113</td>\n",
       "      <td>0.048727</td>\n",
       "    </tr>\n",
       "    <tr>\n",
       "      <th>39492</th>\n",
       "      <td>0.373844</td>\n",
       "      <td>0.330210</td>\n",
       "      <td>0.048172</td>\n",
       "    </tr>\n",
       "    <tr>\n",
       "      <th>39493</th>\n",
       "      <td>0.281087</td>\n",
       "      <td>0.275480</td>\n",
       "      <td>0.048154</td>\n",
       "    </tr>\n",
       "    <tr>\n",
       "      <th>39494</th>\n",
       "      <td>0.306780</td>\n",
       "      <td>0.322540</td>\n",
       "      <td>0.048518</td>\n",
       "    </tr>\n",
       "  </tbody>\n",
       "</table>\n",
       "</div>"
      ],
      "text/plain": [
       "         BORE_GAS_VOL  BORE_OIL_VOL  BORE_WAT_VOL\n",
       "DATEPRD                                          \n",
       "39490        0.028509      0.028932      0.083855\n",
       "39491        0.209112      0.197113      0.048727\n",
       "39492        0.373844      0.330210      0.048172\n",
       "39493        0.281087      0.275480      0.048154\n",
       "39494        0.306780      0.322540      0.048518"
      ]
     },
     "execution_count": 5,
     "metadata": {},
     "output_type": "execute_result"
    }
   ],
   "source": [
    "scaler = MinMaxScaler(feature_range=(0, 1))\n",
    "scaled = scaler.fit_transform(df)\n",
    "\n",
    "scaled_df = pd.DataFrame(scaled, index=df.index, columns=df.columns)\n",
    "scaled_df.head()"
   ]
  },
  {
   "cell_type": "code",
   "execution_count": 6,
   "id": "95c8208f",
   "metadata": {
    "id": "9525ff5a-6d80-43d7-8fda-5c7a3b310106"
   },
   "outputs": [],
   "source": [
    "#function to plot a series\n",
    "def plot_series(x, y, format=\"-\", start=None, end=None, label=None):\n",
    "    plt.plot(x[start:end], y[start:end], format, label=label)\n",
    "    plt.xlabel(\"Date\")\n",
    "    plt.ylabel(\"Oil Volume\")\n",
    "    if label:\n",
    "        plt.legend(fontsize=14)\n",
    "    plt.grid(True)\n",
    "\n",
    "#clear session \n",
    "def refresh():\n",
    "    keras.backend.clear_session()\n",
    "    tf.random.set_seed(42)\n",
    "    np.random.seed(42)\n",
    "\n",
    "class ResetStatesCallback(Callback):\n",
    "    def on_epoch_begin(self, epoch, logs):\n",
    "        self.model.reset_states()"
   ]
  },
  {
   "cell_type": "code",
   "execution_count": 7,
   "id": "c5d2c9fa",
   "metadata": {
    "colab": {
     "base_uri": "https://localhost:8080/",
     "height": 406
    },
    "id": "44685c64-c61f-431d-8527-cd77d346bf81",
    "outputId": "06e5798d-f394-41f8-aa2c-b796557aa3a3"
   },
   "outputs": [
    {
     "data": {
      "image/png": "[encoded data removed]",
      "text/plain": [
       "<Figure size 720x432 with 1 Axes>"
      ]
     },
     "metadata": {
      "needs_background": "light"
     },
     "output_type": "display_data"
    },
    {
     "data": {
      "text/plain": [
       "array([0.02893164, 0.19711331, 0.33021031, ..., 0.05548122, 0.05499314,\n",
       "       0.017832  ])"
      ]
     },
     "execution_count": 7,
     "metadata": {},
     "output_type": "execute_result"
    }
   ],
   "source": [
    "oil_data = scaled_df.BORE_OIL_VOL.to_numpy()\n",
    "oil_cum = np.cumsum(oil_data)\n",
    "\n",
    "plt.figure(figsize=(10, 6))\n",
    "plot_series(date, oil_data, label=\"Daily Production\")\n",
    "plt.show()\n",
    "\n",
    "oil_data"
   ]
  },
  {
   "cell_type": "code",
   "execution_count": 8,
   "id": "c3b815ea",
   "metadata": {
    "colab": {
     "base_uri": "https://localhost:8080/",
     "height": 399
    },
    "id": "b_-y42SlpiVs",
    "outputId": "b7aa6333-39eb-40e4-9533-ab142116fd47"
   },
   "outputs": [
    {
     "data": {
      "image/png": "[encoded data removed]",
      "text/plain": [
       "<Figure size 720x432 with 1 Axes>"
      ]
     },
     "metadata": {
      "needs_background": "light"
     },
     "output_type": "display_data"
    }
   ],
   "source": [
    "plt.figure(figsize=(10, 6))\n",
    "plot_series(date, oil_cum, label=\"Cummulative Oil Production\")\n",
    "plt.show()"
   ]
  },
  {
   "cell_type": "code",
   "execution_count": 9,
   "id": "a1b1d3b4",
   "metadata": {
    "colab": {
     "base_uri": "https://localhost:8080/"
    },
    "id": "7696660b",
    "outputId": "37f70c06-16f1-4b7f-e6a2-b0f2bd5eaa50"
   },
   "outputs": [
    {
     "name": "stdout",
     "output_type": "stream",
     "text": [
      "(2750,) (306,) (2750,) (306,)\n"
     ]
    }
   ],
   "source": [
    "#split the time series into training and validation sets\n",
    "split_date = 2750\n",
    "\n",
    "date_train = date[:split_date]\n",
    "date_valid = date[split_date:]\n",
    "\n",
    "x_train = oil_data[:split_date]\n",
    "x_valid = oil_data[split_date:]\n",
    "\n",
    "print(x_train.shape, x_valid.shape, date_train.shape, date_valid.shape)"
   ]
  },
  {
   "cell_type": "markdown",
   "id": "93c16a40",
   "metadata": {
    "id": "ZoszA02TqC46",
    "jp-MarkdownHeadingCollapsed": true,
    "tags": []
   },
   "source": [
    "# NAIVE Forecast"
   ]
  },
  {
   "cell_type": "code",
   "execution_count": 10,
   "id": "bb76072f",
   "metadata": {
    "id": "xBbtdVCoqQX3"
   },
   "outputs": [],
   "source": [
    "naive_forecast = oil_data[split_date - 1:-1]"
   ]
  },
  {
   "cell_type": "code",
   "execution_count": 24,
   "id": "6eb401fb",
   "metadata": {
    "colab": {
     "base_uri": "https://localhost:8080/",
     "height": 388
    },
    "id": "85-VSlcZraYF",
    "outputId": "1358da74-0361-41e9-b94d-e4a8c0ce275c"
   },
   "outputs": [
    {
     "data": {
      "image/png": "[encoded data removed]",
      "text/plain": [
       "<Figure size 720x432 with 1 Axes>"
      ]
     },
     "metadata": {
      "needs_background": "light"
     },
     "output_type": "display_data"
    }
   ],
   "source": [
    "plt.figure(figsize=(10, 6))\n",
    "plot_series(date_valid, x_valid, label=\"Actual\")\n",
    "plot_series(date_valid, naive_forecast, label=\"Naive Forecast\")\n",
    "\n",
    "plt.show()"
   ]
  },
  {
   "cell_type": "code",
   "execution_count": 21,
   "id": "ccd3e7d1",
   "metadata": {
    "colab": {
     "base_uri": "https://localhost:8080/"
    },
    "id": "GYOr_jvNsMXB",
    "outputId": "11485910-5566-4f81-9253-d0f617ba74b8"
   },
   "outputs": [
    {
     "name": "stdout",
     "output_type": "stream",
     "text": [
      "mae = 0.004702322219421191, \n",
      "mse = 9.484648724355615e-05, \n",
      "rmse = 0.009738916122626591\n"
     ]
    }
   ],
   "source": [
    "mae = keras.metrics.mean_absolute_error(x_valid, naive_forecast).numpy()\n",
    "mse = keras.metrics.mean_squared_error(x_valid, naive_forecast).numpy()\n",
    "rmse = math.sqrt(mse)\n",
    "\n",
    "print(f'mae = {mae}, \\nmse = {mse}, \\nrmse = {rmse}')"
   ]
  },
  {
   "cell_type": "markdown",
   "id": "01a6ab68",
   "metadata": {
    "id": "YJzeJRPQryVu",
    "jp-MarkdownHeadingCollapsed": true,
    "tags": []
   },
   "source": [
    "# Moving Average"
   ]
  },
  {
   "cell_type": "code",
   "execution_count": 22,
   "id": "19082d8b",
   "metadata": {
    "id": "2ezRKSFSrwxc"
   },
   "outputs": [],
   "source": [
    "def moving_average_forecast(series, window_size):\n",
    "    \"\"\"Forecasts the mean of the last few values.\n",
    "    If window_size=1, then this is equivalent to naive forecast\"\"\"\n",
    "    \n",
    "    mov = np.cumsum(series)\n",
    "    mov[window_size:] = mov[window_size:] - mov[:-window_size]\n",
    "    \n",
    "    return mov[window_size - 1:-1] / window_size"
   ]
  },
  {
   "cell_type": "code",
   "execution_count": 23,
   "id": "4002b8e8",
   "metadata": {
    "colab": {
     "base_uri": "https://localhost:8080/",
     "height": 388
    },
    "id": "mdHw0KCGs371",
    "outputId": "252abe5d-e55e-4a31-cc0f-6978f4d98194"
   },
   "outputs": [
    {
     "data": {
      "image/png": "[encoded data removed]",
      "text/plain": [
       "<Figure size 720x432 with 1 Axes>"
      ]
     },
     "metadata": {
      "needs_background": "light"
     },
     "output_type": "display_data"
    }
   ],
   "source": [
    "moving_avg = moving_average_forecast(oil_data, 30)[split_date - 30:]\n",
    "\n",
    "plt.figure(figsize=(10, 6))\n",
    "plot_series(date_valid, x_valid, label=\"Actual\")\n",
    "plot_series(date_valid, moving_avg, label=\"30-day Moving average\")\n",
    "\n",
    "plt.show()"
   ]
  },
  {
   "cell_type": "code",
   "execution_count": 25,
   "id": "caeec1e8",
   "metadata": {
    "colab": {
     "base_uri": "https://localhost:8080/"
    },
    "id": "ohcCp_DktM7S",
    "outputId": "2b88f93e-beea-4d71-c219-2d72a68dd094"
   },
   "outputs": [
    {
     "name": "stdout",
     "output_type": "stream",
     "text": [
      "mae = 0.012288786949989451, \n",
      "mse = 0.0003178901941009895, \n",
      "rmse = 0.017829475429776094\n"
     ]
    }
   ],
   "source": [
    "mae = keras.metrics.mean_absolute_error(x_valid, moving_avg).numpy()\n",
    "mse = keras.metrics.mean_squared_error(x_valid, moving_avg).numpy()\n",
    "rmse = math.sqrt(mse)\n",
    "\n",
    "print(f'mae = {mae}, \\nmse = {mse}, \\nrmse = {rmse}')"
   ]
  },
  {
   "cell_type": "markdown",
   "id": "eb33a52d",
   "metadata": {
    "id": "iNWLQHpGvZSI",
    "tags": []
   },
   "source": [
    "# Linear Model"
   ]
  },
  {
   "cell_type": "code",
   "execution_count": 65,
   "id": "f2bcddd2-17ae-4ff9-a3f5-0181297cd9f3",
   "metadata": {
    "id": "DEjoH2EqyTFk"
   },
   "outputs": [],
   "source": [
    "def window_dataset(series, window_size, batch_size=30, shuffle_buffer=100):\n",
    "    \n",
    "    dataset = tf.data.Dataset.from_tensor_slices(series)\n",
    "    dataset = dataset.window(window_size + 1, shift=1, drop_remainder=True)\n",
    "    dataset = dataset.flat_map(lambda window: window.batch(window_size + 1))\n",
    "    dataset = dataset.shuffle(shuffle_buffer)\n",
    "    dataset = dataset.map(lambda window: (window[:-1], window[-1]))\n",
    "    dataset = dataset.batch(batch_size).prefetch(2)\n",
    "    \n",
    "    return dataset\n",
    "\n",
    "\n",
    "def model_forecast(model, series, window_size):\n",
    "    \n",
    "    dataset = tf.data.Dataset.from_tensor_slices(series)\n",
    "    dataset = dataset.window(window_size, shift=1, drop_remainder=True)\n",
    "    dataset = dataset.flat_map(lambda w: w.batch(window_size))\n",
    "    dataset = dataset.batch(30).prefetch(2)\n",
    "    \n",
    "    forecast = model.predict(dataset)\n",
    "    \n",
    "    return forecast"
   ]
  },
  {
   "cell_type": "code",
   "execution_count": 57,
   "id": "e6fc0594",
   "metadata": {
    "scrolled": true,
    "tags": []
   },
   "outputs": [
    {
     "name": "stdout",
     "output_type": "stream",
     "text": [
      "Epoch 1/100\n",
      "91/91 [==============================] - 2s 6ms/step - loss: 0.2141 - mae: 0.5061\n",
      "Epoch 2/100\n",
      "91/91 [==============================] - 1s 6ms/step - loss: 0.0783 - mae: 0.2698\n",
      "Epoch 3/100\n",
      "91/91 [==============================] - 1s 6ms/step - loss: 0.0278 - mae: 0.1490\n",
      "Epoch 4/100\n",
      "91/91 [==============================] - 1s 6ms/step - loss: 0.0156 - mae: 0.1107\n",
      "Epoch 5/100\n",
      "91/91 [==============================] - 1s 6ms/step - loss: 0.0129 - mae: 0.1017\n",
      "Epoch 6/100\n",
      "91/91 [==============================] - 1s 6ms/step - loss: 0.0122 - mae: 0.0998\n",
      "Epoch 7/100\n",
      "91/91 [==============================] - 1s 6ms/step - loss: 0.0120 - mae: 0.0990A: 0s - loss: 0.0135 - mae: 0.10\n",
      "Epoch 8/100\n",
      "91/91 [==============================] - 1s 5ms/step - loss: 0.0119 - mae: 0.0980A: 0s - loss: 0.0138 - mae: 0.10\n",
      "Epoch 9/100\n",
      "91/91 [==============================] - 1s 6ms/step - loss: 0.0117 - mae: 0.0971\n",
      "Epoch 10/100\n",
      "91/91 [==============================] - 1s 6ms/step - loss: 0.0116 - mae: 0.0960A: 0s - loss: 0.0203 - mae: 0\n",
      "Epoch 11/100\n",
      "91/91 [==============================] - 1s 5ms/step - loss: 0.0115 - mae: 0.0950A: 0s - loss: 0.0145 - mae: 0.107 - ETA: 0s - loss: 0.0132 - mae: 0.10\n",
      "Epoch 12/100\n",
      "91/91 [==============================] - 1s 6ms/step - loss: 0.0113 - mae: 0.0941\n",
      "Epoch 13/100\n",
      "91/91 [==============================] - 1s 6ms/step - loss: 0.0112 - mae: 0.0929\n",
      "Epoch 14/100\n",
      "91/91 [==============================] - 1s 6ms/step - loss: 0.0110 - mae: 0.0919A: 0s - loss: 0.0214 - mae: \n",
      "Epoch 15/100\n",
      "91/91 [==============================] - 1s 5ms/step - loss: 0.0109 - mae: 0.0909\n",
      "Epoch 16/100\n",
      "91/91 [==============================] - 1s 5ms/step - loss: 0.0108 - mae: 0.0899\n",
      "Epoch 17/100\n",
      "91/91 [==============================] - 1s 6ms/step - loss: 0.0106 - mae: 0.0889\n",
      "Epoch 18/100\n",
      "91/91 [==============================] - 1s 6ms/step - loss: 0.0104 - mae: 0.0876\n",
      "Epoch 19/100\n",
      "91/91 [==============================] - 1s 6ms/step - loss: 0.0103 - mae: 0.0865\n",
      "Epoch 20/100\n",
      "91/91 [==============================] - 1s 5ms/step - loss: 0.0102 - mae: 0.0856\n",
      "Epoch 21/100\n",
      "91/91 [==============================] - 1s 6ms/step - loss: 0.0100 - mae: 0.0847\n",
      "Epoch 22/100\n",
      "91/91 [==============================] - 1s 5ms/step - loss: 0.0098 - mae: 0.0834\n",
      "Epoch 23/100\n",
      "91/91 [==============================] - 1s 5ms/step - loss: 0.0097 - mae: 0.0828\n",
      "Epoch 24/100\n",
      "91/91 [==============================] - 1s 5ms/step - loss: 0.0096 - mae: 0.0816\n",
      "Epoch 25/100\n",
      "91/91 [==============================] - 0s 5ms/step - loss: 0.0094 - mae: 0.0809\n",
      "Epoch 26/100\n",
      "91/91 [==============================] - 1s 5ms/step - loss: 0.0092 - mae: 0.0798\n",
      "Epoch 27/100\n",
      "91/91 [==============================] - 1s 5ms/step - loss: 0.0091 - mae: 0.0793\n",
      "Epoch 28/100\n",
      "91/91 [==============================] - 1s 5ms/step - loss: 0.0089 - mae: 0.0785A: 0s - loss: 0.0105 - mae: 0.08\n",
      "Epoch 29/100\n",
      "91/91 [==============================] - 1s 5ms/step - loss: 0.0088 - mae: 0.0777\n",
      "Epoch 30/100\n",
      "91/91 [==============================] - 1s 6ms/step - loss: 0.0086 - mae: 0.0771\n",
      "Epoch 31/100\n",
      "91/91 [==============================] - 1s 6ms/step - loss: 0.0085 - mae: 0.0763\n",
      "Epoch 32/100\n",
      "91/91 [==============================] - 1s 7ms/step - loss: 0.0083 - mae: 0.0757\n",
      "Epoch 33/100\n",
      "91/91 [==============================] - 1s 6ms/step - loss: 0.0081 - mae: 0.0749\n",
      "Epoch 34/100\n",
      "91/91 [==============================] - 1s 6ms/step - loss: 0.0080 - mae: 0.0741\n",
      "Epoch 35/100\n",
      "91/91 [==============================] - 1s 7ms/step - loss: 0.0078 - mae: 0.0735A: 0s - loss: 0.0116 - mae: 0\n",
      "Epoch 36/100\n",
      "91/91 [==============================] - 1s 6ms/step - loss: 0.0076 - mae: 0.0727\n",
      "Epoch 37/100\n",
      "91/91 [==============================] - 1s 5ms/step - loss: 0.0075 - mae: 0.0722\n",
      "Epoch 38/100\n",
      "91/91 [==============================] - 1s 6ms/step - loss: 0.0073 - mae: 0.0713\n",
      "Epoch 39/100\n",
      "91/91 [==============================] - 1s 5ms/step - loss: 0.0072 - mae: 0.0705\n",
      "Epoch 40/100\n",
      "91/91 [==============================] - 1s 5ms/step - loss: 0.0070 - mae: 0.0699A: 0s - loss: 0.0091 - mae: 0.081 - ETA: 0s - loss: 0.0083 - mae: 0.07\n",
      "Epoch 41/100\n",
      "91/91 [==============================] - 1s 5ms/step - loss: 0.0069 - mae: 0.0693\n",
      "Epoch 42/100\n",
      "91/91 [==============================] - 1s 5ms/step - loss: 0.0067 - mae: 0.0685\n",
      "Epoch 43/100\n",
      "91/91 [==============================] - 1s 6ms/step - loss: 0.0066 - mae: 0.0681\n",
      "Epoch 44/100\n",
      "91/91 [==============================] - 1s 6ms/step - loss: 0.0064 - mae: 0.0671\n",
      "Epoch 45/100\n",
      "91/91 [==============================] - 1s 6ms/step - loss: 0.0063 - mae: 0.0668\n",
      "Epoch 46/100\n",
      "91/91 [==============================] - 1s 6ms/step - loss: 0.0062 - mae: 0.0658\n",
      "Epoch 47/100\n",
      "91/91 [==============================] - 0s 5ms/step - loss: 0.0060 - mae: 0.0649A: 0s - loss: 0.0143 - mae: \n",
      "Epoch 48/100\n",
      "91/91 [==============================] - 1s 6ms/step - loss: 0.0059 - mae: 0.0645\n",
      "Epoch 49/100\n",
      "91/91 [==============================] - 0s 5ms/step - loss: 0.0058 - mae: 0.0640\n",
      "Epoch 50/100\n",
      "91/91 [==============================] - 1s 5ms/step - loss: 0.0056 - mae: 0.0627\n",
      "Epoch 51/100\n",
      "91/91 [==============================] - 1s 5ms/step - loss: 0.0055 - mae: 0.0625\n",
      "Epoch 52/100\n",
      "91/91 [==============================] - 1s 6ms/step - loss: 0.0054 - mae: 0.0612\n",
      "Epoch 53/100\n",
      "91/91 [==============================] - 1s 5ms/step - loss: 0.0053 - mae: 0.0605\n",
      "Epoch 54/100\n",
      "91/91 [==============================] - 1s 6ms/step - loss: 0.0053 - mae: 0.0607\n",
      "Epoch 55/100\n",
      "91/91 [==============================] - 1s 5ms/step - loss: 0.0051 - mae: 0.0597\n",
      "Epoch 56/100\n",
      "91/91 [==============================] - 1s 5ms/step - loss: 0.0051 - mae: 0.0597A: 0s - loss: 0.0095 - mae: 0\n",
      "Epoch 57/100\n",
      "91/91 [==============================] - 0s 5ms/step - loss: 0.0048 - mae: 0.0578\n",
      "Epoch 58/100\n",
      "91/91 [==============================] - 0s 5ms/step - loss: 0.0047 - mae: 0.0573\n",
      "Epoch 59/100\n",
      "91/91 [==============================] - 1s 5ms/step - loss: 0.0046 - mae: 0.0567\n",
      "Epoch 60/100\n",
      "91/91 [==============================] - 1s 5ms/step - loss: 0.0047 - mae: 0.0577\n",
      "Epoch 61/100\n",
      "91/91 [==============================] - 1s 5ms/step - loss: 0.0046 - mae: 0.0575\n",
      "Epoch 62/100\n",
      "91/91 [==============================] - 1s 5ms/step - loss: 0.0043 - mae: 0.0552\n",
      "Epoch 63/100\n",
      "91/91 [==============================] - 1s 6ms/step - loss: 0.0043 - mae: 0.0545\n",
      "Epoch 64/100\n",
      "91/91 [==============================] - 1s 6ms/step - loss: 0.0043 - mae: 0.0547\n",
      "Epoch 65/100\n",
      "91/91 [==============================] - 1s 6ms/step - loss: 0.0041 - mae: 0.0510\n",
      "Epoch 66/100\n",
      "91/91 [==============================] - 1s 5ms/step - loss: 0.0040 - mae: 0.0537\n",
      "Epoch 67/100\n",
      "91/91 [==============================] - 1s 6ms/step - loss: 0.0039 - mae: 0.0502\n",
      "Epoch 68/100\n",
      "91/91 [==============================] - 1s 6ms/step - loss: 0.0038 - mae: 0.0487\n",
      "Epoch 69/100\n",
      "91/91 [==============================] - 1s 6ms/step - loss: 0.0038 - mae: 0.0484A: 0s - loss: 0.0044 - mae: 0.0\n",
      "Epoch 70/100\n",
      "91/91 [==============================] - 1s 6ms/step - loss: 0.0037 - mae: 0.0474\n",
      "Epoch 71/100\n",
      "91/91 [==============================] - 1s 6ms/step - loss: 0.0039 - mae: 0.0507\n",
      "Epoch 72/100\n",
      "91/91 [==============================] - 1s 6ms/step - loss: 0.0037 - mae: 0.0473\n",
      "Epoch 73/100\n",
      "91/91 [==============================] - 1s 5ms/step - loss: 0.0035 - mae: 0.0455\n",
      "Epoch 74/100\n",
      "91/91 [==============================] - 1s 5ms/step - loss: 0.0036 - mae: 0.0455\n",
      "Epoch 75/100\n",
      "91/91 [==============================] - 1s 5ms/step - loss: 0.0037 - mae: 0.0481\n",
      "Epoch 76/100\n",
      "91/91 [==============================] - 0s 5ms/step - loss: 0.0036 - mae: 0.0464\n",
      "Epoch 77/100\n",
      "91/91 [==============================] - 0s 5ms/step - loss: 0.0034 - mae: 0.0442\n",
      "Epoch 78/100\n",
      "91/91 [==============================] - 0s 5ms/step - loss: 0.0034 - mae: 0.0441\n",
      "Epoch 79/100\n",
      "91/91 [==============================] - 1s 6ms/step - loss: 0.0035 - mae: 0.0452\n",
      "Epoch 80/100\n",
      "91/91 [==============================] - 1s 5ms/step - loss: 0.0039 - mae: 0.0491\n",
      "Epoch 81/100\n",
      "91/91 [==============================] - 1s 6ms/step - loss: 0.0035 - mae: 0.0450\n",
      "Epoch 82/100\n",
      "91/91 [==============================] - 1s 5ms/step - loss: 0.0039 - mae: 0.0522\n",
      "Epoch 83/100\n",
      "91/91 [==============================] - 1s 6ms/step - loss: 0.0037 - mae: 0.0475\n",
      "Epoch 84/100\n",
      "91/91 [==============================] - 1s 5ms/step - loss: 0.0036 - mae: 0.0474\n",
      "Epoch 85/100\n",
      "91/91 [==============================] - 1s 5ms/step - loss: 0.0034 - mae: 0.0425\n",
      "Epoch 86/100\n",
      "91/91 [==============================] - 1s 6ms/step - loss: 0.0036 - mae: 0.0446\n",
      "Epoch 87/100\n",
      "91/91 [==============================] - 1s 5ms/step - loss: 0.0059 - mae: 0.0681\n",
      "Epoch 88/100\n",
      "91/91 [==============================] - 1s 6ms/step - loss: 0.0041 - mae: 0.0509\n",
      "Epoch 89/100\n",
      "91/91 [==============================] - 0s 5ms/step - loss: 0.0045 - mae: 0.0529\n",
      "Epoch 90/100\n",
      "91/91 [==============================] - 1s 5ms/step - loss: 0.0037 - mae: 0.0485\n",
      "Epoch 91/100\n",
      "91/91 [==============================] - 1s 5ms/step - loss: 0.0045 - mae: 0.0538\n",
      "Epoch 92/100\n",
      "91/91 [==============================] - 0s 5ms/step - loss: 0.0055 - mae: 0.0650\n",
      "Epoch 93/100\n",
      "91/91 [==============================] - 1s 6ms/step - loss: 0.0055 - mae: 0.0598\n",
      "Epoch 94/100\n",
      "91/91 [==============================] - 1s 5ms/step - loss: 0.0055 - mae: 0.0626\n",
      "Epoch 95/100\n",
      "91/91 [==============================] - 1s 6ms/step - loss: 0.0051 - mae: 0.0570\n",
      "Epoch 96/100\n",
      "91/91 [==============================] - 1s 6ms/step - loss: 0.0040 - mae: 0.0510\n",
      "Epoch 97/100\n",
      "91/91 [==============================] - 1s 5ms/step - loss: 0.0097 - mae: 0.0895\n",
      "Epoch 98/100\n",
      "91/91 [==============================] - 1s 6ms/step - loss: 0.0093 - mae: 0.0751\n",
      "Epoch 99/100\n",
      "91/91 [==============================] - 1s 5ms/step - loss: 0.0201 - mae: 0.1135\n",
      "Epoch 100/100\n",
      "91/91 [==============================] - 1s 5ms/step - loss: 0.0494 - mae: 0.1821\n"
     ]
    }
   ],
   "source": [
    "refresh()\n",
    "\n",
    "window_size = 30\n",
    "\n",
    "train_set = window_dataset(x_train, window_size)\n",
    "\n",
    "model = Sequential( [ Dense(1, input_shape=[window_size]) ] )\n",
    "\n",
    "lr_schedule = LearningRateScheduler(\n",
    "                lambda epoch: 1e-4 * 10**(epoch / 30)\n",
    "                )\n",
    "\n",
    "optimizer = keras.optimizers.SGD(learning_rate=1e-4, momentum=0.9)\n",
    "\n",
    "model.compile(loss=keras.losses.Huber(),\n",
    "              optimizer=optimizer,\n",
    "              metrics=[\"mae\"])\n",
    "\n",
    "history = model.fit(train_set, epochs=100, callbacks=[lr_schedule])"
   ]
  },
  {
   "cell_type": "code",
   "execution_count": 61,
   "id": "8aefdd30",
   "metadata": {
    "colab": {
     "base_uri": "https://localhost:8080/",
     "height": 287
    },
    "id": "WmpdBlM8xWwD",
    "outputId": "62832d3b-731d-43b2-c554-8da8b6480c80"
   },
   "outputs": [
    {
     "data": {
      "image/png": "[encoded data removed]",
      "text/plain": [
       "<Figure size 432x288 with 1 Axes>"
      ]
     },
     "metadata": {
      "needs_background": "light"
     },
     "output_type": "display_data"
    },
    {
     "data": {
      "text/plain": [
       "0.21413861215114594"
      ]
     },
     "execution_count": 61,
     "metadata": {},
     "output_type": "execute_result"
    }
   ],
   "source": [
    "plt.semilogx(history.history[\"lr\"], history.history[\"loss\"])\n",
    "plt.axis([5e-5, 5e-1, 0, 0.3])\n",
    "\n",
    "plt.show()\n",
    "\n",
    "max(history.history[\"loss\"])"
   ]
  },
  {
   "cell_type": "code",
   "execution_count": 77,
   "id": "9ad6204b",
   "metadata": {
    "colab": {
     "base_uri": "https://localhost:8080/"
    },
    "id": "W9LyiD-HyIzl",
    "outputId": "48d9cdc7-8959-41ef-b90b-459dd0d18351",
    "scrolled": true,
    "tags": []
   },
   "outputs": [
    {
     "name": "stdout",
     "output_type": "stream",
     "text": [
      "Epoch 1/500\n",
      "91/91 [==============================] - 2s 14ms/step - loss: 0.1240 - mae: 0.3255 - val_loss: 0.0014 - val_mae: 0.0489\n",
      "Epoch 2/500\n",
      "91/91 [==============================] - 1s 9ms/step - loss: 0.0195 - mae: 0.1141 - val_loss: 5.3121e-04 - val_mae: 0.0274\n",
      "Epoch 3/500\n",
      "91/91 [==============================] - 1s 7ms/step - loss: 0.0190 - mae: 0.1139 - val_loss: 4.8160e-04 - val_mae: 0.0259\n",
      "Epoch 4/500\n",
      "91/91 [==============================] - 1s 7ms/step - loss: 0.0183 - mae: 0.1108 - val_loss: 4.0481e-04 - val_mae: 0.0234\n",
      "Epoch 5/500\n",
      "91/91 [==============================] - 1s 8ms/step - loss: 0.0176 - mae: 0.1086 - val_loss: 3.9151e-04 - val_mae: 0.0229\n",
      "Epoch 6/500\n",
      "91/91 [==============================] - 1s 7ms/step - loss: 0.0169 - mae: 0.1060 - val_loss: 3.5409e-04 - val_mae: 0.0216\n",
      "Epoch 7/500\n",
      "91/91 [==============================] - 1s 9ms/step - loss: 0.0164 - mae: 0.1037 - val_loss: 3.2744e-04 - val_mae: 0.0206\n",
      "Epoch 8/500\n",
      "91/91 [==============================] - 1s 7ms/step - loss: 0.0158 - mae: 0.1025 - val_loss: 3.2493e-04 - val_mae: 0.0204\n",
      "Epoch 9/500\n",
      "91/91 [==============================] - 1s 8ms/step - loss: 0.0153 - mae: 0.1002 - val_loss: 2.9813e-04 - val_mae: 0.0194\n",
      "Epoch 10/500\n",
      "91/91 [==============================] - 1s 8ms/step - loss: 0.0148 - mae: 0.0989 - val_loss: 2.8354e-04 - val_mae: 0.0188\n",
      "Epoch 11/500\n",
      "91/91 [==============================] - 1s 8ms/step - loss: 0.0144 - mae: 0.0972 - val_loss: 2.7027e-04 - val_mae: 0.0182\n",
      "Epoch 12/500\n",
      "91/91 [==============================] - 1s 7ms/step - loss: 0.0140 - mae: 0.0956 - val_loss: 2.5196e-04 - val_mae: 0.0174\n",
      "Epoch 13/500\n",
      "91/91 [==============================] - 1s 7ms/step - loss: 0.0136 - mae: 0.0942 - val_loss: 2.4544e-04 - val_mae: 0.0172\n",
      "Epoch 14/500\n",
      "91/91 [==============================] - 1s 7ms/step - loss: 0.0132 - mae: 0.0929 - val_loss: 2.4007e-04 - val_mae: 0.0170\n",
      "Epoch 15/500\n",
      "91/91 [==============================] - 1s 8ms/step - loss: 0.0129 - mae: 0.0920 - val_loss: 2.4575e-04 - val_mae: 0.0173\n",
      "Epoch 16/500\n",
      "91/91 [==============================] - 1s 7ms/step - loss: 0.0125 - mae: 0.0904 - val_loss: 2.3323e-04 - val_mae: 0.0168\n",
      "Epoch 17/500\n",
      "91/91 [==============================] - 1s 7ms/step - loss: 0.0122 - mae: 0.0895 - val_loss: 2.3045e-04 - val_mae: 0.0167\n",
      "Epoch 18/500\n",
      "91/91 [==============================] - 1s 7ms/step - loss: 0.0119 - mae: 0.0885 - val_loss: 2.2005e-04 - val_mae: 0.0162\n",
      "Epoch 19/500\n",
      "91/91 [==============================] - 1s 7ms/step - loss: 0.0116 - mae: 0.0876 - val_loss: 2.1472e-04 - val_mae: 0.0160\n",
      "Epoch 20/500\n",
      "91/91 [==============================] - 1s 7ms/step - loss: 0.0113 - mae: 0.0863 - val_loss: 2.1537e-04 - val_mae: 0.0161\n",
      "Epoch 21/500\n",
      "91/91 [==============================] - 1s 9ms/step - loss: 0.0111 - mae: 0.0853 - val_loss: 2.1454e-04 - val_mae: 0.0161\n",
      "Epoch 22/500\n",
      "91/91 [==============================] - 1s 8ms/step - loss: 0.0108 - mae: 0.0845 - val_loss: 2.1273e-04 - val_mae: 0.0160\n",
      "Epoch 23/500\n",
      "91/91 [==============================] - 1s 6ms/step - loss: 0.0106 - mae: 0.0834 - val_loss: 2.0174e-04 - val_mae: 0.0155\n",
      "Epoch 24/500\n",
      "91/91 [==============================] - 1s 6ms/step - loss: 0.0104 - mae: 0.0826 - val_loss: 2.0401e-04 - val_mae: 0.0157\n",
      "Epoch 25/500\n",
      "91/91 [==============================] - 1s 7ms/step - loss: 0.0102 - mae: 0.0819 - val_loss: 1.9576e-04 - val_mae: 0.0153\n",
      "Epoch 26/500\n",
      "91/91 [==============================] - 1s 9ms/step - loss: 0.0100 - mae: 0.0813 - val_loss: 1.9961e-04 - val_mae: 0.0155\n",
      "Epoch 27/500\n",
      "91/91 [==============================] - 1s 8ms/step - loss: 0.0098 - mae: 0.0800 - val_loss: 1.8740e-04 - val_mae: 0.0149\n",
      "Epoch 28/500\n",
      "91/91 [==============================] - 1s 7ms/step - loss: 0.0096 - mae: 0.0794 - val_loss: 1.8605e-04 - val_mae: 0.0149\n",
      "Epoch 29/500\n",
      "91/91 [==============================] - 1s 7ms/step - loss: 0.0094 - mae: 0.0790 - val_loss: 1.8801e-04 - val_mae: 0.0150\n",
      "Epoch 30/500\n",
      "91/91 [==============================] - 1s 7ms/step - loss: 0.0093 - mae: 0.0783 - val_loss: 1.8357e-04 - val_mae: 0.0148\n",
      "Epoch 31/500\n",
      "91/91 [==============================] - 1s 9ms/step - loss: 0.0091 - mae: 0.0777 - val_loss: 1.8042e-04 - val_mae: 0.0147\n",
      "Epoch 32/500\n",
      "91/91 [==============================] - 1s 8ms/step - loss: 0.0090 - mae: 0.0769 - val_loss: 1.7611e-04 - val_mae: 0.0145\n",
      "Epoch 33/500\n",
      "91/91 [==============================] - 1s 7ms/step - loss: 0.0088 - mae: 0.0762 - val_loss: 1.7266e-04 - val_mae: 0.0144\n",
      "Epoch 34/500\n",
      "91/91 [==============================] - 1s 7ms/step - loss: 0.0087 - mae: 0.0763 - val_loss: 1.7721e-04 - val_mae: 0.0146\n",
      "Epoch 35/500\n",
      "91/91 [==============================] - 1s 7ms/step - loss: 0.0086 - mae: 0.0752 - val_loss: 1.7457e-04 - val_mae: 0.0145\n",
      "Epoch 36/500\n",
      "91/91 [==============================] - 1s 7ms/step - loss: 0.0084 - mae: 0.0748 - val_loss: 1.7756e-04 - val_mae: 0.0147\n",
      "Epoch 37/500\n",
      "91/91 [==============================] - 1s 7ms/step - loss: 0.0083 - mae: 0.0741 - val_loss: 1.7011e-04 - val_mae: 0.0143\n",
      "Epoch 38/500\n",
      "91/91 [==============================] - 1s 8ms/step - loss: 0.0082 - mae: 0.0740 - val_loss: 1.6996e-04 - val_mae: 0.0143\n",
      "Epoch 39/500\n",
      "91/91 [==============================] - 1s 6ms/step - loss: 0.0081 - mae: 0.0732 - val_loss: 1.6020e-04 - val_mae: 0.0138\n",
      "Epoch 40/500\n",
      "91/91 [==============================] - 1s 7ms/step - loss: 0.0080 - mae: 0.0730 - val_loss: 1.6424e-04 - val_mae: 0.0141\n",
      "Epoch 41/500\n",
      "91/91 [==============================] - 1s 7ms/step - loss: 0.0079 - mae: 0.0723 - val_loss: 1.6320e-04 - val_mae: 0.0141\n",
      "Epoch 42/500\n",
      "91/91 [==============================] - 1s 7ms/step - loss: 0.0078 - mae: 0.0722 - val_loss: 1.6401e-04 - val_mae: 0.0141\n",
      "Epoch 43/500\n",
      "91/91 [==============================] - 1s 7ms/step - loss: 0.0077 - mae: 0.0716 - val_loss: 1.6469e-04 - val_mae: 0.0142\n",
      "Epoch 44/500\n",
      "91/91 [==============================] - 1s 7ms/step - loss: 0.0076 - mae: 0.0711 - val_loss: 1.5331e-04 - val_mae: 0.0135\n",
      "Epoch 45/500\n",
      "91/91 [==============================] - 1s 7ms/step - loss: 0.0075 - mae: 0.0708 - val_loss: 1.5486e-04 - val_mae: 0.0136\n",
      "Epoch 46/500\n",
      "91/91 [==============================] - 1s 6ms/step - loss: 0.0074 - mae: 0.0705 - val_loss: 1.5363e-04 - val_mae: 0.0136\n",
      "Epoch 47/500\n",
      "91/91 [==============================] - 1s 6ms/step - loss: 0.0073 - mae: 0.0700 - val_loss: 1.4739e-04 - val_mae: 0.0132\n",
      "Epoch 48/500\n",
      "91/91 [==============================] - 1s 7ms/step - loss: 0.0073 - mae: 0.0694 - val_loss: 1.4343e-04 - val_mae: 0.0130\n",
      "Epoch 49/500\n",
      "91/91 [==============================] - 1s 7ms/step - loss: 0.0072 - mae: 0.0691 - val_loss: 1.4441e-04 - val_mae: 0.0131\n",
      "Epoch 50/500\n",
      "91/91 [==============================] - 1s 7ms/step - loss: 0.0071 - mae: 0.0689 - val_loss: 1.5214e-04 - val_mae: 0.0136\n",
      "Epoch 51/500\n",
      "91/91 [==============================] - 1s 7ms/step - loss: 0.0070 - mae: 0.0686 - val_loss: 1.4760e-04 - val_mae: 0.0133\n",
      "Epoch 52/500\n",
      "91/91 [==============================] - 1s 7ms/step - loss: 0.0070 - mae: 0.0680 - val_loss: 1.4212e-04 - val_mae: 0.0130\n",
      "Epoch 53/500\n",
      "91/91 [==============================] - 1s 7ms/step - loss: 0.0069 - mae: 0.0679 - val_loss: 1.4549e-04 - val_mae: 0.0132\n",
      "Epoch 54/500\n",
      "91/91 [==============================] - 1s 7ms/step - loss: 0.0068 - mae: 0.0675 - val_loss: 1.4404e-04 - val_mae: 0.0132\n",
      "Epoch 55/500\n",
      "91/91 [==============================] - 1s 6ms/step - loss: 0.0068 - mae: 0.0673 - val_loss: 1.4136e-04 - val_mae: 0.0130\n",
      "Epoch 56/500\n",
      "91/91 [==============================] - 1s 7ms/step - loss: 0.0067 - mae: 0.0669 - val_loss: 1.3720e-04 - val_mae: 0.0128\n",
      "Epoch 57/500\n",
      "91/91 [==============================] - 1s 7ms/step - loss: 0.0066 - mae: 0.0667 - val_loss: 1.3788e-04 - val_mae: 0.0128\n",
      "Epoch 58/500\n",
      "91/91 [==============================] - 1s 7ms/step - loss: 0.0066 - mae: 0.0661 - val_loss: 1.3470e-04 - val_mae: 0.0126\n",
      "Epoch 59/500\n",
      "91/91 [==============================] - 1s 7ms/step - loss: 0.0065 - mae: 0.0660 - val_loss: 1.2981e-04 - val_mae: 0.0123\n",
      "Epoch 60/500\n",
      "91/91 [==============================] - 1s 7ms/step - loss: 0.0065 - mae: 0.0656 - val_loss: 1.2739e-04 - val_mae: 0.0122\n",
      "Epoch 61/500\n",
      "91/91 [==============================] - 1s 7ms/step - loss: 0.0064 - mae: 0.0657 - val_loss: 1.3195e-04 - val_mae: 0.0125\n",
      "Epoch 62/500\n",
      "91/91 [==============================] - 1s 6ms/step - loss: 0.0064 - mae: 0.0651 - val_loss: 1.2459e-04 - val_mae: 0.0120\n",
      "Epoch 63/500\n",
      "91/91 [==============================] - 1s 7ms/step - loss: 0.0063 - mae: 0.0648 - val_loss: 1.2600e-04 - val_mae: 0.0121\n",
      "Epoch 64/500\n",
      "91/91 [==============================] - 1s 7ms/step - loss: 0.0063 - mae: 0.0649 - val_loss: 1.2451e-04 - val_mae: 0.0120\n",
      "Epoch 65/500\n",
      "91/91 [==============================] - 1s 6ms/step - loss: 0.0062 - mae: 0.0645 - val_loss: 1.2269e-04 - val_mae: 0.0119\n",
      "Epoch 66/500\n",
      "91/91 [==============================] - 1s 7ms/step - loss: 0.0062 - mae: 0.0638 - val_loss: 1.2007e-04 - val_mae: 0.0118\n",
      "Epoch 67/500\n",
      "91/91 [==============================] - ETA: 0s - loss: 0.0066 - mae: 0.067 - 1s 6ms/step - loss: 0.0061 - mae: 0.0638 - val_loss: 1.1974e-04 - val_mae: 0.0117\n",
      "Epoch 68/500\n",
      "91/91 [==============================] - 1s 6ms/step - loss: 0.0061 - mae: 0.0636 - val_loss: 1.2253e-04 - val_mae: 0.0119\n",
      "Epoch 69/500\n",
      "91/91 [==============================] - 1s 7ms/step - loss: 0.0061 - mae: 0.0632 - val_loss: 1.1708e-04 - val_mae: 0.0116\n",
      "Epoch 70/500\n",
      "91/91 [==============================] - 1s 7ms/step - loss: 0.0060 - mae: 0.0631 - val_loss: 1.1874e-04 - val_mae: 0.0117\n",
      "Epoch 71/500\n",
      "91/91 [==============================] - 1s 7ms/step - loss: 0.0060 - mae: 0.0630 - val_loss: 1.1559e-04 - val_mae: 0.0115\n",
      "Epoch 72/500\n",
      "91/91 [==============================] - 1s 7ms/step - loss: 0.0059 - mae: 0.0628 - val_loss: 1.1944e-04 - val_mae: 0.0118\n",
      "Epoch 73/500\n",
      "91/91 [==============================] - 1s 7ms/step - loss: 0.0059 - mae: 0.0624 - val_loss: 1.1517e-04 - val_mae: 0.0115\n",
      "Epoch 74/500\n",
      "91/91 [==============================] - 1s 7ms/step - loss: 0.0059 - mae: 0.0623 - val_loss: 1.1776e-04 - val_mae: 0.0117\n",
      "Epoch 75/500\n",
      "91/91 [==============================] - 1s 7ms/step - loss: 0.0059 - mae: 0.0620 - val_loss: 1.1513e-04 - val_mae: 0.0115\n",
      "Epoch 76/500\n",
      "91/91 [==============================] - 1s 6ms/step - loss: 0.0058 - mae: 0.0618 - val_loss: 1.1140e-04 - val_mae: 0.0113\n",
      "Epoch 77/500\n",
      "91/91 [==============================] - 1s 7ms/step - loss: 0.0058 - mae: 0.0622 - val_loss: 1.1877e-04 - val_mae: 0.0118\n",
      "Epoch 78/500\n",
      "91/91 [==============================] - 1s 6ms/step - loss: 0.0057 - mae: 0.0613 - val_loss: 1.1148e-04 - val_mae: 0.0113\n",
      "Epoch 79/500\n",
      "91/91 [==============================] - 1s 6ms/step - loss: 0.0057 - mae: 0.0613 - val_loss: 1.1518e-04 - val_mae: 0.0116\n",
      "Epoch 80/500\n",
      "91/91 [==============================] - 1s 7ms/step - loss: 0.0057 - mae: 0.0611 - val_loss: 1.1356e-04 - val_mae: 0.0115\n",
      "Epoch 81/500\n",
      "91/91 [==============================] - 1s 7ms/step - loss: 0.0057 - mae: 0.0611 - val_loss: 1.1630e-04 - val_mae: 0.0117\n",
      "Epoch 82/500\n",
      "91/91 [==============================] - 1s 7ms/step - loss: 0.0056 - mae: 0.0606 - val_loss: 1.1296e-04 - val_mae: 0.0115\n",
      "Epoch 83/500\n",
      "91/91 [==============================] - 1s 7ms/step - loss: 0.0056 - mae: 0.0606 - val_loss: 1.1574e-04 - val_mae: 0.0117\n",
      "Epoch 84/500\n",
      "91/91 [==============================] - 1s 6ms/step - loss: 0.0055 - mae: 0.0605 - val_loss: 1.1471e-04 - val_mae: 0.0116\n",
      "Epoch 85/500\n",
      "91/91 [==============================] - 1s 7ms/step - loss: 0.0055 - mae: 0.0601 - val_loss: 1.0690e-04 - val_mae: 0.0111\n",
      "Epoch 86/500\n",
      "91/91 [==============================] - 1s 7ms/step - loss: 0.0055 - mae: 0.0605 - val_loss: 1.0984e-04 - val_mae: 0.0113\n",
      "Epoch 87/500\n",
      "91/91 [==============================] - 1s 7ms/step - loss: 0.0055 - mae: 0.0599 - val_loss: 1.0872e-04 - val_mae: 0.0112\n",
      "Epoch 88/500\n",
      "91/91 [==============================] - 1s 6ms/step - loss: 0.0054 - mae: 0.0596 - val_loss: 1.0183e-04 - val_mae: 0.0107\n",
      "Epoch 89/500\n",
      "91/91 [==============================] - 1s 7ms/step - loss: 0.0054 - mae: 0.0596 - val_loss: 1.0684e-04 - val_mae: 0.0111\n",
      "Epoch 90/500\n",
      "91/91 [==============================] - 1s 8ms/step - loss: 0.0054 - mae: 0.0592 - val_loss: 1.0345e-04 - val_mae: 0.0108\n",
      "Epoch 91/500\n",
      "91/91 [==============================] - 1s 7ms/step - loss: 0.0054 - mae: 0.0591 - val_loss: 1.0345e-04 - val_mae: 0.0108\n",
      "Epoch 92/500\n",
      "91/91 [==============================] - 1s 8ms/step - loss: 0.0053 - mae: 0.0590 - val_loss: 1.0299e-04 - val_mae: 0.0108\n",
      "Epoch 93/500\n",
      "91/91 [==============================] - 1s 6ms/step - loss: 0.0053 - mae: 0.0588 - val_loss: 1.0213e-04 - val_mae: 0.0108\n",
      "Epoch 94/500\n",
      "91/91 [==============================] - 1s 6ms/step - loss: 0.0053 - mae: 0.0588 - val_loss: 1.0362e-04 - val_mae: 0.0109\n",
      "Epoch 95/500\n",
      "91/91 [==============================] - 1s 6ms/step - loss: 0.0053 - mae: 0.0586 - val_loss: 1.0338e-04 - val_mae: 0.0109\n",
      "Epoch 96/500\n",
      "91/91 [==============================] - 1s 7ms/step - loss: 0.0052 - mae: 0.0582 - val_loss: 9.9068e-05 - val_mae: 0.0105\n",
      "Epoch 97/500\n",
      "91/91 [==============================] - 1s 7ms/step - loss: 0.0052 - mae: 0.0582 - val_loss: 9.8701e-05 - val_mae: 0.0105\n",
      "Epoch 98/500\n",
      "91/91 [==============================] - 1s 7ms/step - loss: 0.0052 - mae: 0.0580 - val_loss: 9.5692e-05 - val_mae: 0.0103\n",
      "Epoch 99/500\n",
      "91/91 [==============================] - 1s 6ms/step - loss: 0.0052 - mae: 0.0580 - val_loss: 9.7608e-05 - val_mae: 0.0105\n",
      "Epoch 100/500\n",
      "91/91 [==============================] - 1s 6ms/step - loss: 0.0052 - mae: 0.0578 - val_loss: 9.6745e-05 - val_mae: 0.0105\n",
      "Epoch 101/500\n",
      "91/91 [==============================] - 1s 7ms/step - loss: 0.0051 - mae: 0.0579 - val_loss: 1.0174e-04 - val_mae: 0.0108\n",
      "Epoch 102/500\n",
      "91/91 [==============================] - 1s 7ms/step - loss: 0.0051 - mae: 0.0578 - val_loss: 1.0023e-04 - val_mae: 0.0107\n",
      "Epoch 103/500\n",
      "91/91 [==============================] - 1s 7ms/step - loss: 0.0051 - mae: 0.0574 - val_loss: 9.8433e-05 - val_mae: 0.0106\n",
      "Epoch 104/500\n",
      "91/91 [==============================] - 1s 7ms/step - loss: 0.0051 - mae: 0.0572 - val_loss: 9.9549e-05 - val_mae: 0.0107\n",
      "Epoch 105/500\n",
      "91/91 [==============================] - 1s 7ms/step - loss: 0.0051 - mae: 0.0570 - val_loss: 9.5040e-05 - val_mae: 0.0104\n",
      "Epoch 106/500\n",
      "91/91 [==============================] - 1s 6ms/step - loss: 0.0050 - mae: 0.0572 - val_loss: 9.9261e-05 - val_mae: 0.0107\n",
      "Epoch 107/500\n",
      "91/91 [==============================] - 1s 7ms/step - loss: 0.0050 - mae: 0.0570 - val_loss: 1.0072e-04 - val_mae: 0.0108\n",
      "Epoch 108/500\n",
      "91/91 [==============================] - 1s 7ms/step - loss: 0.0050 - mae: 0.0569 - val_loss: 9.9567e-05 - val_mae: 0.0107\n",
      "Epoch 109/500\n",
      "91/91 [==============================] - 1s 7ms/step - loss: 0.0050 - mae: 0.0566 - val_loss: 9.8173e-05 - val_mae: 0.0106\n",
      "Epoch 110/500\n",
      "91/91 [==============================] - 1s 7ms/step - loss: 0.0049 - mae: 0.0565 - val_loss: 9.2987e-05 - val_mae: 0.0102\n",
      "Epoch 111/500\n",
      "91/91 [==============================] - 1s 7ms/step - loss: 0.0049 - mae: 0.0562 - val_loss: 9.1804e-05 - val_mae: 0.0101\n",
      "Epoch 112/500\n",
      "91/91 [==============================] - 1s 6ms/step - loss: 0.0049 - mae: 0.0563 - val_loss: 9.2213e-05 - val_mae: 0.0101\n",
      "Epoch 113/500\n",
      "91/91 [==============================] - 1s 7ms/step - loss: 0.0049 - mae: 0.0562 - val_loss: 9.3359e-05 - val_mae: 0.0102\n",
      "Epoch 114/500\n",
      "91/91 [==============================] - 1s 6ms/step - loss: 0.0049 - mae: 0.0560 - val_loss: 9.3820e-05 - val_mae: 0.0103\n",
      "Epoch 115/500\n",
      "91/91 [==============================] - 1s 7ms/step - loss: 0.0049 - mae: 0.0557 - val_loss: 8.9474e-05 - val_mae: 0.0099\n",
      "Epoch 116/500\n",
      "91/91 [==============================] - 1s 7ms/step - loss: 0.0048 - mae: 0.0557 - val_loss: 9.0768e-05 - val_mae: 0.0101\n",
      "Epoch 117/500\n",
      "91/91 [==============================] - 1s 6ms/step - loss: 0.0048 - mae: 0.0558 - val_loss: 9.3675e-05 - val_mae: 0.0103\n",
      "Epoch 118/500\n",
      "91/91 [==============================] - 1s 7ms/step - loss: 0.0048 - mae: 0.0553 - val_loss: 8.8102e-05 - val_mae: 0.0098\n",
      "Epoch 119/500\n",
      "91/91 [==============================] - 1s 7ms/step - loss: 0.0048 - mae: 0.0555 - val_loss: 9.0883e-05 - val_mae: 0.0101\n",
      "Epoch 120/500\n",
      "91/91 [==============================] - 1s 6ms/step - loss: 0.0048 - mae: 0.0551 - val_loss: 8.9115e-05 - val_mae: 0.0099\n",
      "Epoch 121/500\n",
      "91/91 [==============================] - 1s 6ms/step - loss: 0.0048 - mae: 0.0552 - val_loss: 9.0032e-05 - val_mae: 0.0100\n",
      "Epoch 122/500\n",
      "91/91 [==============================] - 1s 6ms/step - loss: 0.0048 - mae: 0.0551 - val_loss: 8.9344e-05 - val_mae: 0.0100\n",
      "Epoch 123/500\n",
      "91/91 [==============================] - 1s 7ms/step - loss: 0.0047 - mae: 0.0550 - val_loss: 8.7370e-05 - val_mae: 0.0098\n",
      "Epoch 124/500\n",
      "91/91 [==============================] - 1s 7ms/step - loss: 0.0047 - mae: 0.0549 - val_loss: 8.8221e-05 - val_mae: 0.0099\n",
      "Epoch 125/500\n",
      "91/91 [==============================] - 1s 6ms/step - loss: 0.0047 - mae: 0.0547 - val_loss: 8.8250e-05 - val_mae: 0.0099\n",
      "Epoch 126/500\n",
      "91/91 [==============================] - 1s 7ms/step - loss: 0.0047 - mae: 0.0546 - val_loss: 8.7515e-05 - val_mae: 0.0099\n",
      "Epoch 127/500\n",
      "91/91 [==============================] - 1s 6ms/step - loss: 0.0047 - mae: 0.0547 - val_loss: 9.1924e-05 - val_mae: 0.0102\n",
      "Epoch 128/500\n",
      "91/91 [==============================] - 1s 7ms/step - loss: 0.0047 - mae: 0.0544 - val_loss: 8.6127e-05 - val_mae: 0.0097\n",
      "Epoch 129/500\n",
      "91/91 [==============================] - ETA: 0s - loss: 0.0053 - mae: 0.059 - 1s 6ms/step - loss: 0.0047 - mae: 0.0543 - val_loss: 8.5311e-05 - val_mae: 0.0097\n",
      "Epoch 130/500\n",
      "91/91 [==============================] - 1s 6ms/step - loss: 0.0046 - mae: 0.0541 - val_loss: 8.6383e-05 - val_mae: 0.0098\n",
      "Epoch 131/500\n",
      "91/91 [==============================] - 1s 6ms/step - loss: 0.0046 - mae: 0.0541 - val_loss: 8.6068e-05 - val_mae: 0.0098\n",
      "Epoch 132/500\n",
      "91/91 [==============================] - 1s 6ms/step - loss: 0.0046 - mae: 0.0541 - val_loss: 8.8343e-05 - val_mae: 0.0100\n",
      "Epoch 133/500\n",
      "91/91 [==============================] - 1s 7ms/step - loss: 0.0046 - mae: 0.0541 - val_loss: 8.8491e-05 - val_mae: 0.0100\n",
      "Epoch 134/500\n",
      "91/91 [==============================] - 1s 6ms/step - loss: 0.0046 - mae: 0.0540 - val_loss: 8.6443e-05 - val_mae: 0.0098\n",
      "Epoch 135/500\n",
      "91/91 [==============================] - 1s 7ms/step - loss: 0.0046 - mae: 0.0536 - val_loss: 8.4043e-05 - val_mae: 0.0096\n",
      "Epoch 136/500\n",
      "91/91 [==============================] - 1s 6ms/step - loss: 0.0046 - mae: 0.0538 - val_loss: 8.5207e-05 - val_mae: 0.0097\n",
      "Epoch 137/500\n",
      "91/91 [==============================] - 1s 7ms/step - loss: 0.0046 - mae: 0.0535 - val_loss: 8.1648e-05 - val_mae: 0.0094\n",
      "Epoch 138/500\n",
      "91/91 [==============================] - 1s 7ms/step - loss: 0.0045 - mae: 0.0537 - val_loss: 8.5741e-05 - val_mae: 0.0097\n",
      "Epoch 139/500\n",
      "91/91 [==============================] - 1s 6ms/step - loss: 0.0045 - mae: 0.0533 - val_loss: 8.1668e-05 - val_mae: 0.0094\n",
      "Epoch 140/500\n",
      "91/91 [==============================] - 1s 6ms/step - loss: 0.0045 - mae: 0.0532 - val_loss: 7.9182e-05 - val_mae: 0.0092\n",
      "Epoch 141/500\n",
      "91/91 [==============================] - 1s 7ms/step - loss: 0.0045 - mae: 0.0532 - val_loss: 8.0832e-05 - val_mae: 0.0093\n",
      "Epoch 142/500\n",
      "91/91 [==============================] - 1s 7ms/step - loss: 0.0045 - mae: 0.0530 - val_loss: 8.0652e-05 - val_mae: 0.0093\n",
      "Epoch 143/500\n",
      "91/91 [==============================] - 1s 6ms/step - loss: 0.0045 - mae: 0.0530 - val_loss: 7.9204e-05 - val_mae: 0.0092\n",
      "Epoch 144/500\n",
      "91/91 [==============================] - 1s 6ms/step - loss: 0.0045 - mae: 0.0530 - val_loss: 8.5231e-05 - val_mae: 0.0097\n",
      "Epoch 145/500\n",
      "91/91 [==============================] - 1s 6ms/step - loss: 0.0045 - mae: 0.0526 - val_loss: 7.9903e-05 - val_mae: 0.0093\n",
      "Epoch 146/500\n",
      "91/91 [==============================] - 1s 6ms/step - loss: 0.0045 - mae: 0.0528 - val_loss: 8.2942e-05 - val_mae: 0.0096\n",
      "Epoch 147/500\n",
      "91/91 [==============================] - 1s 6ms/step - loss: 0.0044 - mae: 0.0527 - val_loss: 8.2989e-05 - val_mae: 0.0096\n",
      "Epoch 148/500\n",
      "91/91 [==============================] - 1s 6ms/step - loss: 0.0044 - mae: 0.0526 - val_loss: 8.2126e-05 - val_mae: 0.0095\n",
      "Epoch 149/500\n",
      "91/91 [==============================] - 1s 6ms/step - loss: 0.0044 - mae: 0.0525 - val_loss: 8.0505e-05 - val_mae: 0.0094\n",
      "Epoch 150/500\n",
      "91/91 [==============================] - 1s 6ms/step - loss: 0.0044 - mae: 0.0524 - val_loss: 7.9788e-05 - val_mae: 0.0093\n"
     ]
    },
    {
     "data": {
      "text/plain": [
       "<tensorflow.python.keras.callbacks.History at 0x27311b021c0>"
      ]
     },
     "execution_count": 77,
     "metadata": {},
     "output_type": "execute_result"
    }
   ],
   "source": [
    "keras.backend.clear_session()\n",
    "\n",
    "tf.random.set_seed(42)\n",
    "np.random.seed(42)\n",
    "\n",
    "window_size = 30\n",
    "\n",
    "train_set = window_dataset(x_train, window_size)\n",
    "valid_set = window_dataset(x_valid, window_size)\n",
    "\n",
    "model = Sequential( [ Dense(1, input_shape=[window_size]) ] )\n",
    "\n",
    "optimizer = keras.optimizers.SGD(learning_rate=1e-3, momentum=0.9)\n",
    "\n",
    "model.compile(loss=keras.losses.Huber(),\n",
    "              optimizer=optimizer,\n",
    "              metrics=[\"mae\"])\n",
    "\n",
    "early_stopping = EarlyStopping(patience=10)\n",
    "\n",
    "model.fit(\n",
    "    \n",
    "    train_set,\n",
    "    epochs=500,\n",
    "    validation_data=valid_set,\n",
    "    callbacks=[early_stopping]\n",
    "\n",
    ")\n"
   ]
  },
  {
   "cell_type": "code",
   "execution_count": 78,
   "id": "68260641-ca3d-4b3a-8791-c9dd655ee1e1",
   "metadata": {
    "id": "kbC_t-oPyk8_"
   },
   "outputs": [
    {
     "data": {
      "text/plain": [
       "(306,)"
      ]
     },
     "execution_count": 78,
     "metadata": {},
     "output_type": "execute_result"
    }
   ],
   "source": [
    "lin_forecast = model_forecast(model, oil_data[split_date - window_size:-1], window_size)[:, 0]\n",
    "\n",
    "lin_forecast.shape"
   ]
  },
  {
   "cell_type": "code",
   "execution_count": 79,
   "id": "9fe7272a",
   "metadata": {
    "colab": {
     "base_uri": "https://localhost:8080/",
     "height": 388
    },
    "id": "s1S7a0Tryutp",
    "outputId": "601de338-3aa3-4b21-a336-746221453830"
   },
   "outputs": [
    {
     "data": {
      "image/png": "[encoded data removed]",
      "text/plain": [
       "<Figure size 720x432 with 1 Axes>"
      ]
     },
     "metadata": {
      "needs_background": "light"
     },
     "output_type": "display_data"
    }
   ],
   "source": [
    "plt.figure(figsize=(10, 6))\n",
    "plot_series(date_valid, x_valid, label=\"Actual\")\n",
    "plot_series(date_valid, lin_forecast, label=\"Linear Model\")\n",
    "\n",
    "plt.show()"
   ]
  },
  {
   "cell_type": "code",
   "execution_count": 80,
   "id": "551996be",
   "metadata": {
    "colab": {
     "base_uri": "https://localhost:8080/"
    },
    "id": "AIL6T-zszZrs",
    "outputId": "9a5e4501-3b8b-4f6e-b99c-26e783d6ddf2"
   },
   "outputs": [
    {
     "name": "stdout",
     "output_type": "stream",
     "text": [
      "mae = 0.009706021286547184, \n",
      "mse = 0.00018062932940665632, \n",
      "rmse = 0.013439841122820475\n"
     ]
    }
   ],
   "source": [
    "mae = keras.metrics.mean_absolute_error(x_valid, lin_forecast).numpy()\n",
    "mse = keras.metrics.mean_squared_error(x_valid, lin_forecast).numpy()\n",
    "rmse = math.sqrt(mse)\n",
    "\n",
    "print(f'mae = {mae}, \\nmse = {mse}, \\nrmse = {rmse}')"
   ]
  },
  {
   "cell_type": "code",
   "execution_count": 81,
   "id": "9bca315a-64b8-4780-86ff-34f4a897f91e",
   "metadata": {},
   "outputs": [
    {
     "name": "stdout",
     "output_type": "stream",
     "text": [
      "Model: \"sequential\"\n",
      "_________________________________________________________________\n",
      "Layer (type)                 Output Shape              Param #   \n",
      "=================================================================\n",
      "dense (Dense)                (None, 1)                 31        \n",
      "=================================================================\n",
      "Total params: 31\n",
      "Trainable params: 31\n",
      "Non-trainable params: 0\n",
      "_________________________________________________________________\n",
      "[<tf.Variable 'dense/kernel:0' shape=(30, 1) dtype=float32, numpy=\n",
      "array([[ 0.08188517],\n",
      "       [ 0.05960739],\n",
      "       [-0.22434801],\n",
      "       [ 0.02890524],\n",
      "       [ 0.11397316],\n",
      "       [ 0.07813276],\n",
      "       [-0.01565547],\n",
      "       [-0.0450282 ],\n",
      "       [-0.00504929],\n",
      "       [ 0.02782605],\n",
      "       [ 0.15289819],\n",
      "       [-0.25722447],\n",
      "       [ 0.2582654 ],\n",
      "       [-0.22421978],\n",
      "       [ 0.11428978],\n",
      "       [-0.09582251],\n",
      "       [ 0.08637023],\n",
      "       [ 0.12289331],\n",
      "       [-0.21201073],\n",
      "       [ 0.1524517 ],\n",
      "       [ 0.04066899],\n",
      "       [-0.15466695],\n",
      "       [ 0.26836708],\n",
      "       [-0.22772619],\n",
      "       [-0.0752493 ],\n",
      "       [ 0.16834204],\n",
      "       [ 0.19366522],\n",
      "       [-0.04713141],\n",
      "       [ 0.1345763 ],\n",
      "       [ 0.45819512]], dtype=float32)>, <tf.Variable 'dense/bias:0' shape=(1,) dtype=float32, numpy=array([0.00874914], dtype=float32)>]\n"
     ]
    }
   ],
   "source": [
    "model.summary()\n",
    "print(model.trainable_variables)"
   ]
  },
  {
   "cell_type": "markdown",
   "id": "4cdb3033",
   "metadata": {
    "id": "e6228521-e56f-4306-89da-eddfa4d5823c",
    "tags": []
   },
   "source": [
    "#  MLP"
   ]
  },
  {
   "cell_type": "code",
   "execution_count": 84,
   "id": "9922c1ff",
   "metadata": {
    "colab": {
     "base_uri": "https://localhost:8080/"
    },
    "id": "9e760c02-4ac0-495e-8451-638bce1fdab2",
    "outputId": "be9721a7-bdcb-48bd-f52a-c1764156b048",
    "scrolled": true,
    "tags": []
   },
   "outputs": [
    {
     "name": "stdout",
     "output_type": "stream",
     "text": [
      "Epoch 1/100\n",
      "91/91 [==============================] - 2s 5ms/step - loss: 0.1052 - mae: 0.3725\n",
      "Epoch 2/100\n",
      "91/91 [==============================] - 0s 5ms/step - loss: 0.0885 - mae: 0.3376\n",
      "Epoch 3/100\n",
      "91/91 [==============================] - 1s 5ms/step - loss: 0.0726 - mae: 0.3015\n",
      "Epoch 4/100\n",
      "91/91 [==============================] - 1s 6ms/step - loss: 0.0583 - mae: 0.2653\n",
      "Epoch 5/100\n",
      "91/91 [==============================] - 1s 5ms/step - loss: 0.0458 - mae: 0.2305\n",
      "Epoch 6/100\n",
      "91/91 [==============================] - 1s 5ms/step - loss: 0.0355 - mae: 0.1979\n",
      "Epoch 7/100\n",
      "91/91 [==============================] - 1s 5ms/step - loss: 0.0271 - mae: 0.1682\n",
      "Epoch 8/100\n",
      "91/91 [==============================] - 0s 5ms/step - loss: 0.0207 - mae: 0.1420\n",
      "Epoch 9/100\n",
      "91/91 [==============================] - 1s 5ms/step - loss: 0.0160 - mae: 0.1200\n",
      "Epoch 10/100\n",
      "91/91 [==============================] - 0s 5ms/step - loss: 0.0127 - mae: 0.1036A: 0s - loss: 0.0326 - mae\n",
      "Epoch 11/100\n",
      "91/91 [==============================] - 0s 5ms/step - loss: 0.0106 - mae: 0.0924\n",
      "Epoch 12/100\n",
      "91/91 [==============================] - 1s 5ms/step - loss: 0.0092 - mae: 0.0854\n",
      "Epoch 13/100\n",
      "91/91 [==============================] - 0s 5ms/step - loss: 0.0084 - mae: 0.0813\n",
      "Epoch 14/100\n",
      "91/91 [==============================] - 1s 6ms/step - loss: 0.0079 - mae: 0.0794\n",
      "Epoch 15/100\n",
      "91/91 [==============================] - 1s 5ms/step - loss: 0.0077 - mae: 0.0785\n",
      "Epoch 16/100\n",
      "91/91 [==============================] - 1s 7ms/step - loss: 0.0076 - mae: 0.0780\n",
      "Epoch 17/100\n",
      "91/91 [==============================] - 1s 5ms/step - loss: 0.0075 - mae: 0.0777\n",
      "Epoch 18/100\n",
      "91/91 [==============================] - 1s 5ms/step - loss: 0.0074 - mae: 0.0774\n",
      "Epoch 19/100\n",
      "91/91 [==============================] - 1s 6ms/step - loss: 0.0074 - mae: 0.0769\n",
      "Epoch 20/100\n",
      "91/91 [==============================] - 1s 5ms/step - loss: 0.0074 - mae: 0.0764\n",
      "Epoch 21/100\n",
      "91/91 [==============================] - 1s 5ms/step - loss: 0.0073 - mae: 0.0759\n",
      "Epoch 22/100\n",
      "91/91 [==============================] - 1s 5ms/step - loss: 0.0073 - mae: 0.0754\n",
      "Epoch 23/100\n",
      "91/91 [==============================] - 0s 5ms/step - loss: 0.0072 - mae: 0.0748\n",
      "Epoch 24/100\n",
      "91/91 [==============================] - 0s 5ms/step - loss: 0.0072 - mae: 0.0741\n",
      "Epoch 25/100\n",
      "91/91 [==============================] - 1s 6ms/step - loss: 0.0071 - mae: 0.0736\n",
      "Epoch 26/100\n",
      "91/91 [==============================] - 1s 5ms/step - loss: 0.0071 - mae: 0.0729\n",
      "Epoch 27/100\n",
      "91/91 [==============================] - 1s 5ms/step - loss: 0.0070 - mae: 0.0722\n",
      "Epoch 28/100\n",
      "91/91 [==============================] - 1s 8ms/step - loss: 0.0070 - mae: 0.0715\n",
      "Epoch 29/100\n",
      "91/91 [==============================] - 0s 5ms/step - loss: 0.0070 - mae: 0.0708\n",
      "Epoch 30/100\n",
      "91/91 [==============================] - 1s 5ms/step - loss: 0.0069 - mae: 0.0704\n",
      "Epoch 31/100\n",
      "91/91 [==============================] - 0s 5ms/step - loss: 0.0069 - mae: 0.0696\n",
      "Epoch 32/100\n",
      "91/91 [==============================] - 0s 5ms/step - loss: 0.0068 - mae: 0.0688\n",
      "Epoch 33/100\n",
      "91/91 [==============================] - 1s 6ms/step - loss: 0.0068 - mae: 0.0682\n",
      "Epoch 34/100\n",
      "91/91 [==============================] - 0s 5ms/step - loss: 0.0067 - mae: 0.0680A: 0s - loss: 0.0143 - mae\n",
      "Epoch 35/100\n",
      "91/91 [==============================] - 0s 5ms/step - loss: 0.0067 - mae: 0.0668A: 0s - loss: 0.0165 - mae: \n",
      "Epoch 36/100\n",
      "91/91 [==============================] - 1s 5ms/step - loss: 0.0066 - mae: 0.0667\n",
      "Epoch 37/100\n",
      "91/91 [==============================] - 1s 6ms/step - loss: 0.0066 - mae: 0.0660A: 0s - loss: 0.0084 - mae: 0.\n",
      "Epoch 38/100\n",
      "91/91 [==============================] - 1s 6ms/step - loss: 0.0065 - mae: 0.0659\n",
      "Epoch 39/100\n",
      "91/91 [==============================] - 1s 5ms/step - loss: 0.0064 - mae: 0.0653\n",
      "Epoch 40/100\n",
      "91/91 [==============================] - 0s 5ms/step - loss: 0.0064 - mae: 0.0650\n",
      "Epoch 41/100\n",
      "91/91 [==============================] - 0s 5ms/step - loss: 0.0064 - mae: 0.0646\n",
      "Epoch 42/100\n",
      "91/91 [==============================] - 1s 5ms/step - loss: 0.0063 - mae: 0.0645\n",
      "Epoch 43/100\n",
      "91/91 [==============================] - 1s 6ms/step - loss: 0.0062 - mae: 0.0640\n",
      "Epoch 44/100\n",
      "91/91 [==============================] - 0s 5ms/step - loss: 0.0061 - mae: 0.0638\n",
      "Epoch 45/100\n",
      "91/91 [==============================] - 1s 7ms/step - loss: 0.0061 - mae: 0.0633\n",
      "Epoch 46/100\n",
      "91/91 [==============================] - 1s 5ms/step - loss: 0.0061 - mae: 0.0636\n",
      "Epoch 47/100\n",
      "91/91 [==============================] - 0s 5ms/step - loss: 0.0060 - mae: 0.0631\n",
      "Epoch 48/100\n",
      "91/91 [==============================] - 0s 5ms/step - loss: 0.0060 - mae: 0.0635\n",
      "Epoch 49/100\n",
      "91/91 [==============================] - 0s 5ms/step - loss: 0.0059 - mae: 0.0640\n",
      "Epoch 50/100\n",
      "91/91 [==============================] - 1s 6ms/step - loss: 0.0058 - mae: 0.0628\n",
      "Epoch 51/100\n",
      "91/91 [==============================] - 0s 5ms/step - loss: 0.0059 - mae: 0.0648\n",
      "Epoch 52/100\n",
      "91/91 [==============================] - 1s 5ms/step - loss: 0.0057 - mae: 0.0628\n",
      "Epoch 53/100\n",
      "91/91 [==============================] - 1s 6ms/step - loss: 0.0056 - mae: 0.0617\n",
      "Epoch 54/100\n",
      "91/91 [==============================] - 0s 5ms/step - loss: 0.0056 - mae: 0.0627\n",
      "Epoch 55/100\n",
      "91/91 [==============================] - 1s 5ms/step - loss: 0.0056 - mae: 0.0625\n",
      "Epoch 56/100\n",
      "91/91 [==============================] - ETA: 0s - loss: 0.0062 - mae: 0.067 - 0s 5ms/step - loss: 0.0056 - mae: 0.0631\n",
      "Epoch 57/100\n",
      "91/91 [==============================] - 1s 5ms/step - loss: 0.0053 - mae: 0.0615\n",
      "Epoch 58/100\n",
      "91/91 [==============================] - 1s 7ms/step - loss: 0.0054 - mae: 0.0615\n",
      "Epoch 59/100\n",
      "91/91 [==============================] - 1s 11ms/step - loss: 0.0051 - mae: 0.0594\n",
      "Epoch 60/100\n",
      "91/91 [==============================] - 1s 7ms/step - loss: 0.0051 - mae: 0.0602\n",
      "Epoch 61/100\n",
      "91/91 [==============================] - 1s 5ms/step - loss: 0.0054 - mae: 0.0632A: 0s - loss: 0.0159 - mae: 0. - ETA: 0s - loss: 0.0075 - mae: 0.\n",
      "Epoch 62/100\n",
      "91/91 [==============================] - 1s 5ms/step - loss: 0.0051 - mae: 0.0614\n",
      "Epoch 63/100\n",
      "91/91 [==============================] - 0s 5ms/step - loss: 0.0052 - mae: 0.0600\n",
      "Epoch 64/100\n",
      "91/91 [==============================] - 1s 6ms/step - loss: 0.0053 - mae: 0.0630\n",
      "Epoch 65/100\n",
      "91/91 [==============================] - 1s 5ms/step - loss: 0.0049 - mae: 0.0577\n",
      "Epoch 66/100\n",
      "91/91 [==============================] - 1s 6ms/step - loss: 0.0046 - mae: 0.0567\n",
      "Epoch 67/100\n",
      "91/91 [==============================] - 1s 5ms/step - loss: 0.0045 - mae: 0.0549\n",
      "Epoch 68/100\n",
      "91/91 [==============================] - 0s 5ms/step - loss: 0.0043 - mae: 0.0532\n",
      "Epoch 69/100\n",
      "91/91 [==============================] - 0s 5ms/step - loss: 0.0042 - mae: 0.0519A: 0s - loss: 0.0081 - mae: 0\n",
      "Epoch 70/100\n",
      "91/91 [==============================] - 0s 5ms/step - loss: 0.0042 - mae: 0.0532\n",
      "Epoch 71/100\n",
      "91/91 [==============================] - 0s 5ms/step - loss: 0.0041 - mae: 0.0521\n",
      "Epoch 72/100\n",
      "91/91 [==============================] - 0s 5ms/step - loss: 0.0039 - mae: 0.0495\n",
      "Epoch 73/100\n",
      "91/91 [==============================] - 0s 5ms/step - loss: 0.0040 - mae: 0.0522\n",
      "Epoch 74/100\n",
      "91/91 [==============================] - 1s 5ms/step - loss: 0.0039 - mae: 0.0507A: 0s - loss: 0.0059 - mae: 0.\n",
      "Epoch 75/100\n",
      "91/91 [==============================] - 1s 7ms/step - loss: 0.0041 - mae: 0.0514\n",
      "Epoch 76/100\n",
      "91/91 [==============================] - 1s 6ms/step - loss: 0.0041 - mae: 0.0542\n",
      "Epoch 77/100\n",
      "91/91 [==============================] - 1s 5ms/step - loss: 0.0037 - mae: 0.0485\n",
      "Epoch 78/100\n",
      "91/91 [==============================] - 0s 5ms/step - loss: 0.0036 - mae: 0.0471\n",
      "Epoch 79/100\n",
      "91/91 [==============================] - 0s 5ms/step - loss: 0.0036 - mae: 0.0478A: 0s - loss: 0.0045 - mae: 0.05\n",
      "Epoch 80/100\n",
      "91/91 [==============================] - 0s 5ms/step - loss: 0.0043 - mae: 0.0575\n",
      "Epoch 81/100\n",
      "91/91 [==============================] - 1s 6ms/step - loss: 0.0039 - mae: 0.0509\n",
      "Epoch 82/100\n",
      "91/91 [==============================] - 1s 5ms/step - loss: 0.0040 - mae: 0.0529\n",
      "Epoch 83/100\n",
      "91/91 [==============================] - 0s 5ms/step - loss: 0.0043 - mae: 0.0566\n",
      "Epoch 84/100\n",
      "91/91 [==============================] - 1s 5ms/step - loss: 0.0036 - mae: 0.0474\n",
      "Epoch 85/100\n",
      "91/91 [==============================] - 1s 9ms/step - loss: 0.0034 - mae: 0.0444\n",
      "Epoch 86/100\n",
      "91/91 [==============================] - 1s 6ms/step - loss: 0.0036 - mae: 0.0475\n",
      "Epoch 87/100\n",
      "91/91 [==============================] - 0s 5ms/step - loss: 0.0070 - mae: 0.0814A: 0s - loss: 0.0076 - mae: 0.085\n",
      "Epoch 88/100\n",
      "91/91 [==============================] - 0s 5ms/step - loss: 0.0069 - mae: 0.0725A: 0s - loss: 0.0120 - mae: 0\n",
      "Epoch 89/100\n",
      "91/91 [==============================] - 0s 5ms/step - loss: 0.0046 - mae: 0.0584\n",
      "Epoch 90/100\n",
      "91/91 [==============================] - 1s 6ms/step - loss: 0.0036 - mae: 0.0490\n",
      "Epoch 91/100\n",
      "91/91 [==============================] - 0s 5ms/step - loss: 0.0047 - mae: 0.0598\n",
      "Epoch 92/100\n",
      "91/91 [==============================] - 1s 5ms/step - loss: 0.0045 - mae: 0.0593A: 0s - loss: 0.0045 - mae: 0.059\n",
      "Epoch 93/100\n",
      "91/91 [==============================] - 1s 7ms/step - loss: 0.0042 - mae: 0.0541\n",
      "Epoch 94/100\n",
      "91/91 [==============================] - 1s 7ms/step - loss: 0.0042 - mae: 0.0523\n",
      "Epoch 95/100\n",
      "91/91 [==============================] - 0s 5ms/step - loss: 0.0036 - mae: 0.0494\n",
      "Epoch 96/100\n",
      "91/91 [==============================] - 0s 5ms/step - loss: 0.0055 - mae: 0.0678\n",
      "Epoch 97/100\n",
      "91/91 [==============================] - 0s 5ms/step - loss: 0.0172 - mae: 0.1142\n",
      "Epoch 98/100\n",
      "91/91 [==============================] - 0s 5ms/step - loss: 0.0118 - mae: 0.1067\n",
      "Epoch 99/100\n",
      "91/91 [==============================] - 1s 5ms/step - loss: 0.0104 - mae: 0.0991\n",
      "Epoch 100/100\n",
      "91/91 [==============================] - 1s 5ms/step - loss: 0.0098 - mae: 0.0955\n"
     ]
    }
   ],
   "source": [
    "refresh()\n",
    "\n",
    "window_size = 30\n",
    "\n",
    "train_set = window_dataset(x_train, window_size)\n",
    "\n",
    "model = Sequential([\n",
    "            Dense(10, activation=\"relu\", input_shape=[window_size]),\n",
    "            Dense(10, activation=\"relu\"),\n",
    "            Dense(1)\n",
    "        ])\n",
    "\n",
    "lr_schedule = LearningRateScheduler(lambda epoch: 1e-5 * 10**(epoch / 20))\n",
    "\n",
    "optimizer = keras.optimizers.SGD(learning_rate=1e-5, momentum=0.9)\n",
    "\n",
    "model.compile(loss=keras.losses.Huber(),\n",
    "              optimizer=optimizer,\n",
    "              metrics=[\"mae\"])\n",
    "\n",
    "history = model.fit(train_set, epochs=100, callbacks=[lr_schedule])"
   ]
  },
  {
   "cell_type": "code",
   "execution_count": 87,
   "id": "3a946df7",
   "metadata": {
    "colab": {
     "base_uri": "https://localhost:8080/",
     "height": 287
    },
    "id": "5g-nC_em8OIq",
    "outputId": "330b9a14-2f99-4724-f0c4-0c7c0cbed318"
   },
   "outputs": [
    {
     "data": {
      "image/png": "[encoded data removed]",
      "text/plain": [
       "<Figure size 432x288 with 1 Axes>"
      ]
     },
     "metadata": {
      "needs_background": "light"
     },
     "output_type": "display_data"
    },
    {
     "data": {
      "text/plain": [
       "0.8912509"
      ]
     },
     "execution_count": 87,
     "metadata": {},
     "output_type": "execute_result"
    }
   ],
   "source": [
    "plt.semilogx(history.history[\"lr\"], history.history[\"loss\"])\n",
    "plt.axis([1e-5, 1, 0, 0.12])\n",
    "\n",
    "plt.show()\n",
    "\n",
    "max(history.history[\"lr\"])"
   ]
  },
  {
   "cell_type": "code",
   "execution_count": 91,
   "id": "4935d179",
   "metadata": {
    "colab": {
     "base_uri": "https://localhost:8080/"
    },
    "id": "B7t0VrCH8OIr",
    "outputId": "07791842-f637-4519-9e07-9175911d5bad",
    "scrolled": true,
    "tags": []
   },
   "outputs": [
    {
     "name": "stdout",
     "output_type": "stream",
     "text": [
      "Epoch 1/500\n",
      "91/91 [==============================] - 4s 24ms/step - loss: 0.0312 - mae: 0.1674 - val_loss: 9.5799e-04 - val_mae: 0.0399\n",
      "Epoch 2/500\n",
      "91/91 [==============================] - 1s 10ms/step - loss: 0.0086 - mae: 0.0819 - val_loss: 4.6269e-04 - val_mae: 0.0254\n",
      "Epoch 3/500\n",
      "91/91 [==============================] - 1s 11ms/step - loss: 0.0084 - mae: 0.0816 - val_loss: 4.1365e-04 - val_mae: 0.0237\n",
      "Epoch 4/500\n",
      "91/91 [==============================] - 1s 13ms/step - loss: 0.0081 - mae: 0.0785 - val_loss: 3.6577e-04 - val_mae: 0.0220\n",
      "Epoch 5/500\n",
      "91/91 [==============================] - 1s 11ms/step - loss: 0.0078 - mae: 0.0768 - val_loss: 3.5024e-04 - val_mae: 0.0215\n",
      "Epoch 6/500\n",
      "91/91 [==============================] - 1s 10ms/step - loss: 0.0076 - mae: 0.0749 - val_loss: 3.3842e-04 - val_mae: 0.0213\n",
      "Epoch 7/500\n",
      "91/91 [==============================] - 1s 10ms/step - loss: 0.0074 - mae: 0.0732 - val_loss: 3.1865e-04 - val_mae: 0.0207\n",
      "Epoch 8/500\n",
      "91/91 [==============================] - 1s 11ms/step - loss: 0.0072 - mae: 0.0722 - val_loss: 2.9237e-04 - val_mae: 0.0199\n",
      "Epoch 9/500\n",
      "91/91 [==============================] - 1s 10ms/step - loss: 0.0071 - mae: 0.0707 - val_loss: 2.7281e-04 - val_mae: 0.0192\n",
      "Epoch 10/500\n",
      "91/91 [==============================] - 2s 17ms/step - loss: 0.0069 - mae: 0.0696 - val_loss: 2.4556e-04 - val_mae: 0.0181\n",
      "Epoch 11/500\n",
      "91/91 [==============================] - 1s 11ms/step - loss: 0.0068 - mae: 0.0688 - val_loss: 2.2915e-04 - val_mae: 0.0173\n",
      "Epoch 12/500\n",
      "91/91 [==============================] - 1s 9ms/step - loss: 0.0067 - mae: 0.0678 - val_loss: 2.1722e-04 - val_mae: 0.0168\n",
      "Epoch 13/500\n",
      "91/91 [==============================] - 1s 13ms/step - loss: 0.0066 - mae: 0.0670 - val_loss: 2.0317e-04 - val_mae: 0.0161\n",
      "Epoch 14/500\n",
      "91/91 [==============================] - 1s 9ms/step - loss: 0.0065 - mae: 0.0662 - val_loss: 1.9860e-04 - val_mae: 0.0159\n",
      "Epoch 15/500\n",
      "91/91 [==============================] - 1s 9ms/step - loss: 0.0064 - mae: 0.0660 - val_loss: 1.9421e-04 - val_mae: 0.0157\n",
      "Epoch 16/500\n",
      "91/91 [==============================] - 1s 9ms/step - loss: 0.0063 - mae: 0.0653 - val_loss: 1.8252e-04 - val_mae: 0.0151\n",
      "Epoch 17/500\n",
      "91/91 [==============================] - 1s 10ms/step - loss: 0.0062 - mae: 0.0647 - val_loss: 1.7513e-04 - val_mae: 0.0147\n",
      "Epoch 18/500\n",
      "91/91 [==============================] - 1s 11ms/step - loss: 0.0061 - mae: 0.0645 - val_loss: 1.7092e-04 - val_mae: 0.0145\n",
      "Epoch 19/500\n",
      "91/91 [==============================] - 1s 14ms/step - loss: 0.0061 - mae: 0.0639 - val_loss: 1.6627e-04 - val_mae: 0.0143\n",
      "Epoch 20/500\n",
      "91/91 [==============================] - 1s 10ms/step - loss: 0.0060 - mae: 0.0636 - val_loss: 1.7012e-04 - val_mae: 0.0145\n",
      "Epoch 21/500\n",
      "91/91 [==============================] - 1s 12ms/step - loss: 0.0060 - mae: 0.0630 - val_loss: 1.6663e-04 - val_mae: 0.0143\n",
      "Epoch 22/500\n",
      "91/91 [==============================] - 1s 10ms/step - loss: 0.0059 - mae: 0.0632 - val_loss: 1.6084e-04 - val_mae: 0.0140\n",
      "Epoch 23/500\n",
      "91/91 [==============================] - 1s 11ms/step - loss: 0.0058 - mae: 0.0625 - val_loss: 1.5798e-04 - val_mae: 0.0139\n",
      "Epoch 24/500\n",
      "91/91 [==============================] - 1s 11ms/step - loss: 0.0058 - mae: 0.0622 - val_loss: 1.5237e-04 - val_mae: 0.0136\n",
      "Epoch 25/500\n",
      "91/91 [==============================] - 1s 14ms/step - loss: 0.0057 - mae: 0.0619 - val_loss: 1.4906e-04 - val_mae: 0.0134\n",
      "Epoch 26/500\n",
      "91/91 [==============================] - 1s 9ms/step - loss: 0.0057 - mae: 0.0621 - val_loss: 1.4711e-04 - val_mae: 0.0133\n",
      "Epoch 27/500\n",
      "91/91 [==============================] - 1s 12ms/step - loss: 0.0056 - mae: 0.0611 - val_loss: 1.4212e-04 - val_mae: 0.0130\n",
      "Epoch 28/500\n",
      "91/91 [==============================] - 1s 11ms/step - loss: 0.0056 - mae: 0.0610 - val_loss: 1.4663e-04 - val_mae: 0.0134\n",
      "Epoch 29/500\n",
      "91/91 [==============================] - 1s 12ms/step - loss: 0.0056 - mae: 0.0610 - val_loss: 1.4786e-04 - val_mae: 0.0135\n",
      "Epoch 30/500\n",
      "91/91 [==============================] - 1s 10ms/step - loss: 0.0055 - mae: 0.0608 - val_loss: 1.4454e-04 - val_mae: 0.0133\n",
      "Epoch 31/500\n",
      "91/91 [==============================] - 1s 9ms/step - loss: 0.0055 - mae: 0.0607 - val_loss: 1.4293e-04 - val_mae: 0.0132\n",
      "Epoch 32/500\n",
      "91/91 [==============================] - 1s 10ms/step - loss: 0.0055 - mae: 0.0604 - val_loss: 1.4082e-04 - val_mae: 0.0131\n",
      "Epoch 33/500\n",
      "91/91 [==============================] - 1s 13ms/step - loss: 0.0054 - mae: 0.0598 - val_loss: 1.4485e-04 - val_mae: 0.0134\n",
      "Epoch 34/500\n",
      "91/91 [==============================] - 1s 9ms/step - loss: 0.0054 - mae: 0.0601 - val_loss: 1.4231e-04 - val_mae: 0.0133\n",
      "Epoch 35/500\n",
      "91/91 [==============================] - 1s 9ms/step - loss: 0.0054 - mae: 0.0596 - val_loss: 1.4337e-04 - val_mae: 0.0134\n",
      "Epoch 36/500\n",
      "91/91 [==============================] - 1s 12ms/step - loss: 0.0053 - mae: 0.0594 - val_loss: 1.4583e-04 - val_mae: 0.0135\n",
      "Epoch 37/500\n",
      "91/91 [==============================] - 1s 9ms/step - loss: 0.0053 - mae: 0.0593 - val_loss: 1.4102e-04 - val_mae: 0.0132\n",
      "Epoch 38/500\n",
      "91/91 [==============================] - 1s 9ms/step - loss: 0.0053 - mae: 0.0596 - val_loss: 1.3618e-04 - val_mae: 0.0129\n",
      "Epoch 39/500\n",
      "91/91 [==============================] - 1s 9ms/step - loss: 0.0052 - mae: 0.0592 - val_loss: 1.3171e-04 - val_mae: 0.0127\n",
      "Epoch 40/500\n",
      "91/91 [==============================] - 1s 10ms/step - loss: 0.0052 - mae: 0.0588 - val_loss: 1.3162e-04 - val_mae: 0.0127\n",
      "Epoch 41/500\n",
      "91/91 [==============================] - 1s 11ms/step - loss: 0.0052 - mae: 0.0585 - val_loss: 1.3829e-04 - val_mae: 0.0132\n",
      "Epoch 42/500\n",
      "91/91 [==============================] - 1s 10ms/step - loss: 0.0052 - mae: 0.0588 - val_loss: 1.3626e-04 - val_mae: 0.0130\n",
      "Epoch 43/500\n",
      "91/91 [==============================] - 1s 9ms/step - loss: 0.0052 - mae: 0.0584 - val_loss: 1.3359e-04 - val_mae: 0.0129\n",
      "Epoch 44/500\n",
      "91/91 [==============================] - 1s 12ms/step - loss: 0.0051 - mae: 0.0586 - val_loss: 1.2877e-04 - val_mae: 0.0126\n",
      "Epoch 45/500\n",
      "91/91 [==============================] - 1s 10ms/step - loss: 0.0051 - mae: 0.0580 - val_loss: 1.2991e-04 - val_mae: 0.0127ss: 0.0075 - mae: 0\n",
      "Epoch 46/500\n",
      "91/91 [==============================] - 1s 15ms/step - loss: 0.0051 - mae: 0.0580 - val_loss: 1.2745e-04 - val_mae: 0.0125\n",
      "Epoch 47/500\n",
      "91/91 [==============================] - 1s 13ms/step - loss: 0.0051 - mae: 0.0579 - val_loss: 1.2523e-04 - val_mae: 0.0124\n",
      "Epoch 48/500\n",
      "91/91 [==============================] - 1s 12ms/step - loss: 0.0050 - mae: 0.0576 - val_loss: 1.2583e-04 - val_mae: 0.0124\n",
      "Epoch 49/500\n",
      "91/91 [==============================] - 2s 25ms/step - loss: 0.0050 - mae: 0.0574 - val_loss: 1.2343e-04 - val_mae: 0.0123\n",
      "Epoch 50/500\n",
      "91/91 [==============================] - 1s 11ms/step - loss: 0.0050 - mae: 0.0573 - val_loss: 1.2846e-04 - val_mae: 0.0126\n",
      "Epoch 51/500\n",
      "91/91 [==============================] - 1s 13ms/step - loss: 0.0050 - mae: 0.0576 - val_loss: 1.2012e-04 - val_mae: 0.0120\n",
      "Epoch 52/500\n",
      "91/91 [==============================] - 1s 12ms/step - loss: 0.0050 - mae: 0.0569 - val_loss: 1.2250e-04 - val_mae: 0.0122\n",
      "Epoch 53/500\n",
      "91/91 [==============================] - 1s 10ms/step - loss: 0.0050 - mae: 0.0571 - val_loss: 1.2266e-04 - val_mae: 0.0123\n",
      "Epoch 54/500\n",
      "91/91 [==============================] - 1s 12ms/step - loss: 0.0049 - mae: 0.0569 - val_loss: 1.2313e-04 - val_mae: 0.0123\n",
      "Epoch 55/500\n",
      "91/91 [==============================] - 1s 13ms/step - loss: 0.0049 - mae: 0.0569 - val_loss: 1.1947e-04 - val_mae: 0.0120\n",
      "Epoch 56/500\n",
      "91/91 [==============================] - 2s 17ms/step - loss: 0.0049 - mae: 0.0567 - val_loss: 1.1870e-04 - val_mae: 0.0120\n",
      "Epoch 57/500\n",
      "91/91 [==============================] - 1s 9ms/step - loss: 0.0049 - mae: 0.0566 - val_loss: 1.1740e-04 - val_mae: 0.0119\n",
      "Epoch 58/500\n",
      "91/91 [==============================] - 1s 10ms/step - loss: 0.0049 - mae: 0.0564 - val_loss: 1.2193e-04 - val_mae: 0.0123\n",
      "Epoch 59/500\n",
      "91/91 [==============================] - 1s 13ms/step - loss: 0.0049 - mae: 0.0564 - val_loss: 1.1857e-04 - val_mae: 0.0120\n",
      "Epoch 60/500\n",
      "91/91 [==============================] - 2s 25ms/step - loss: 0.0048 - mae: 0.0562 - val_loss: 1.1778e-04 - val_mae: 0.0120- mae: 0\n",
      "Epoch 61/500\n",
      "91/91 [==============================] - 2s 19ms/step - loss: 0.0048 - mae: 0.0565 - val_loss: 1.1526e-04 - val_mae: 0.0118\n",
      "Epoch 62/500\n",
      "91/91 [==============================] - 2s 19ms/step - loss: 0.0048 - mae: 0.0560 - val_loss: 1.1527e-04 - val_mae: 0.0118\n",
      "Epoch 63/500\n",
      "91/91 [==============================] - 2s 20ms/step - loss: 0.0048 - mae: 0.0559 - val_loss: 1.1587e-04 - val_mae: 0.0118\n",
      "Epoch 64/500\n",
      "91/91 [==============================] - 1s 11ms/step - loss: 0.0048 - mae: 0.0561 - val_loss: 1.1297e-04 - val_mae: 0.0116\n",
      "Epoch 65/500\n",
      "91/91 [==============================] - 1s 11ms/step - loss: 0.0048 - mae: 0.0558 - val_loss: 1.1125e-04 - val_mae: 0.0115\n",
      "Epoch 66/500\n",
      "91/91 [==============================] - 1s 12ms/step - loss: 0.0048 - mae: 0.0554 - val_loss: 1.1703e-04 - val_mae: 0.0119\n",
      "Epoch 67/500\n",
      "91/91 [==============================] - 1s 10ms/step - loss: 0.0047 - mae: 0.0558 - val_loss: 1.1176e-04 - val_mae: 0.0116\n",
      "Epoch 68/500\n",
      "91/91 [==============================] - 1s 14ms/step - loss: 0.0047 - mae: 0.0555 - val_loss: 1.1303e-04 - val_mae: 0.0117\n",
      "Epoch 69/500\n",
      "91/91 [==============================] - 1s 10ms/step - loss: 0.0047 - mae: 0.0553 - val_loss: 1.1502e-04 - val_mae: 0.0118\n",
      "Epoch 70/500\n",
      "91/91 [==============================] - 1s 14ms/step - loss: 0.0047 - mae: 0.0554 - val_loss: 1.1326e-04 - val_mae: 0.0117\n",
      "Epoch 71/500\n",
      "91/91 [==============================] - 2s 17ms/step - loss: 0.0047 - mae: 0.0553 - val_loss: 1.1377e-04 - val_mae: 0.0117\n",
      "Epoch 72/500\n",
      "91/91 [==============================] - 1s 10ms/step - loss: 0.0047 - mae: 0.0553 - val_loss: 1.1685e-04 - val_mae: 0.0120\n",
      "Epoch 73/500\n",
      "91/91 [==============================] - 1s 12ms/step - loss: 0.0047 - mae: 0.0552 - val_loss: 1.1635e-04 - val_mae: 0.0119\n",
      "Epoch 74/500\n",
      "91/91 [==============================] - 1s 11ms/step - loss: 0.0047 - mae: 0.0551 - val_loss: 1.1873e-04 - val_mae: 0.0121\n",
      "Epoch 75/500\n",
      "91/91 [==============================] - 1s 13ms/step - loss: 0.0047 - mae: 0.0549 - val_loss: 1.1721e-04 - val_mae: 0.0120\n"
     ]
    },
    {
     "data": {
      "text/plain": [
       "<tensorflow.python.keras.callbacks.History at 0x27317f846a0>"
      ]
     },
     "execution_count": 91,
     "metadata": {},
     "output_type": "execute_result"
    }
   ],
   "source": [
    "refresh()\n",
    "\n",
    "window_size = 30\n",
    "\n",
    "train_set = window_dataset(x_train, window_size)\n",
    "valid_set = window_dataset(x_valid, window_size)\n",
    "\n",
    "model = Sequential([\n",
    "            Dense(10, activation=\"relu\", input_shape=[window_size]),\n",
    "            Dense(10, activation=\"relu\"),\n",
    "            Dense(1)\n",
    "        ])\n",
    "\n",
    "optimizer = keras.optimizers.SGD(learning_rate=1e-3, momentum=0.9)\n",
    "\n",
    "model.compile(loss=keras.losses.Huber(),\n",
    "              optimizer=optimizer,\n",
    "              metrics=[\"mae\"])\n",
    "\n",
    "early_stopping = EarlyStopping(patience=10)\n",
    "\n",
    "model.fit(train_set, epochs=500,\n",
    "          validation_data=valid_set,\n",
    "          callbacks=[early_stopping])"
   ]
  },
  {
   "cell_type": "code",
   "execution_count": 92,
   "id": "00756dff",
   "metadata": {
    "id": "RqQbX6DZ8OIu"
   },
   "outputs": [],
   "source": [
    "dense_forecast = model_forecast(\n",
    "                    model,\n",
    "                    oil_data[split_date - window_size:-1],\n",
    "                    window_size)[:, 0]"
   ]
  },
  {
   "cell_type": "code",
   "execution_count": 93,
   "id": "6df2f3cc",
   "metadata": {
    "colab": {
     "base_uri": "https://localhost:8080/",
     "height": 388
    },
    "id": "98zwAuIo8OIv",
    "outputId": "006b83fb-6191-425b-f0f2-55dfab80ff00"
   },
   "outputs": [
    {
     "data": {
      "image/png": "[encoded data removed]",
      "text/plain": [
       "<Figure size 720x432 with 1 Axes>"
      ]
     },
     "metadata": {
      "needs_background": "light"
     },
     "output_type": "display_data"
    }
   ],
   "source": [
    "plt.figure(figsize=(10, 6))\n",
    "plot_series(date_valid, x_valid, label=\"Actual\")\n",
    "plot_series(date_valid, dense_forecast, label=\"MLP Model\")\n",
    "\n",
    "plt.show()"
   ]
  },
  {
   "cell_type": "code",
   "execution_count": 94,
   "id": "b214a03a",
   "metadata": {
    "colab": {
     "base_uri": "https://localhost:8080/"
    },
    "id": "EgkELN-58OIw",
    "outputId": "44baae06-fe0c-42d1-e638-23b6e48997df"
   },
   "outputs": [
    {
     "name": "stdout",
     "output_type": "stream",
     "text": [
      "mae = 0.01220634113997221, \n",
      "mse = 0.0002447806182317436, \n",
      "rmse = 0.01564546637948973\n"
     ]
    }
   ],
   "source": [
    "mae = keras.metrics.mean_absolute_error(x_valid, dense_forecast).numpy()\n",
    "mse = keras.metrics.mean_squared_error(x_valid, dense_forecast).numpy()\n",
    "rmse = math.sqrt(mse)\n",
    "\n",
    "print(f'mae = {mae}, \\nmse = {mse}, \\nrmse = {rmse}')"
   ]
  },
  {
   "cell_type": "code",
   "execution_count": 95,
   "id": "8b98b473-1bec-4e3c-bb78-19ee53e69cfe",
   "metadata": {},
   "outputs": [
    {
     "name": "stdout",
     "output_type": "stream",
     "text": [
      "Model: \"sequential\"\n",
      "_________________________________________________________________\n",
      "Layer (type)                 Output Shape              Param #   \n",
      "=================================================================\n",
      "dense (Dense)                (None, 10)                310       \n",
      "_________________________________________________________________\n",
      "dense_1 (Dense)              (None, 10)                110       \n",
      "_________________________________________________________________\n",
      "dense_2 (Dense)              (None, 1)                 11        \n",
      "=================================================================\n",
      "Total params: 431\n",
      "Trainable params: 431\n",
      "Non-trainable params: 0\n",
      "_________________________________________________________________\n",
      "[<tf.Variable 'dense/kernel:0' shape=(30, 10) dtype=float32, numpy=\n",
      "array([[ 2.18016356e-01,  9.53972787e-02, -3.73882234e-01,\n",
      "        -1.14936695e-01,  2.04220624e-03, -9.36639532e-02,\n",
      "        -3.01182419e-01, -3.70745003e-01, -1.68804243e-01,\n",
      "        -2.24156082e-02],\n",
      "       [ 1.76869392e-01, -3.33945513e-01,  3.35203528e-01,\n",
      "        -2.22872332e-01,  1.47150576e-01, -2.92100459e-02,\n",
      "         3.00937921e-01,  3.32567930e-01, -2.31680945e-01,\n",
      "         2.08099306e-01],\n",
      "       [ 1.20870776e-01, -1.82183504e-01,  2.95902818e-01,\n",
      "        -3.33624780e-01, -6.91569746e-02,  2.92360932e-01,\n",
      "         2.59398043e-01, -3.08556080e-01, -2.40820140e-01,\n",
      "        -1.71211317e-01],\n",
      "       [-1.72708649e-02, -2.94672757e-01, -8.95149633e-02,\n",
      "         3.62982571e-01,  2.04336181e-01,  3.21335316e-01,\n",
      "        -3.04628789e-01, -1.96672976e-02,  1.16456799e-01,\n",
      "         5.09000123e-02],\n",
      "       [-2.27179006e-01, -1.60638005e-01, -1.30513057e-01,\n",
      "        -2.67865419e-01,  1.02172367e-01, -5.54771759e-02,\n",
      "         1.93132609e-01, -1.53342128e-01, -1.46509157e-02,\n",
      "        -1.81805104e-01],\n",
      "       [ 2.03265384e-01,  1.63990468e-01, -2.40935162e-01,\n",
      "        -1.81501970e-01,  2.24606216e-01,  3.49482000e-01,\n",
      "         1.99607968e-01, -1.63019732e-01,  2.62127761e-02,\n",
      "        -3.48085612e-01],\n",
      "       [-2.15302840e-01, -4.21356484e-02, -2.17530578e-01,\n",
      "         2.96423733e-01,  4.03923020e-02, -1.47024900e-01,\n",
      "         1.71924517e-01, -8.32522213e-02,  1.54949844e-01,\n",
      "         1.57866955e-01],\n",
      "       [ 1.68226570e-01,  2.57285833e-01,  3.80554229e-01,\n",
      "         3.40380281e-01, -2.28107318e-01,  1.74099997e-01,\n",
      "         4.39610332e-02,  1.77396238e-02, -1.24876231e-01,\n",
      "         3.63618135e-01],\n",
      "       [ 3.60154897e-01, -1.50601417e-01,  3.47972542e-01,\n",
      "         5.86201437e-02,  2.16556825e-02, -1.62819028e-01,\n",
      "        -8.38675443e-03,  1.11774802e-02,  1.47935361e-01,\n",
      "        -1.00073069e-01],\n",
      "       [-4.34400368e-04,  3.19870710e-01, -2.25196779e-01,\n",
      "        -7.85677731e-02, -1.94588959e-01,  3.32479596e-01,\n",
      "         2.96298593e-01, -2.57385790e-01,  1.17582232e-01,\n",
      "         2.33247876e-01],\n",
      "       [-3.60879838e-01,  4.89457324e-02, -1.58823535e-01,\n",
      "         3.45423251e-01, -6.90667033e-02,  2.64421165e-01,\n",
      "        -2.10188523e-01, -1.72797799e-01, -1.78938106e-01,\n",
      "         1.89098537e-01],\n",
      "       [ 2.90395051e-01,  2.83936888e-01,  2.45968789e-01,\n",
      "         3.28363359e-01,  3.27737629e-01, -8.17716196e-02,\n",
      "         2.34167889e-01, -1.87735125e-01,  3.37730758e-02,\n",
      "        -1.12396389e-01],\n",
      "       [-4.38486263e-02,  3.74530137e-01, -5.64532280e-02,\n",
      "         8.07499960e-02,  1.22520432e-01,  2.56203771e-01,\n",
      "         2.76038617e-01, -5.44253290e-02,  3.00689965e-01,\n",
      "        -2.75364876e-01],\n",
      "       [ 1.92207009e-01, -5.86424060e-02,  1.93358585e-01,\n",
      "        -3.17927748e-02, -3.08444444e-03,  8.57295766e-02,\n",
      "        -7.48014972e-02, -2.93878496e-01,  8.49037841e-02,\n",
      "        -2.16615573e-01],\n",
      "       [ 2.16019824e-01,  5.44473642e-06, -1.79005533e-01,\n",
      "        -1.80276781e-01, -3.27419758e-01,  2.39998430e-01,\n",
      "         7.41385296e-02, -3.72895390e-01, -1.44636303e-01,\n",
      "        -5.61397970e-02],\n",
      "       [-1.73458140e-02,  3.63804772e-02, -2.14254372e-02,\n",
      "        -3.37372482e-01,  1.04032122e-02, -1.79004341e-01,\n",
      "        -2.57459939e-01,  2.70091355e-01,  3.37468892e-01,\n",
      "        -3.16195726e-01],\n",
      "       [ 2.91406065e-01,  2.68932935e-02, -3.03082108e-01,\n",
      "        -1.32673100e-01,  1.44545183e-01, -3.18280399e-01,\n",
      "         5.51776141e-02, -3.15349728e-01, -3.28018218e-01,\n",
      "         2.12916732e-03],\n",
      "       [ 2.10355476e-01, -2.98297293e-02, -2.95603842e-01,\n",
      "        -3.63929749e-01, -8.18050001e-03,  3.97057384e-01,\n",
      "         3.79487962e-01, -3.00015211e-02, -8.04213621e-03,\n",
      "        -3.78123909e-01],\n",
      "       [-3.11153114e-01, -3.03795457e-01, -1.78964928e-01,\n",
      "         2.25427225e-01, -2.58845001e-01, -2.16076165e-01,\n",
      "        -2.69578278e-01, -3.54176760e-01, -3.59879851e-01,\n",
      "        -1.10276550e-01],\n",
      "       [ 2.40612403e-01, -3.79038185e-01,  3.62186372e-01,\n",
      "         1.52302071e-01,  3.64258051e-01,  8.39365199e-02,\n",
      "        -1.23583145e-01,  2.05736995e-01,  3.25329751e-01,\n",
      "        -4.91370559e-02],\n",
      "       [-1.12058576e-02, -1.15523413e-01, -3.39899004e-01,\n",
      "         5.47414795e-02, -2.69216359e-01,  3.83509427e-01,\n",
      "         2.93313920e-01,  1.62028372e-01,  1.78387761e-01,\n",
      "         2.85847366e-01],\n",
      "       [-3.02950531e-01, -1.58220232e-01, -3.58902276e-01,\n",
      "         3.53507698e-01, -1.15162604e-01,  1.66526943e-01,\n",
      "         2.80408710e-01,  3.84471357e-01,  8.29982385e-02,\n",
      "        -1.33666784e-01],\n",
      "       [ 2.11724415e-01, -1.18700154e-01, -2.35113606e-01,\n",
      "         3.73929590e-01, -2.72697955e-01, -8.78172517e-02,\n",
      "         2.15005595e-02, -3.83077800e-01, -2.08635971e-01,\n",
      "         2.39531755e-01],\n",
      "       [-5.79458401e-02, -1.37332994e-02, -1.29401684e-01,\n",
      "         8.21918875e-05, -3.35202575e-01, -1.78204834e-01,\n",
      "         3.76734793e-01,  7.13217258e-03,  3.38066429e-01,\n",
      "        -3.31132412e-01],\n",
      "       [ 2.07817331e-01, -9.62906033e-02, -3.16138864e-01,\n",
      "        -1.38451621e-01, -2.80870385e-02,  1.26120359e-01,\n",
      "        -3.08895171e-01,  5.04096746e-02, -9.60269198e-03,\n",
      "        -1.76325247e-01],\n",
      "       [-2.74863750e-01,  3.64192039e-01,  1.55171424e-01,\n",
      "         2.77500123e-01, -7.03646541e-02,  2.38218114e-01,\n",
      "        -2.59288192e-01, -1.50105834e-01,  3.41359973e-01,\n",
      "         7.56642520e-02],\n",
      "       [ 3.68555546e-01,  3.17751080e-01,  4.59582582e-02,\n",
      "         3.03229570e-01, -2.89108157e-01, -7.10627362e-02,\n",
      "         1.25045687e-01, -3.52790207e-01, -1.63252100e-01,\n",
      "        -3.38551402e-03],\n",
      "       [ 1.12192221e-01,  3.34244281e-01,  3.77275407e-01,\n",
      "         2.72210896e-01,  5.20220660e-02, -2.90546685e-01,\n",
      "        -2.96954989e-01,  1.11302912e-01,  3.06168675e-01,\n",
      "        -2.19822600e-01],\n",
      "       [-1.97739318e-01, -4.73321341e-02, -3.76811266e-01,\n",
      "         2.86396611e-02, -1.46239430e-01, -3.57884109e-01,\n",
      "         2.85211802e-01, -1.47328183e-01, -3.68467093e-01,\n",
      "        -3.39567691e-01],\n",
      "       [ 4.79715079e-01, -1.89855263e-01,  8.82708877e-02,\n",
      "        -4.05903049e-02, -1.51408643e-01, -2.58095622e-01,\n",
      "         7.91969523e-02, -1.15156174e-02, -2.44729728e-01,\n",
      "        -1.93008065e-01]], dtype=float32)>, <tf.Variable 'dense/bias:0' shape=(10,) dtype=float32, numpy=\n",
      "array([ 0.00465913, -0.00507976, -0.00029893, -0.02109075, -0.01213125,\n",
      "        0.03621231,  0.00972894,  0.        ,  0.00531194,  0.        ],\n",
      "      dtype=float32)>, <tf.Variable 'dense_1/kernel:0' shape=(10, 10) dtype=float32, numpy=\n",
      "array([[ 3.0274975e-01, -1.7189302e-01,  6.8095960e-02,  1.2723592e-02,\n",
      "        -2.5917655e-01, -1.2587003e-01,  1.4032283e-01,  1.8211289e-01,\n",
      "        -2.0353107e-01,  4.4219452e-01],\n",
      "       [ 1.7145516e-01, -2.1213186e-01,  4.0981621e-01, -4.3624687e-01,\n",
      "         6.9316469e-02, -2.7458203e-01,  2.4635969e-01, -2.0896677e-02,\n",
      "        -2.7379831e-02,  4.2055997e-01],\n",
      "       [ 1.9572996e-01, -4.4086877e-01, -5.3008920e-01, -1.4246592e-02,\n",
      "         9.1034681e-02, -9.6210860e-02,  2.5403917e-01,  4.7599190e-01,\n",
      "         3.3535406e-02,  5.1089340e-01],\n",
      "       [ 4.6655801e-01, -4.2877173e-01, -7.3728062e-02,  3.6932898e-01,\n",
      "        -4.6295151e-02,  3.7532309e-01, -5.0075012e-01,  3.7603605e-01,\n",
      "         9.5535405e-02, -3.8841000e-01],\n",
      "       [-5.3949125e-02, -2.7845058e-01, -1.6663302e-01,  8.7334640e-02,\n",
      "         3.5309106e-01,  3.6001194e-01,  4.1339821e-01,  3.6294386e-02,\n",
      "        -5.0542617e-01, -5.0439143e-01],\n",
      "       [ 3.4027830e-01,  3.0114961e-01,  3.4829235e-01, -1.7260624e-01,\n",
      "        -1.7025223e-01, -1.8853952e-01, -2.0271838e-01, -2.3362434e-01,\n",
      "         5.4246151e-01, -1.4378636e-01],\n",
      "       [ 1.5134236e-01,  4.2146721e-01, -4.3200141e-01,  3.5450950e-01,\n",
      "         4.7671145e-01, -3.0746457e-01, -4.0061256e-01,  2.3322172e-01,\n",
      "        -1.1983017e-02, -1.8094122e-01],\n",
      "       [ 1.7026711e-01,  1.8815047e-01, -2.3830199e-01,  1.5288359e-01,\n",
      "        -4.1757554e-01, -5.4140419e-02, -1.3736081e-01,  3.1689608e-01,\n",
      "        -1.6167641e-02,  5.2252698e-01],\n",
      "       [ 5.0955677e-01,  3.2612765e-01, -4.0362633e-04, -5.0783002e-01,\n",
      "         4.7750032e-01, -1.0585179e-01, -2.7957889e-01, -3.0478729e-02,\n",
      "         2.3070198e-01,  2.3993646e-01],\n",
      "       [ 7.9015613e-02, -9.6546680e-02, -2.6674676e-01, -1.4483574e-01,\n",
      "        -2.0626986e-01, -5.5208117e-02,  1.3024879e-01,  9.2094958e-02,\n",
      "        -4.9108389e-01,  2.7458847e-02]], dtype=float32)>, <tf.Variable 'dense_1/bias:0' shape=(10,) dtype=float32, numpy=\n",
      "array([ 0.01198244,  0.00622801, -0.02161715,  0.02699185, -0.04018041,\n",
      "       -0.06579211, -0.00012768, -0.01168189,  0.05325919,  0.01374164],\n",
      "      dtype=float32)>, <tf.Variable 'dense_2/kernel:0' shape=(10, 1) dtype=float32, numpy=\n",
      "array([[ 0.47053924],\n",
      "       [-0.02723345],\n",
      "       [-0.1876751 ],\n",
      "       [ 0.6334733 ],\n",
      "       [ 0.17368384],\n",
      "       [-0.4548526 ],\n",
      "       [ 0.20350221],\n",
      "       [-0.2747724 ],\n",
      "       [-0.6861737 ],\n",
      "       [ 0.51169205]], dtype=float32)>, <tf.Variable 'dense_2/bias:0' shape=(1,) dtype=float32, numpy=array([0.03338755], dtype=float32)>]\n"
     ]
    }
   ],
   "source": [
    "model.summary()\n",
    "print(model.trainable_variables)"
   ]
  },
  {
   "cell_type": "markdown",
   "id": "1ed9d28e",
   "metadata": {
    "id": "b577aadb-081a-49f0-999c-4d2a6062968e",
    "tags": []
   },
   "source": [
    "# RNN Model - LSTM"
   ]
  },
  {
   "cell_type": "code",
   "execution_count": 29,
   "id": "849be30c",
   "metadata": {
    "id": "8zfwXGuuvmix"
   },
   "outputs": [],
   "source": [
    "def sequential_window_dataset(series, window_size):\n",
    "    \n",
    "    series = tf.expand_dims(series, axis=-1)\n",
    "    dataset = tf.data.Dataset.from_tensor_slices(series)\n",
    "    dataset = dataset.window(window_size + 1, shift=window_size, drop_remainder=True)\n",
    "    dataset = dataset.flat_map(lambda window: window.batch(window_size + 1))\n",
    "    dataset = dataset.map(lambda window: (window[:-1], window[1:]))\n",
    "    \n",
    "    return dataset.batch(1).prefetch(1)"
   ]
  },
  {
   "cell_type": "code",
   "execution_count": 30,
   "id": "22074a35",
   "metadata": {
    "colab": {
     "base_uri": "https://localhost:8080/"
    },
    "id": "01913cd7",
    "outputId": "46d6ab6d-ea57-48e1-d2b6-b95d3fc9ce38",
    "scrolled": true,
    "tags": []
   },
   "outputs": [
    {
     "name": "stdout",
     "output_type": "stream",
     "text": [
      "Epoch 1/100\n",
      "91/91 [==============================] - 10s 26ms/step - loss: 0.1192 - mae: 0.4041\n",
      "Epoch 2/100\n",
      "91/91 [==============================] - 2s 22ms/step - loss: 0.1192 - mae: 0.4041\n",
      "Epoch 3/100\n",
      "91/91 [==============================] - 2s 23ms/step - loss: 0.1192 - mae: 0.4041: 0s - loss: 0.1479 - m\n",
      "Epoch 4/100\n",
      "91/91 [==============================] - 2s 23ms/step - loss: 0.1192 - mae: 0.4041: 0s - loss: 0.1428 - mae\n",
      "Epoch 5/100\n",
      "91/91 [==============================] - 2s 22ms/step - loss: 0.1192 - mae: 0.4041\n",
      "Epoch 6/100\n",
      "91/91 [==============================] - 3s 28ms/step - loss: 0.1192 - mae: 0.4040:\n",
      "Epoch 7/100\n",
      "91/91 [==============================] - 2s 26ms/step - loss: 0.1192 - mae: 0.4040\n",
      "Epoch 8/100\n",
      "91/91 [==============================] - 2s 24ms/step - loss: 0.1192 - mae: 0.4040: 1s -\n",
      "Epoch 9/100\n",
      "91/91 [==============================] - 2s 25ms/step - loss: 0.1192 - mae: 0.4039\n",
      "Epoch 10/100\n",
      "91/91 [==============================] - 2s 25ms/step - loss: 0.1192 - mae: 0.4039\n",
      "Epoch 11/100\n",
      "91/91 [==============================] - 2s 25ms/step - loss: 0.1191 - mae: 0.4039\n",
      "Epoch 12/100\n",
      "91/91 [==============================] - 3s 32ms/step - loss: 0.1191 - mae: 0.4038\n",
      "Epoch 13/100\n",
      "91/91 [==============================] - 3s 37ms/step - loss: 0.1191 - mae: 0.4038\n",
      "Epoch 14/100\n",
      "91/91 [==============================] - 2s 23ms/step - loss: 0.1191 - mae: 0.4037\n",
      "Epoch 15/100\n",
      "91/91 [==============================] - 2s 26ms/step - loss: 0.1190 - mae: 0.4037\n",
      "Epoch 16/100\n",
      "91/91 [==============================] - 3s 37ms/step - loss: 0.1190 - mae: 0.4036\n",
      "Epoch 17/100\n",
      "91/91 [==============================] - 2s 25ms/step - loss: 0.1190 - mae: 0.4035\n",
      "Epoch 18/100\n",
      "91/91 [==============================] - 3s 30ms/step - loss: 0.1189 - mae: 0.4034: \n",
      "Epoch 19/100\n",
      "91/91 [==============================] - 3s 35ms/step - loss: 0.1189 - mae: 0.4033\n",
      "Epoch 20/100\n",
      "91/91 [==============================] - 3s 28ms/step - loss: 0.1188 - mae: 0.4032: 0s - loss: 0.1285 - mae: \n",
      "Epoch 21/100\n",
      "91/91 [==============================] - 3s 28ms/step - loss: 0.1188 - mae: 0.4030\n",
      "Epoch 22/100\n",
      "91/91 [==============================] - 2s 24ms/step - loss: 0.1187 - mae: 0.4029\n",
      "Epoch 23/100\n",
      "91/91 [==============================] - 2s 21ms/step - loss: 0.1187 - mae: 0.4027\n",
      "Epoch 24/100\n",
      "91/91 [==============================] - 2s 27ms/step - loss: 0.1186 - mae: 0.4025\n",
      "Epoch 25/100\n",
      "91/91 [==============================] - 3s 36ms/step - loss: 0.1185 - mae: 0.4023: 1s - ETA: 0s - loss: 0.1185 - mae: 0.402\n",
      "Epoch 26/100\n",
      "91/91 [==============================] - 2s 25ms/step - loss: 0.1184 - mae: 0.4021: 0s - loss: 0.1250 - mae: 0.4\n",
      "Epoch 27/100\n",
      "91/91 [==============================] - 2s 25ms/step - loss: 0.1183 - mae: 0.4018\n",
      "Epoch 28/100\n",
      "91/91 [==============================] - 3s 28ms/step - loss: 0.1182 - mae: 0.4015\n",
      "Epoch 29/100\n",
      "91/91 [==============================] - 2s 25ms/step - loss: 0.1180 - mae: 0.4012: 1s - loss: 0\n",
      "Epoch 30/100\n",
      "91/91 [==============================] - 2s 21ms/step - loss: 0.1179 - mae: 0.4008\n",
      "Epoch 31/100\n",
      "91/91 [==============================] - 2s 20ms/step - loss: 0.1177 - mae: 0.4004\n",
      "Epoch 32/100\n",
      "91/91 [==============================] - 2s 23ms/step - loss: 0.1175 - mae: 0.3999\n",
      "Epoch 33/100\n",
      "91/91 [==============================] - 2s 20ms/step - loss: 0.1173 - mae: 0.3994\n",
      "Epoch 34/100\n",
      "91/91 [==============================] - 2s 19ms/step - loss: 0.1170 - mae: 0.3988\n",
      "Epoch 35/100\n",
      "91/91 [==============================] - 2s 20ms/step - loss: 0.1168 - mae: 0.3981\n",
      "Epoch 36/100\n",
      "91/91 [==============================] - 2s 20ms/step - loss: 0.1165 - mae: 0.3974\n",
      "Epoch 37/100\n",
      "91/91 [==============================] - 2s 20ms/step - loss: 0.1161 - mae: 0.3965\n",
      "Epoch 38/100\n",
      "91/91 [==============================] - 2s 20ms/step - loss: 0.1157 - mae: 0.3956: 1s - lo\n",
      "Epoch 39/100\n",
      "91/91 [==============================] - 2s 20ms/step - loss: 0.1153 - mae: 0.3946\n",
      "Epoch 40/100\n",
      "91/91 [==============================] - 2s 22ms/step - loss: 0.1148 - mae: 0.3934\n",
      "Epoch 41/100\n",
      "91/91 [==============================] - 2s 21ms/step - loss: 0.1143 - mae: 0.3921\n",
      "Epoch 42/100\n",
      "91/91 [==============================] - 2s 21ms/step - loss: 0.1137 - mae: 0.3906\n",
      "Epoch 43/100\n",
      "91/91 [==============================] - 2s 20ms/step - loss: 0.1130 - mae: 0.3890\n",
      "Epoch 44/100\n",
      "91/91 [==============================] - 2s 21ms/step - loss: 0.1123 - mae: 0.3871\n",
      "Epoch 45/100\n",
      "91/91 [==============================] - 2s 20ms/step - loss: 0.1115 - mae: 0.3851\n",
      "Epoch 46/100\n",
      "91/91 [==============================] - 2s 20ms/step - loss: 0.1106 - mae: 0.3828: 1s - loss\n",
      "Epoch 47/100\n",
      "91/91 [==============================] - 2s 21ms/step - loss: 0.1096 - mae: 0.3803\n",
      "Epoch 48/100\n",
      "91/91 [==============================] - 2s 21ms/step - loss: 0.1085 - mae: 0.3775\n",
      "Epoch 49/100\n",
      "91/91 [==============================] - 2s 21ms/step - loss: 0.1072 - mae: 0.3743\n",
      "Epoch 50/100\n",
      "91/91 [==============================] - 2s 20ms/step - loss: 0.1059 - mae: 0.3709\n",
      "Epoch 51/100\n",
      "91/91 [==============================] - 2s 20ms/step - loss: 0.1044 - mae: 0.3670: 1\n",
      "Epoch 52/100\n",
      "91/91 [==============================] - 2s 20ms/step - loss: 0.1027 - mae: 0.3627\n",
      "Epoch 53/100\n",
      "91/91 [==============================] - 2s 20ms/step - loss: 0.1009 - mae: 0.3580\n",
      "Epoch 54/100\n",
      "91/91 [==============================] - 2s 20ms/step - loss: 0.0990 - mae: 0.3528\n",
      "Epoch 55/100\n",
      "91/91 [==============================] - 2s 20ms/step - loss: 0.0968 - mae: 0.3470\n",
      "Epoch 56/100\n",
      "91/91 [==============================] - 2s 22ms/step - loss: 0.0945 - mae: 0.3407: 0s - loss: 0.0973 - mae: 0.34\n",
      "Epoch 57/100\n",
      "91/91 [==============================] - 3s 27ms/step - loss: 0.0920 - mae: 0.3339: 1s - loss: - ETA: 0s - loss: 0.0938 - mae: 0.337\n",
      "Epoch 58/100\n",
      "91/91 [==============================] - 3s 31ms/step - loss: 0.0893 - mae: 0.3265\n",
      "Epoch 59/100\n",
      "91/91 [==============================] - 3s 33ms/step - loss: 0.0864 - mae: 0.3185\n",
      "Epoch 60/100\n",
      "91/91 [==============================] - 3s 35ms/step - loss: 0.0833 - mae: 0.3098\n",
      "Epoch 61/100\n",
      "91/91 [==============================] - 4s 42ms/step - loss: 0.0801 - mae: 0.3005\n",
      "Epoch 62/100\n",
      "91/91 [==============================] - 3s 30ms/step - loss: 0.0767 - mae: 0.2906\n",
      "Epoch 63/100\n",
      "91/91 [==============================] - 2s 21ms/step - loss: 0.0731 - mae: 0.2801\n",
      "Epoch 64/100\n",
      "91/91 [==============================] - 2s 22ms/step - loss: 0.0695 - mae: 0.2690: \n",
      "Epoch 65/100\n",
      "91/91 [==============================] - 2s 22ms/step - loss: 0.0657 - mae: 0.2573\n",
      "Epoch 66/100\n",
      "91/91 [==============================] - 2s 22ms/step - loss: 0.0619 - mae: 0.2453\n",
      "Epoch 67/100\n",
      "91/91 [==============================] - 2s 22ms/step - loss: 0.0582 - mae: 0.2336\n",
      "Epoch 68/100\n",
      "91/91 [==============================] - 2s 22ms/step - loss: 0.0544 - mae: 0.2222: 0s - loss: 0.0685 - ma\n",
      "Epoch 69/100\n",
      "91/91 [==============================] - 2s 25ms/step - loss: 0.0508 - mae: 0.2116\n",
      "Epoch 70/100\n",
      "91/91 [==============================] - 2s 21ms/step - loss: 0.0474 - mae: 0.2021\n",
      "Epoch 71/100\n",
      "91/91 [==============================] - 2s 21ms/step - loss: 0.0442 - mae: 0.1941\n",
      "Epoch 72/100\n",
      "91/91 [==============================] - 2s 22ms/step - loss: 0.0412 - mae: 0.1888: 1s - l\n",
      "Epoch 73/100\n",
      "91/91 [==============================] - 2s 22ms/step - loss: 0.0386 - mae: 0.1857\n",
      "Epoch 74/100\n",
      "91/91 [==============================] - 2s 21ms/step - loss: 0.0363 - mae: 0.1836\n",
      "Epoch 75/100\n",
      "91/91 [==============================] - 2s 22ms/step - loss: 0.0344 - mae: 0.1828\n",
      "Epoch 76/100\n",
      "91/91 [==============================] - 2s 23ms/step - loss: 0.0327 - mae: 0.1831\n",
      "Epoch 77/100\n",
      "91/91 [==============================] - 2s 26ms/step - loss: 0.0314 - mae: 0.1842\n",
      "Epoch 78/100\n",
      "91/91 [==============================] - 2s 24ms/step - loss: 0.0303 - mae: 0.1854: 1s - l\n",
      "Epoch 79/100\n",
      "91/91 [==============================] - 2s 24ms/step - loss: 0.0294 - mae: 0.1865: 1s - loss: 0.0631 - mae: 0.297 - ETA: 1s - los\n",
      "Epoch 80/100\n",
      "91/91 [==============================] - 2s 22ms/step - loss: 0.0287 - mae: 0.1874\n",
      "Epoch 81/100\n",
      "91/91 [==============================] - 2s 21ms/step - loss: 0.0280 - mae: 0.1878: 0s - loss: 0.0366 \n",
      "Epoch 82/100\n",
      "91/91 [==============================] - 2s 22ms/step - loss: 0.0274 - mae: 0.1875\n",
      "Epoch 83/100\n",
      "91/91 [==============================] - 2s 22ms/step - loss: 0.0268 - mae: 0.1866\n",
      "Epoch 84/100\n",
      "91/91 [==============================] - 2s 24ms/step - loss: 0.0262 - mae: 0.1850\n",
      "Epoch 85/100\n",
      "91/91 [==============================] - 2s 23ms/step - loss: 0.0255 - mae: 0.1829\n",
      "Epoch 86/100\n",
      "91/91 [==============================] - 2s 22ms/step - loss: 0.0248 - mae: 0.1802\n",
      "Epoch 87/100\n",
      "91/91 [==============================] - 2s 22ms/step - loss: 0.0240 - mae: 0.1771\n",
      "Epoch 88/100\n",
      "91/91 [==============================] - 2s 23ms/step - loss: 0.0232 - mae: 0.1735\n",
      "Epoch 89/100\n",
      "91/91 [==============================] - 2s 22ms/step - loss: 0.0223 - mae: 0.1694\n",
      "Epoch 90/100\n",
      "91/91 [==============================] - 2s 21ms/step - loss: 0.0212 - mae: 0.1648: \n",
      "Epoch 91/100\n",
      "91/91 [==============================] - 2s 21ms/step - loss: 0.0201 - mae: 0.1596\n",
      "Epoch 92/100\n",
      "91/91 [==============================] - 2s 24ms/step - loss: 0.0190 - mae: 0.1538\n",
      "Epoch 93/100\n",
      "91/91 [==============================] - 2s 21ms/step - loss: 0.0177 - mae: 0.1473\n",
      "Epoch 94/100\n",
      "91/91 [==============================] - 2s 21ms/step - loss: 0.0163 - mae: 0.1400\n",
      "Epoch 95/100\n",
      "91/91 [==============================] - 2s 21ms/step - loss: 0.0148 - mae: 0.1319\n",
      "Epoch 96/100\n",
      "91/91 [==============================] - 2s 22ms/step - loss: 0.0133 - mae: 0.1229\n",
      "Epoch 97/100\n",
      "91/91 [==============================] - 2s 21ms/step - loss: 0.0118 - mae: 0.1133\n",
      "Epoch 98/100\n",
      "91/91 [==============================] - 2s 20ms/step - loss: 0.0103 - mae: 0.1035\n",
      "Epoch 99/100\n",
      "91/91 [==============================] - 2s 21ms/step - loss: 0.0091 - mae: 0.0940\n",
      "Epoch 100/100\n",
      "91/91 [==============================] - 2s 23ms/step - loss: 0.0080 - mae: 0.0857\n"
     ]
    }
   ],
   "source": [
    "refresh()\n",
    "\n",
    "window_size = 30\n",
    "\n",
    "train_set = sequential_window_dataset(x_train, window_size)\n",
    "\n",
    "model = Sequential([\n",
    "    \n",
    "        LSTM(100, return_sequences=True, stateful=True, batch_input_shape=[1, None, 1]),\n",
    "        LSTM(100, return_sequences=True, stateful=True),\n",
    "        Dense(1)\n",
    "        #Lambda(lambda x: x * 200.0)\n",
    "    \n",
    "        ])\n",
    "\n",
    "learning_rate_schedule = LearningRateScheduler(lambda epoch: 1e-8 * 10**(epoch / 20))\n",
    "reset_states = ResetStatesCallback()\n",
    "\n",
    "optimizer = keras.optimizers.SGD(learning_rate=1e-8, momentum=0.9)\n",
    "\n",
    "model.compile(loss=keras.losses.Huber(), optimizer=optimizer, metrics=[\"mae\"])\n",
    "\n",
    "history = model.fit(train_set, epochs=100, callbacks=[learning_rate_schedule, reset_states])"
   ]
  },
  {
   "cell_type": "code",
   "execution_count": 34,
   "id": "0ec70b7d",
   "metadata": {
    "colab": {
     "base_uri": "https://localhost:8080/",
     "height": 291
    },
    "id": "eada4ef5",
    "outputId": "267fff3c-e77a-479e-f939-72b980fccca8"
   },
   "outputs": [
    {
     "data": {
      "image/png": "[encoded data removed]",
      "text/plain": [
       "<Figure size 432x288 with 1 Axes>"
      ]
     },
     "metadata": {
      "needs_background": "light"
     },
     "output_type": "display_data"
    },
    {
     "data": {
      "text/plain": [
       "0.00089125097"
      ]
     },
     "execution_count": 34,
     "metadata": {},
     "output_type": "execute_result"
    }
   ],
   "source": [
    "plt.semilogx(history.history[\"lr\"], history.history[\"loss\"])\n",
    "plt.axis([1e-8, 1e-3, 0.009, 0.12])\n",
    "plt.show()\n",
    "\n",
    "max(history.history[\"lr\"])"
   ]
  },
  {
   "cell_type": "code",
   "execution_count": 35,
   "id": "cd1f6f16",
   "metadata": {
    "colab": {
     "base_uri": "https://localhost:8080/"
    },
    "id": "IpAvutYit4qq",
    "outputId": "137a9e66-fd42-4188-c872-0343c322f08c",
    "scrolled": true,
    "tags": []
   },
   "outputs": [
    {
     "name": "stdout",
     "output_type": "stream",
     "text": [
      "Epoch 1/500\n",
      "91/91 [==============================] - 10s 44ms/step - loss: 0.0664 - mae: 0.2672 - val_loss: 0.0063 - val_mae: 0.1018\n",
      "Epoch 2/500\n",
      "91/91 [==============================] - 2s 24ms/step - loss: 0.0304 - mae: 0.1919 - val_loss: 0.0046 - val_mae: 0.0865\n",
      "Epoch 3/500\n",
      "91/91 [==============================] - 2s 25ms/step - loss: 0.0251 - mae: 0.1731 - val_loss: 0.0034 - val_mae: 0.0741\n",
      "Epoch 4/500\n",
      "91/91 [==============================] - 2s 24ms/step - loss: 0.0205 - mae: 0.1550 - val_loss: 0.0024 - val_mae: 0.0617\n",
      "Epoch 5/500\n",
      "91/91 [==============================] - 2s 24ms/step - loss: 0.0167 - mae: 0.1379 - val_loss: 0.0016 - val_mae: 0.0503\n",
      "Epoch 6/500\n",
      "91/91 [==============================] - 2s 23ms/step - loss: 0.0136 - mae: 0.1221 - val_loss: 0.0011 - val_mae: 0.0402\n",
      "Epoch 7/500\n",
      "91/91 [==============================] - 2s 24ms/step - loss: 0.0111 - mae: 0.1078 - val_loss: 6.9260e-04 - val_mae: 0.0320\n",
      "Epoch 8/500\n",
      "91/91 [==============================] - 2s 23ms/step - loss: 0.0093 - mae: 0.0957 - val_loss: 4.5574e-04 - val_mae: 0.0255\n",
      "Epoch 9/500\n",
      "91/91 [==============================] - 2s 24ms/step - loss: 0.0080 - mae: 0.0859 - val_loss: 3.1454e-04 - val_mae: 0.0208\n",
      "Epoch 10/500\n",
      "91/91 [==============================] - 2s 25ms/step - loss: 0.0072 - mae: 0.0783 - val_loss: 2.3271e-04 - val_mae: 0.0174\n",
      "Epoch 11/500\n",
      "91/91 [==============================] - 2s 24ms/step - loss: 0.0067 - mae: 0.0726 - val_loss: 1.8574e-04 - val_mae: 0.0152\n",
      "Epoch 12/500\n",
      "91/91 [==============================] - 2s 26ms/step - loss: 0.0064 - mae: 0.0686 - val_loss: 1.5862e-04 - val_mae: 0.0137\n",
      "Epoch 13/500\n",
      "91/91 [==============================] - 2s 23ms/step - loss: 0.0062 - mae: 0.0658 - val_loss: 1.4273e-04 - val_mae: 0.0127\n",
      "Epoch 14/500\n",
      "91/91 [==============================] - 2s 24ms/step - loss: 0.0061 - mae: 0.0638 - val_loss: 1.3324e-04 - val_mae: 0.0121\n",
      "Epoch 15/500\n",
      "91/91 [==============================] - 2s 24ms/step - loss: 0.0060 - mae: 0.0625 - val_loss: 1.2747e-04 - val_mae: 0.0117\n",
      "Epoch 16/500\n",
      "91/91 [==============================] - 2s 26ms/step - loss: 0.0060 - mae: 0.0616 - val_loss: 1.2393e-04 - val_mae: 0.0114\n",
      "Epoch 17/500\n",
      "91/91 [==============================] - 2s 23ms/step - loss: 0.0060 - mae: 0.0610 - val_loss: 1.2174e-04 - val_mae: 0.0113\n",
      "Epoch 18/500\n",
      "91/91 [==============================] - 2s 23ms/step - loss: 0.0060 - mae: 0.0605 - val_loss: 1.2042e-04 - val_mae: 0.0112\n",
      "Epoch 19/500\n",
      "91/91 [==============================] - 2s 26ms/step - loss: 0.0059 - mae: 0.0602 - val_loss: 1.1965e-04 - val_mae: 0.0111\n",
      "Epoch 20/500\n",
      "91/91 [==============================] - 2s 23ms/step - loss: 0.0059 - mae: 0.0600 - val_loss: 1.1923e-04 - val_mae: 0.0111\n",
      "Epoch 21/500\n",
      "91/91 [==============================] - 2s 23ms/step - loss: 0.0059 - mae: 0.0598 - val_loss: 1.1906e-04 - val_mae: 0.0111\n",
      "Epoch 22/500\n",
      "91/91 [==============================] - 2s 25ms/step - loss: 0.0059 - mae: 0.0597 - val_loss: 1.1904e-04 - val_mae: 0.0111\n",
      "Epoch 23/500\n",
      "91/91 [==============================] - 2s 26ms/step - loss: 0.0059 - mae: 0.0596 - val_loss: 1.1913e-04 - val_mae: 0.0111\n",
      "Epoch 24/500\n",
      "91/91 [==============================] - 2s 23ms/step - loss: 0.0059 - mae: 0.0595 - val_loss: 1.1929e-04 - val_mae: 0.0111\n",
      "Epoch 25/500\n",
      "91/91 [==============================] - 2s 23ms/step - loss: 0.0059 - mae: 0.0595 - val_loss: 1.1949e-04 - val_mae: 0.0112\n",
      "Epoch 26/500\n",
      "91/91 [==============================] - 2s 24ms/step - loss: 0.0059 - mae: 0.0594 - val_loss: 1.1973e-04 - val_mae: 0.0112\n",
      "Epoch 27/500\n",
      "91/91 [==============================] - 2s 23ms/step - loss: 0.0059 - mae: 0.0594 - val_loss: 1.1998e-04 - val_mae: 0.0112\n",
      "Epoch 28/500\n",
      "91/91 [==============================] - 2s 24ms/step - loss: 0.0059 - mae: 0.0593 - val_loss: 1.2025e-04 - val_mae: 0.0112\n",
      "Epoch 29/500\n",
      "91/91 [==============================] - 2s 25ms/step - loss: 0.0059 - mae: 0.0593 - val_loss: 1.2053e-04 - val_mae: 0.0113\n",
      "Epoch 30/500\n",
      "91/91 [==============================] - 2s 27ms/step - loss: 0.0059 - mae: 0.0592 - val_loss: 1.2081e-04 - val_mae: 0.0113\n",
      "Epoch 31/500\n",
      "91/91 [==============================] - 2s 23ms/step - loss: 0.0059 - mae: 0.0592 - val_loss: 1.2110e-04 - val_mae: 0.0113\n",
      "Epoch 32/500\n",
      "91/91 [==============================] - 2s 24ms/step - loss: 0.0059 - mae: 0.0591 - val_loss: 1.2138e-04 - val_mae: 0.0113\n",
      "Epoch 33/500\n",
      "91/91 [==============================] - 2s 24ms/step - loss: 0.0059 - mae: 0.0591 - val_loss: 1.2167e-04 - val_mae: 0.0114\n",
      "Epoch 34/500\n",
      "91/91 [==============================] - 2s 25ms/step - loss: 0.0059 - mae: 0.0590 - val_loss: 1.2195e-04 - val_mae: 0.0114\n",
      "Epoch 35/500\n",
      "91/91 [==============================] - 2s 25ms/step - loss: 0.0058 - mae: 0.0590 - val_loss: 1.2224e-04 - val_mae: 0.0114\n",
      "Epoch 36/500\n",
      "91/91 [==============================] - 2s 25ms/step - loss: 0.0058 - mae: 0.0590 - val_loss: 1.2252e-04 - val_mae: 0.0114\n",
      "Epoch 37/500\n",
      "91/91 [==============================] - 2s 26ms/step - loss: 0.0058 - mae: 0.0589 - val_loss: 1.2279e-04 - val_mae: 0.0115\n",
      "Epoch 38/500\n",
      "91/91 [==============================] - 2s 23ms/step - loss: 0.0058 - mae: 0.0589 - val_loss: 1.2307e-04 - val_mae: 0.0115\n",
      "Epoch 39/500\n",
      "91/91 [==============================] - 2s 25ms/step - loss: 0.0058 - mae: 0.0588 - val_loss: 1.2334e-04 - val_mae: 0.0115\n",
      "Epoch 40/500\n",
      "91/91 [==============================] - 2s 24ms/step - loss: 0.0058 - mae: 0.0588 - val_loss: 1.2361e-04 - val_mae: 0.0115\n",
      "Epoch 41/500\n",
      "91/91 [==============================] - 2s 24ms/step - loss: 0.0058 - mae: 0.0588 - val_loss: 1.2388e-04 - val_mae: 0.0116\n",
      "Epoch 42/500\n",
      "91/91 [==============================] - 2s 24ms/step - loss: 0.0058 - mae: 0.0587 - val_loss: 1.2415e-04 - val_mae: 0.0116\n",
      "Epoch 43/500\n",
      "91/91 [==============================] - 2s 24ms/step - loss: 0.0058 - mae: 0.0587 - val_loss: 1.2441e-04 - val_mae: 0.0116\n",
      "Epoch 44/500\n",
      "91/91 [==============================] - 2s 26ms/step - loss: 0.0058 - mae: 0.0586 - val_loss: 1.2467e-04 - val_mae: 0.0116\n",
      "Epoch 45/500\n",
      "91/91 [==============================] - 2s 24ms/step - loss: 0.0058 - mae: 0.0586 - val_loss: 1.2493e-04 - val_mae: 0.0117\n",
      "Epoch 46/500\n",
      "91/91 [==============================] - 2s 24ms/step - loss: 0.0058 - mae: 0.0586 - val_loss: 1.2519e-04 - val_mae: 0.0117\n",
      "Epoch 47/500\n",
      "91/91 [==============================] - 2s 25ms/step - loss: 0.0058 - mae: 0.0585 - val_loss: 1.2544e-04 - val_mae: 0.0117\n",
      "Epoch 48/500\n",
      "91/91 [==============================] - 2s 24ms/step - loss: 0.0058 - mae: 0.0585 - val_loss: 1.2569e-04 - val_mae: 0.0117\n",
      "Epoch 49/500\n",
      "91/91 [==============================] - 2s 24ms/step - loss: 0.0058 - mae: 0.0585 - val_loss: 1.2594e-04 - val_mae: 0.0117\n",
      "Epoch 50/500\n",
      "91/91 [==============================] - 2s 24ms/step - loss: 0.0058 - mae: 0.0584 - val_loss: 1.2618e-04 - val_mae: 0.0118\n",
      "Epoch 51/500\n",
      "91/91 [==============================] - 3s 30ms/step - loss: 0.0058 - mae: 0.0584 - val_loss: 1.2642e-04 - val_mae: 0.0118\n",
      "Epoch 52/500\n",
      "91/91 [==============================] - 2s 25ms/step - loss: 0.0058 - mae: 0.0583 - val_loss: 1.2666e-04 - val_mae: 0.0118\n",
      "Epoch 53/500\n",
      "91/91 [==============================] - 2s 24ms/step - loss: 0.0058 - mae: 0.0583 - val_loss: 1.2690e-04 - val_mae: 0.0118\n",
      "Epoch 54/500\n",
      "91/91 [==============================] - 2s 24ms/step - loss: 0.0058 - mae: 0.0583 - val_loss: 1.2713e-04 - val_mae: 0.0118\n",
      "Epoch 55/500\n",
      "91/91 [==============================] - 2s 26ms/step - loss: 0.0058 - mae: 0.0582 - val_loss: 1.2736e-04 - val_mae: 0.0119\n",
      "Epoch 56/500\n",
      "91/91 [==============================] - 2s 24ms/step - loss: 0.0058 - mae: 0.0582 - val_loss: 1.2759e-04 - val_mae: 0.0119\n",
      "Epoch 57/500\n",
      "91/91 [==============================] - 2s 26ms/step - loss: 0.0058 - mae: 0.0582 - val_loss: 1.2782e-04 - val_mae: 0.0119\n",
      "Epoch 58/500\n",
      "91/91 [==============================] - 3s 29ms/step - loss: 0.0058 - mae: 0.0581 - val_loss: 1.2804e-04 - val_mae: 0.0119\n",
      "Epoch 59/500\n",
      "91/91 [==============================] - 2s 26ms/step - loss: 0.0058 - mae: 0.0581 - val_loss: 1.2827e-04 - val_mae: 0.0119\n",
      "Epoch 60/500\n",
      "91/91 [==============================] - 2s 26ms/step - loss: 0.0058 - mae: 0.0581 - val_loss: 1.2848e-04 - val_mae: 0.0120\n",
      "Epoch 61/500\n",
      "91/91 [==============================] - 2s 27ms/step - loss: 0.0058 - mae: 0.0580 - val_loss: 1.2870e-04 - val_mae: 0.0120\n",
      "Epoch 62/500\n",
      "91/91 [==============================] - 2s 25ms/step - loss: 0.0058 - mae: 0.0580 - val_loss: 1.2892e-04 - val_mae: 0.0120\n",
      "Epoch 63/500\n",
      "91/91 [==============================] - 2s 25ms/step - loss: 0.0058 - mae: 0.0580 - val_loss: 1.2913e-04 - val_mae: 0.0120\n",
      "Epoch 64/500\n",
      "91/91 [==============================] - 3s 32ms/step - loss: 0.0057 - mae: 0.0579 - val_loss: 1.2934e-04 - val_mae: 0.0120\n",
      "Epoch 65/500\n",
      "91/91 [==============================] - 2s 24ms/step - loss: 0.0057 - mae: 0.0579 - val_loss: 1.2954e-04 - val_mae: 0.0120\n",
      "Epoch 66/500\n",
      "91/91 [==============================] - 2s 24ms/step - loss: 0.0057 - mae: 0.0579 - val_loss: 1.2975e-04 - val_mae: 0.0121\n",
      "Epoch 67/500\n",
      "91/91 [==============================] - 2s 24ms/step - loss: 0.0057 - mae: 0.0579 - val_loss: 1.2995e-04 - val_mae: 0.0121\n",
      "Epoch 68/500\n",
      "91/91 [==============================] - 2s 23ms/step - loss: 0.0057 - mae: 0.0578 - val_loss: 1.3015e-04 - val_mae: 0.0121\n",
      "Epoch 69/500\n",
      "91/91 [==============================] - 2s 23ms/step - loss: 0.0057 - mae: 0.0578 - val_loss: 1.3035e-04 - val_mae: 0.0121\n",
      "Epoch 70/500\n",
      "91/91 [==============================] - 2s 23ms/step - loss: 0.0057 - mae: 0.0578 - val_loss: 1.3054e-04 - val_mae: 0.0121\n",
      "Epoch 71/500\n",
      "91/91 [==============================] - 3s 32ms/step - loss: 0.0057 - mae: 0.0577 - val_loss: 1.3073e-04 - val_mae: 0.0122\n",
      "Epoch 72/500\n",
      "91/91 [==============================] - 2s 23ms/step - loss: 0.0057 - mae: 0.0577 - val_loss: 1.3092e-04 - val_mae: 0.0122\n"
     ]
    },
    {
     "data": {
      "text/plain": [
       "<tensorflow.python.keras.callbacks.History at 0x1cdc15f6c10>"
      ]
     },
     "execution_count": 35,
     "metadata": {},
     "output_type": "execute_result"
    }
   ],
   "source": [
    "refresh()\n",
    "\n",
    "window_size = 30\n",
    "train_set = sequential_window_dataset(x_train, window_size)\n",
    "valid_set = sequential_window_dataset(x_valid, window_size)\n",
    "\n",
    "model = Sequential([\n",
    "                    \n",
    "        LSTM(100, return_sequences=True, stateful=True, batch_input_shape=[1, None, 1]),\n",
    "        LSTM(100, return_sequences=True, stateful=True),\n",
    "        Dense(1),\n",
    "        #Lambda(lambda x: x * 200.0)\n",
    "        \n",
    "        ])\n",
    "\n",
    "optimizer = keras.optimizers.SGD(learning_rate=1e-3, momentum=0.9)\n",
    "\n",
    "model.compile(loss=keras.losses.Huber(), optimizer=optimizer, metrics=[\"mae\"])\n",
    "\n",
    "reset_states = ResetStatesCallback()\n",
    "model_checkpoint = ModelCheckpoint(\"my_checkpoint.h5\", save_best_only=True)\n",
    "early_stopping = EarlyStopping(patience=50)\n",
    "\n",
    "model.fit(train_set, epochs=500, validation_data=valid_set, \n",
    "          callbacks=[early_stopping, model_checkpoint, reset_states])"
   ]
  },
  {
   "cell_type": "code",
   "execution_count": 36,
   "id": "07d2b465",
   "metadata": {
    "id": "nPeZUfQy8OJQ"
   },
   "outputs": [],
   "source": [
    "#load best model\n",
    "model = keras.models.load_model(\"my_checkpoint.h5\")"
   ]
  },
  {
   "cell_type": "code",
   "execution_count": 37,
   "id": "44fb6ea8",
   "metadata": {
    "id": "4tFrq5uW8OJR"
   },
   "outputs": [],
   "source": [
    "#forcast\n",
    "rnn_forecast = model.predict(oil_data[np.newaxis, :, np.newaxis])\n",
    "rnn_forecast = rnn_forecast[0, split_date - 1:-1, 0]"
   ]
  },
  {
   "cell_type": "code",
   "execution_count": 40,
   "id": "f34606e5",
   "metadata": {
    "colab": {
     "base_uri": "https://localhost:8080/",
     "height": 388
    },
    "id": "ZfaR6nqj8OJT",
    "outputId": "2175a190-f6e4-4bd7-dba5-cf18b0035da7",
    "tags": []
   },
   "outputs": [
    {
     "data": {
      "image/png": "[encoded data removed]",
      "text/plain": [
       "<Figure size 720x432 with 1 Axes>"
      ]
     },
     "metadata": {
      "needs_background": "light"
     },
     "output_type": "display_data"
    }
   ],
   "source": [
    "plt.figure(figsize=(10, 6))\n",
    "plot_series(date_valid, x_valid)\n",
    "plot_series(date_valid, rnn_forecast)\n",
    "\n",
    "plt.show()"
   ]
  },
  {
   "cell_type": "code",
   "execution_count": 39,
   "id": "c33dfae1",
   "metadata": {
    "colab": {
     "base_uri": "https://localhost:8080/"
    },
    "id": "Wgf2u2Tp8OJV",
    "outputId": "8401bdf9-b18b-4d98-97be-621e3132e752"
   },
   "outputs": [
    {
     "data": {
      "text/plain": [
       "0.0109032"
      ]
     },
     "execution_count": 39,
     "metadata": {},
     "output_type": "execute_result"
    }
   ],
   "source": [
    "keras.metrics.mean_absolute_error(x_valid, rnn_forecast).numpy()"
   ]
  },
  {
   "cell_type": "code",
   "execution_count": null,
   "id": "f1d56893",
   "metadata": {
    "id": "e55de80a-bae0-4ef1-a05a-00de6df093a0"
   },
   "outputs": [],
   "source": []
  },
  {
   "cell_type": "code",
   "execution_count": null,
   "id": "c9ab99cd",
   "metadata": {
    "id": "1d2df512-51e7-480e-8946-513ed58764b8"
   },
   "outputs": [],
   "source": []
  }
 ],
 "metadata": {
  "colab": {
   "include_colab_link": true,
   "name": "model.ipynb",
   "provenance": []
  },
  "kernelspec": {
   "display_name": "Python 3 (ipykernel)",
   "language": "python",
   "name": "python3"
  },
  "language_info": {
   "codemirror_mode": {
    "name": "ipython",
    "version": 3
   },
   "file_extension": ".py",
   "mimetype": "text/x-python",
   "name": "python",
   "nbconvert_exporter": "python",
   "pygments_lexer": "ipython3",
   "version": "3.9.7"
  }
 },
 "nbformat": 4,
 "nbformat_minor": 5
}
