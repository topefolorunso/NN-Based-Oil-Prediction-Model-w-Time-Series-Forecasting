{
 "cells": [
  {
   "cell_type": "markdown",
   "id": "485ea80c",
   "metadata": {
    "colab_type": "text",
    "id": "view-in-github"
   },
   "source": [
    "<a href=\"https://colab.research.google.com/github/tops201/project_507/blob/main/507_508/model.ipynb\" target=\"_parent\"><img src=\"https://colab.research.google.com/assets/colab-badge.svg\" alt=\"Open In Colab\"/></a>"
   ]
  },
  {
   "cell_type": "code",
   "execution_count": 1,
   "id": "ca26bf12",
   "metadata": {
    "id": "a62016be-f548-426c-8463-4990bce88bad"
   },
   "outputs": [],
   "source": [
    "import io\n",
    "\n",
    "import matplotlib.pyplot as plt\n",
    "import numpy as np\n",
    "import pandas as pd\n",
    "import seaborn as sns\n",
    "import tensorflow as tf\n",
    "import tensorflow.keras as keras\n",
    "\n",
    "#from google.colab import files #for google colab\n",
    "\n",
    "from sklearn.linear_model import LinearRegression\n",
    "from sklearn.model_selection import train_test_split\n",
    "from sklearn.preprocessing import MinMaxScaler\n",
    "\n",
    "from tensorflow.keras import Sequential\n",
    "\n",
    "from tensorflow.keras.callbacks import Callback, ModelCheckpoint, EarlyStopping, LearningRateScheduler\n",
    "from tensorflow.keras.layers import Dense, Input, Lambda, LSTM"
   ]
  },
  {
   "cell_type": "code",
   "execution_count": 2,
   "id": "c4cfbd6a",
   "metadata": {
    "colab": {
     "base_uri": "https://localhost:8080/",
     "height": 315,
     "resources": {
      "http://localhost:8080/nbextensions/google.colab/files.js": {
       "data": "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",
       "headers": [
        [
         "content-type",
         "application/javascript"
        ]
       ],
       "ok": true,
       "status": 200,
       "status_text": "OK"
      }
     }
    },
    "id": "bd3fdbc8-d459-4639-a2f1-d2e556e321d5",
    "outputId": "599e54b2-896c-4501-b065-8d8aa9b50cc3"
   },
   "outputs": [
    {
     "data": {
      "text/html": [
       "<div>\n",
       "<style scoped>\n",
       "    .dataframe tbody tr th:only-of-type {\n",
       "        vertical-align: middle;\n",
       "    }\n",
       "\n",
       "    .dataframe tbody tr th {\n",
       "        vertical-align: top;\n",
       "    }\n",
       "\n",
       "    .dataframe thead th {\n",
       "        text-align: right;\n",
       "    }\n",
       "</style>\n",
       "<table border=\"1\" class=\"dataframe\">\n",
       "  <thead>\n",
       "    <tr style=\"text-align: right;\">\n",
       "      <th></th>\n",
       "      <th>BORE_GAS_VOL</th>\n",
       "      <th>BORE_OIL_VOL</th>\n",
       "      <th>BORE_WAT_VOL</th>\n",
       "    </tr>\n",
       "    <tr>\n",
       "      <th>DATEPRD</th>\n",
       "      <th></th>\n",
       "      <th></th>\n",
       "      <th></th>\n",
       "    </tr>\n",
       "  </thead>\n",
       "  <tbody>\n",
       "    <tr>\n",
       "      <th>39490</th>\n",
       "      <td>38888.67</td>\n",
       "      <td>284.65</td>\n",
       "      <td>385.01</td>\n",
       "    </tr>\n",
       "    <tr>\n",
       "      <th>39491</th>\n",
       "      <td>285246.16</td>\n",
       "      <td>1869.70</td>\n",
       "      <td>7.13</td>\n",
       "    </tr>\n",
       "    <tr>\n",
       "      <th>39492</th>\n",
       "      <td>509954.88</td>\n",
       "      <td>3124.09</td>\n",
       "      <td>1.16</td>\n",
       "    </tr>\n",
       "    <tr>\n",
       "      <th>39493</th>\n",
       "      <td>383426.67</td>\n",
       "      <td>2608.28</td>\n",
       "      <td>0.97</td>\n",
       "    </tr>\n",
       "    <tr>\n",
       "      <th>39494</th>\n",
       "      <td>418474.00</td>\n",
       "      <td>3051.80</td>\n",
       "      <td>4.89</td>\n",
       "    </tr>\n",
       "  </tbody>\n",
       "</table>\n",
       "</div>"
      ],
      "text/plain": [
       "         BORE_GAS_VOL  BORE_OIL_VOL  BORE_WAT_VOL\n",
       "DATEPRD                                          \n",
       "39490        38888.67        284.65        385.01\n",
       "39491       285246.16       1869.70          7.13\n",
       "39492       509954.88       3124.09          1.16\n",
       "39493       383426.67       2608.28          0.97\n",
       "39494       418474.00       3051.80          4.89"
      ]
     },
     "execution_count": 2,
     "metadata": {},
     "output_type": "execute_result"
    }
   ],
   "source": [
    "#fetch dataset\n",
    "\n",
    "#data_file = files.upload() #for google colab\n",
    "\n",
    "#df = pd.read_excel(io.BytesIO(data_file[\"daily_field_data.xlsx\"]), index_col=\"DATEPRD\") #for google colab\n",
    "df = pd.read_excel(\"daily_field_data.xlsx\", index_col=\"DATEPRD\") #for local IDE\n",
    "\n",
    "date = df.index\n",
    "\n",
    "df.head()"
   ]
  },
  {
   "cell_type": "code",
   "execution_count": 3,
   "id": "fb5673bf-f36b-4bf1-8987-5c667b7bb471",
   "metadata": {},
   "outputs": [
    {
     "data": {
      "text/html": [
       "<div>\n",
       "<style scoped>\n",
       "    .dataframe tbody tr th:only-of-type {\n",
       "        vertical-align: middle;\n",
       "    }\n",
       "\n",
       "    .dataframe tbody tr th {\n",
       "        vertical-align: top;\n",
       "    }\n",
       "\n",
       "    .dataframe thead th {\n",
       "        text-align: right;\n",
       "    }\n",
       "</style>\n",
       "<table border=\"1\" class=\"dataframe\">\n",
       "  <thead>\n",
       "    <tr style=\"text-align: right;\">\n",
       "      <th></th>\n",
       "      <th>BORE_GAS_VOL</th>\n",
       "      <th>BORE_OIL_VOL</th>\n",
       "      <th>BORE_WAT_VOL</th>\n",
       "    </tr>\n",
       "    <tr>\n",
       "      <th>DATEPRD</th>\n",
       "      <th></th>\n",
       "      <th></th>\n",
       "      <th></th>\n",
       "    </tr>\n",
       "  </thead>\n",
       "  <tbody>\n",
       "    <tr>\n",
       "      <th>39490</th>\n",
       "      <td>0.028509</td>\n",
       "      <td>0.028932</td>\n",
       "      <td>0.083855</td>\n",
       "    </tr>\n",
       "    <tr>\n",
       "      <th>39491</th>\n",
       "      <td>0.209112</td>\n",
       "      <td>0.197113</td>\n",
       "      <td>0.048727</td>\n",
       "    </tr>\n",
       "    <tr>\n",
       "      <th>39492</th>\n",
       "      <td>0.373844</td>\n",
       "      <td>0.330210</td>\n",
       "      <td>0.048172</td>\n",
       "    </tr>\n",
       "    <tr>\n",
       "      <th>39493</th>\n",
       "      <td>0.281087</td>\n",
       "      <td>0.275480</td>\n",
       "      <td>0.048154</td>\n",
       "    </tr>\n",
       "    <tr>\n",
       "      <th>39494</th>\n",
       "      <td>0.306780</td>\n",
       "      <td>0.322540</td>\n",
       "      <td>0.048518</td>\n",
       "    </tr>\n",
       "  </tbody>\n",
       "</table>\n",
       "</div>"
      ],
      "text/plain": [
       "         BORE_GAS_VOL  BORE_OIL_VOL  BORE_WAT_VOL\n",
       "DATEPRD                                          \n",
       "39490        0.028509      0.028932      0.083855\n",
       "39491        0.209112      0.197113      0.048727\n",
       "39492        0.373844      0.330210      0.048172\n",
       "39493        0.281087      0.275480      0.048154\n",
       "39494        0.306780      0.322540      0.048518"
      ]
     },
     "execution_count": 3,
     "metadata": {},
     "output_type": "execute_result"
    }
   ],
   "source": [
    "scaler = MinMaxScaler(feature_range=(0, 1))\n",
    "scaled = scaler.fit_transform(df)\n",
    "\n",
    "scaled_df = pd.DataFrame(scaled, index=df.index, columns=df.columns)\n",
    "scaled_df.head()"
   ]
  },
  {
   "cell_type": "code",
   "execution_count": 4,
   "id": "95c8208f",
   "metadata": {
    "id": "9525ff5a-6d80-43d7-8fda-5c7a3b310106"
   },
   "outputs": [],
   "source": [
    "#function to plot a series\n",
    "def plot_series(x, y, format=\"-\", start=None, end=None, label=None):\n",
    "    plt.plot(x[start:end], y[start:end], format, label=label)\n",
    "    plt.xlabel(\"Date\")\n",
    "    plt.ylabel(\"Oil Volume\")\n",
    "    if label:\n",
    "        plt.legend(fontsize=14)\n",
    "    plt.grid(True)\n",
    "\n",
    "#clear session \n",
    "def refresh():\n",
    "    keras.backend.clear_session()\n",
    "    tf.random.set_seed(42)\n",
    "    np.random.seed(42)\n",
    "\n",
    "class ResetStatesCallback(Callback):\n",
    "    def on_epoch_begin(self, epoch, logs):\n",
    "        self.model.reset_states()"
   ]
  },
  {
   "cell_type": "code",
   "execution_count": 5,
   "id": "c5d2c9fa",
   "metadata": {
    "colab": {
     "base_uri": "https://localhost:8080/",
     "height": 406
    },
    "id": "44685c64-c61f-431d-8527-cd77d346bf81",
    "outputId": "06e5798d-f394-41f8-aa2c-b796557aa3a3"
   },
   "outputs": [
    {
     "data": {
      "image/png": "[encoded data removed]",
      "text/plain": [
       "<Figure size 720x432 with 1 Axes>"
      ]
     },
     "metadata": {
      "needs_background": "light"
     },
     "output_type": "display_data"
    },
    {
     "data": {
      "text/plain": [
       "array([0.02893164, 0.19711331, 0.33021031, ..., 0.05548122, 0.05499314,\n",
       "       0.017832  ])"
      ]
     },
     "execution_count": 5,
     "metadata": {},
     "output_type": "execute_result"
    }
   ],
   "source": [
    "oil_data = scaled_df.BORE_OIL_VOL.to_numpy()\n",
    "oil_cum = np.cumsum(oil_data)\n",
    "\n",
    "plt.figure(figsize=(10, 6))\n",
    "plot_series(date, oil_data, label=\"Daily Production\")\n",
    "plt.show()\n",
    "\n",
    "oil_data"
   ]
  },
  {
   "cell_type": "code",
   "execution_count": 6,
   "id": "c3b815ea",
   "metadata": {
    "colab": {
     "base_uri": "https://localhost:8080/",
     "height": 399
    },
    "id": "b_-y42SlpiVs",
    "outputId": "b7aa6333-39eb-40e4-9533-ab142116fd47"
   },
   "outputs": [
    {
     "data": {
      "image/png": "[encoded data removed]",
      "text/plain": [
       "<Figure size 720x432 with 1 Axes>"
      ]
     },
     "metadata": {
      "needs_background": "light"
     },
     "output_type": "display_data"
    }
   ],
   "source": [
    "plt.figure(figsize=(10, 6))\n",
    "plot_series(date, oil_cum, label=\"Cummulative Oil Production\")\n",
    "plt.show()"
   ]
  },
  {
   "cell_type": "code",
   "execution_count": 7,
   "id": "a1b1d3b4",
   "metadata": {
    "colab": {
     "base_uri": "https://localhost:8080/"
    },
    "id": "7696660b",
    "outputId": "37f70c06-16f1-4b7f-e6a2-b0f2bd5eaa50"
   },
   "outputs": [
    {
     "name": "stdout",
     "output_type": "stream",
     "text": [
      "(2750,) (306,) (2750,) (306,)\n"
     ]
    }
   ],
   "source": [
    "#split the time series into training and validation sets\n",
    "split_date = 2750\n",
    "\n",
    "date_train = date[:split_date]\n",
    "date_valid = date[split_date:]\n",
    "\n",
    "x_train = oil_data[:split_date]\n",
    "x_valid = oil_data[split_date:]\n",
    "\n",
    "print(x_train.shape, x_valid.shape, date_train.shape, date_valid.shape)"
   ]
  },
  {
   "cell_type": "markdown",
   "id": "93c16a40",
   "metadata": {
    "id": "ZoszA02TqC46",
    "tags": []
   },
   "source": [
    "# NAIVE Forecast"
   ]
  },
  {
   "cell_type": "code",
   "execution_count": 8,
   "id": "bb76072f",
   "metadata": {
    "id": "xBbtdVCoqQX3"
   },
   "outputs": [],
   "source": [
    "naive_forecast = oil_data[split_date - 1:-1]"
   ]
  },
  {
   "cell_type": "code",
   "execution_count": 9,
   "id": "6eb401fb",
   "metadata": {
    "colab": {
     "base_uri": "https://localhost:8080/",
     "height": 388
    },
    "id": "85-VSlcZraYF",
    "outputId": "1358da74-0361-41e9-b94d-e4a8c0ce275c"
   },
   "outputs": [
    {
     "data": {
      "image/png": "[encoded data removed]",
      "text/plain": [
       "<Figure size 720x432 with 1 Axes>"
      ]
     },
     "metadata": {
      "needs_background": "light"
     },
     "output_type": "display_data"
    }
   ],
   "source": [
    "plt.figure(figsize=(10, 6))\n",
    "plot_series(date_valid, x_valid, start=0, end=150, label=\"Actual\")\n",
    "plot_series(date_valid, naive_forecast, start=1, end=151, label=\"Naive Forecast\")\n",
    "\n",
    "plt.show()"
   ]
  },
  {
   "cell_type": "code",
   "execution_count": 10,
   "id": "ccd3e7d1",
   "metadata": {
    "colab": {
     "base_uri": "https://localhost:8080/"
    },
    "id": "GYOr_jvNsMXB",
    "outputId": "11485910-5566-4f81-9253-d0f617ba74b8"
   },
   "outputs": [
    {
     "data": {
      "text/plain": [
       "0.004702322219421191"
      ]
     },
     "execution_count": 10,
     "metadata": {},
     "output_type": "execute_result"
    }
   ],
   "source": [
    "keras.metrics.mean_absolute_error(x_valid, naive_forecast).numpy()"
   ]
  },
  {
   "cell_type": "markdown",
   "id": "01a6ab68",
   "metadata": {
    "id": "YJzeJRPQryVu",
    "tags": []
   },
   "source": [
    "# Moving Average"
   ]
  },
  {
   "cell_type": "code",
   "execution_count": 11,
   "id": "19082d8b",
   "metadata": {
    "id": "2ezRKSFSrwxc"
   },
   "outputs": [],
   "source": [
    "def moving_average_forecast(series, window_size):\n",
    "    \"\"\"Forecasts the mean of the last few values.\n",
    "    If window_size=1, then this is equivalent to naive forecast\"\"\"\n",
    "    \n",
    "    mov = np.cumsum(series)\n",
    "    mov[window_size:] = mov[window_size:] - mov[:-window_size]\n",
    "    \n",
    "    return mov[window_size - 1:-1] / window_size"
   ]
  },
  {
   "cell_type": "code",
   "execution_count": 12,
   "id": "4002b8e8",
   "metadata": {
    "colab": {
     "base_uri": "https://localhost:8080/",
     "height": 388
    },
    "id": "mdHw0KCGs371",
    "outputId": "252abe5d-e55e-4a31-cc0f-6978f4d98194"
   },
   "outputs": [
    {
     "data": {
      "image/png": "[encoded data removed]",
      "text/plain": [
       "<Figure size 720x432 with 1 Axes>"
      ]
     },
     "metadata": {
      "needs_background": "light"
     },
     "output_type": "display_data"
    }
   ],
   "source": [
    "moving_avg = moving_average_forecast(oil_data, 30)[split_date - 30:]\n",
    "\n",
    "plt.figure(figsize=(10, 6))\n",
    "plot_series(date_valid, x_valid, label=\"Actual\")\n",
    "plot_series(date_valid, moving_avg, label=\"30-day Moving average\")\n",
    "\n",
    "plt.show()"
   ]
  },
  {
   "cell_type": "code",
   "execution_count": 13,
   "id": "caeec1e8",
   "metadata": {
    "colab": {
     "base_uri": "https://localhost:8080/"
    },
    "id": "ohcCp_DktM7S",
    "outputId": "2b88f93e-beea-4d71-c219-2d72a68dd094"
   },
   "outputs": [
    {
     "data": {
      "text/plain": [
       "0.012288786949989451"
      ]
     },
     "execution_count": 13,
     "metadata": {},
     "output_type": "execute_result"
    }
   ],
   "source": [
    "keras.metrics.mean_absolute_error(x_valid, moving_avg).numpy()"
   ]
  },
  {
   "cell_type": "markdown",
   "id": "eb33a52d",
   "metadata": {
    "id": "iNWLQHpGvZSI",
    "tags": []
   },
   "source": [
    "# Linear Model"
   ]
  },
  {
   "cell_type": "code",
   "execution_count": 14,
   "id": "2e3c45af",
   "metadata": {
    "id": "z_nOuJZWvW8N"
   },
   "outputs": [],
   "source": [
    "def window_dataset(series, window_size, batch_size=32,\n",
    "                   shuffle_buffer=1000):\n",
    "    \n",
    "    dataset = tf.data.Dataset.from_tensor_slices(series)\n",
    "    dataset = dataset.window(window_size + 1, shift=1, drop_remainder=True)\n",
    "    dataset = dataset.flat_map(lambda window: window.batch(window_size + 1))\n",
    "    dataset = dataset.shuffle(shuffle_buffer)\n",
    "    dataset = dataset.map(lambda window: (window[:-1], window[-1]))\n",
    "    dataset = dataset.batch(batch_size).prefetch(1)\n",
    "    \n",
    "    return dataset"
   ]
  },
  {
   "cell_type": "code",
   "execution_count": 15,
   "id": "87461ef1",
   "metadata": {
    "colab": {
     "base_uri": "https://localhost:8080/"
    },
    "id": "qpCSzWo5wqKV",
    "outputId": "5314dc59-208c-474f-9f53-3f0dfd2fe950",
    "scrolled": true,
    "tags": []
   },
   "outputs": [
    {
     "name": "stdout",
     "output_type": "stream",
     "text": [
      "Epoch 1/100\n",
      "85/85 [==============================] - 3s 12ms/step - loss: 0.3760 - mae: 0.7676 - val_loss: 0.0328 - val_mae: 0.2362\n",
      "Epoch 2/100\n",
      "85/85 [==============================] - 1s 5ms/step - loss: 0.3518 - mae: 0.7351 - val_loss: 0.0292 - val_mae: 0.2220\n",
      "Epoch 3/100\n",
      "85/85 [==============================] - 1s 6ms/step - loss: 0.3283 - mae: 0.7030 - val_loss: 0.0259 - val_mae: 0.2083\n",
      "Epoch 4/100\n",
      "85/85 [==============================] - 1s 5ms/step - loss: 0.3058 - mae: 0.6716 - val_loss: 0.0229 - val_mae: 0.1948\n",
      "Epoch 5/100\n",
      "85/85 [==============================] - 1s 5ms/step - loss: 0.2843 - mae: 0.6409 - val_loss: 0.0201 - val_mae: 0.1816\n",
      "Epoch 6/100\n",
      "85/85 [==============================] - 1s 5ms/step - loss: 0.2638 - mae: 0.6111 - val_loss: 0.0176 - val_mae: 0.1689\n",
      "Epoch 7/100\n",
      "85/85 [==============================] - 1s 5ms/step - loss: 0.2443 - mae: 0.5820 - val_loss: 0.0154 - val_mae: 0.1565\n",
      "Epoch 8/100\n",
      "85/85 [==============================] - 1s 5ms/step - loss: 0.2258 - mae: 0.5539 - val_loss: 0.0133 - val_mae: 0.1445\n",
      "Epoch 9/100\n",
      "85/85 [==============================] - 1s 5ms/step - loss: 0.2084 - mae: 0.5267 - val_loss: 0.0115 - val_mae: 0.1328\n",
      "Epoch 10/100\n",
      "85/85 [==============================] - 1s 5ms/step - loss: 0.1920 - mae: 0.5005 - val_loss: 0.0099 - val_mae: 0.1216\n",
      "Epoch 11/100\n",
      "85/85 [==============================] - 1s 5ms/step - loss: 0.1767 - mae: 0.4751 - val_loss: 0.0084 - val_mae: 0.1107\n",
      "Epoch 12/100\n",
      "85/85 [==============================] - 1s 5ms/step - loss: 0.1622 - mae: 0.4507 - val_loss: 0.0071 - val_mae: 0.1003\n",
      "Epoch 13/100\n",
      "85/85 [==============================] - 1s 5ms/step - loss: 0.1488 - mae: 0.4275 - val_loss: 0.0060 - val_mae: 0.0903\n",
      "Epoch 14/100\n",
      "85/85 [==============================] - 1s 5ms/step - loss: 0.1363 - mae: 0.4052 - val_loss: 0.0050 - val_mae: 0.0811\n",
      "Epoch 15/100\n",
      "85/85 [==============================] - 1s 5ms/step - loss: 0.1250 - mae: 0.3840 - val_loss: 0.0042 - val_mae: 0.0727\n",
      "Epoch 16/100\n",
      "85/85 [==============================] - 1s 5ms/step - loss: 0.1145 - mae: 0.3640 - val_loss: 0.0035 - val_mae: 0.0657\n",
      "Epoch 17/100\n",
      "85/85 [==============================] - 1s 5ms/step - loss: 0.1049 - mae: 0.3451 - val_loss: 0.0029 - val_mae: 0.0594\n",
      "Epoch 18/100\n",
      "85/85 [==============================] - 1s 5ms/step - loss: 0.0963 - mae: 0.3274 - val_loss: 0.0024 - val_mae: 0.0538\n",
      "Epoch 19/100\n",
      "85/85 [==============================] - 1s 5ms/step - loss: 0.0885 - mae: 0.3110 - val_loss: 0.0020 - val_mae: 0.0492\n",
      "Epoch 20/100\n",
      "85/85 [==============================] - 1s 5ms/step - loss: 0.0815 - mae: 0.2954 - val_loss: 0.0016 - val_mae: 0.0453\n",
      "Epoch 21/100\n",
      "85/85 [==============================] - 1s 5ms/step - loss: 0.0752 - mae: 0.2809 - val_loss: 0.0014 - val_mae: 0.0421\n",
      "Epoch 22/100\n",
      "85/85 [==============================] - 1s 5ms/step - loss: 0.0696 - mae: 0.2675 - val_loss: 0.0012 - val_mae: 0.0398\n",
      "Epoch 23/100\n",
      "85/85 [==============================] - 1s 5ms/step - loss: 0.0645 - mae: 0.2551 - val_loss: 0.0010 - val_mae: 0.0378\n",
      "Epoch 24/100\n",
      "85/85 [==============================] - 1s 5ms/step - loss: 0.0599 - mae: 0.2436 - val_loss: 9.1251e-04 - val_mae: 0.0363\n",
      "Epoch 25/100\n",
      "85/85 [==============================] - 1s 5ms/step - loss: 0.0559 - mae: 0.2328 - val_loss: 8.4125e-04 - val_mae: 0.0352\n",
      "Epoch 26/100\n",
      "85/85 [==============================] - 1s 5ms/step - loss: 0.0522 - mae: 0.2229 - val_loss: 8.0187e-04 - val_mae: 0.0344\n",
      "Epoch 27/100\n",
      "85/85 [==============================] - 1s 5ms/step - loss: 0.0490 - mae: 0.2137 - val_loss: 7.9009e-04 - val_mae: 0.0341\n",
      "Epoch 28/100\n",
      "85/85 [==============================] - 1s 5ms/step - loss: 0.0461 - mae: 0.2051 - val_loss: 8.0176e-04 - val_mae: 0.0342\n",
      "Epoch 29/100\n",
      "85/85 [==============================] - 1s 5ms/step - loss: 0.0434 - mae: 0.1972 - val_loss: 8.3234e-04 - val_mae: 0.0347\n",
      "Epoch 30/100\n",
      "85/85 [==============================] - 1s 5ms/step - loss: 0.0411 - mae: 0.1901 - val_loss: 8.7966e-04 - val_mae: 0.0355\n",
      "Epoch 31/100\n",
      "85/85 [==============================] - 1s 5ms/step - loss: 0.0390 - mae: 0.1835 - val_loss: 9.3998e-04 - val_mae: 0.0366\n",
      "Epoch 32/100\n",
      "85/85 [==============================] - 1s 5ms/step - loss: 0.0371 - mae: 0.1775 - val_loss: 0.0010 - val_mae: 0.0380\n",
      "Epoch 33/100\n",
      "85/85 [==============================] - 1s 5ms/step - loss: 0.0355 - mae: 0.1721 - val_loss: 0.0011 - val_mae: 0.0396\n",
      "Epoch 34/100\n",
      "85/85 [==============================] - 1s 5ms/step - loss: 0.0340 - mae: 0.1671 - val_loss: 0.0012 - val_mae: 0.0412\n",
      "Epoch 35/100\n",
      "85/85 [==============================] - 1s 5ms/step - loss: 0.0326 - mae: 0.1627 - val_loss: 0.0013 - val_mae: 0.0430\n",
      "Epoch 36/100\n",
      "85/85 [==============================] - 1s 5ms/step - loss: 0.0314 - mae: 0.1588 - val_loss: 0.0014 - val_mae: 0.0448\n",
      "Epoch 37/100\n",
      "85/85 [==============================] - 1s 5ms/step - loss: 0.0304 - mae: 0.1552 - val_loss: 0.0015 - val_mae: 0.0467\n",
      "Epoch 38/100\n",
      "85/85 [==============================] - 1s 5ms/step - loss: 0.0294 - mae: 0.1520 - val_loss: 0.0016 - val_mae: 0.0485\n",
      "Epoch 39/100\n",
      "85/85 [==============================] - 1s 5ms/step - loss: 0.0286 - mae: 0.1492 - val_loss: 0.0017 - val_mae: 0.0505\n",
      "Epoch 40/100\n",
      "85/85 [==============================] - 1s 5ms/step - loss: 0.0278 - mae: 0.1466 - val_loss: 0.0018 - val_mae: 0.0523\n",
      "Epoch 41/100\n",
      "85/85 [==============================] - 1s 5ms/step - loss: 0.0271 - mae: 0.1444 - val_loss: 0.0018 - val_mae: 0.0541\n",
      "Epoch 42/100\n",
      "85/85 [==============================] - 1s 5ms/step - loss: 0.0265 - mae: 0.1424 - val_loss: 0.0019 - val_mae: 0.0559\n",
      "Epoch 43/100\n",
      "85/85 [==============================] - 1s 5ms/step - loss: 0.0260 - mae: 0.1407 - val_loss: 0.0020 - val_mae: 0.0576\n",
      "Epoch 44/100\n",
      "85/85 [==============================] - 1s 5ms/step - loss: 0.0255 - mae: 0.1391 - val_loss: 0.0021 - val_mae: 0.0592\n",
      "Epoch 45/100\n",
      "85/85 [==============================] - 1s 6ms/step - loss: 0.0250 - mae: 0.1377 - val_loss: 0.0022 - val_mae: 0.0608\n",
      "Epoch 46/100\n",
      "85/85 [==============================] - 1s 5ms/step - loss: 0.0246 - mae: 0.1365 - val_loss: 0.0023 - val_mae: 0.0622\n",
      "Epoch 47/100\n",
      "85/85 [==============================] - 1s 6ms/step - loss: 0.0243 - mae: 0.1354 - val_loss: 0.0024 - val_mae: 0.0636\n",
      "Epoch 48/100\n",
      "85/85 [==============================] - 1s 5ms/step - loss: 0.0240 - mae: 0.1345 - val_loss: 0.0025 - val_mae: 0.0649\n",
      "Epoch 49/100\n",
      "85/85 [==============================] - 1s 5ms/step - loss: 0.0237 - mae: 0.1337 - val_loss: 0.0025 - val_mae: 0.0661\n",
      "Epoch 50/100\n",
      "85/85 [==============================] - 1s 5ms/step - loss: 0.0234 - mae: 0.1329 - val_loss: 0.0026 - val_mae: 0.0673\n",
      "Epoch 51/100\n",
      "85/85 [==============================] - 1s 5ms/step - loss: 0.0232 - mae: 0.1323 - val_loss: 0.0027 - val_mae: 0.0684\n",
      "Epoch 52/100\n",
      "85/85 [==============================] - 1s 5ms/step - loss: 0.0230 - mae: 0.1317 - val_loss: 0.0028 - val_mae: 0.0694\n",
      "Epoch 53/100\n",
      "85/85 [==============================] - 1s 5ms/step - loss: 0.0228 - mae: 0.1313 - val_loss: 0.0028 - val_mae: 0.0703\n",
      "Epoch 54/100\n",
      "85/85 [==============================] - 1s 5ms/step - loss: 0.0226 - mae: 0.1308 - val_loss: 0.0029 - val_mae: 0.0712\n",
      "Epoch 55/100\n",
      "85/85 [==============================] - 1s 5ms/step - loss: 0.0225 - mae: 0.1305 - val_loss: 0.0029 - val_mae: 0.0721\n",
      "Epoch 56/100\n",
      "85/85 [==============================] - 1s 5ms/step - loss: 0.0223 - mae: 0.1301 - val_loss: 0.0030 - val_mae: 0.0729\n",
      "Epoch 57/100\n",
      "85/85 [==============================] - 1s 5ms/step - loss: 0.0222 - mae: 0.1298 - val_loss: 0.0030 - val_mae: 0.0736\n",
      "Epoch 58/100\n",
      "85/85 [==============================] - 1s 5ms/step - loss: 0.0221 - mae: 0.1296 - val_loss: 0.0031 - val_mae: 0.0743\n",
      "Epoch 59/100\n",
      "85/85 [==============================] - 1s 5ms/step - loss: 0.0220 - mae: 0.1294 - val_loss: 0.0031 - val_mae: 0.0750\n",
      "Epoch 60/100\n",
      "85/85 [==============================] - 1s 5ms/step - loss: 0.0219 - mae: 0.1293 - val_loss: 0.0032 - val_mae: 0.0755\n",
      "Epoch 61/100\n",
      "85/85 [==============================] - 1s 5ms/step - loss: 0.0218 - mae: 0.1291 - val_loss: 0.0032 - val_mae: 0.0761\n",
      "Epoch 62/100\n",
      "85/85 [==============================] - 1s 5ms/step - loss: 0.0217 - mae: 0.1290 - val_loss: 0.0033 - val_mae: 0.0766\n",
      "Epoch 63/100\n",
      "85/85 [==============================] - 1s 5ms/step - loss: 0.0217 - mae: 0.1289 - val_loss: 0.0033 - val_mae: 0.0771\n",
      "Epoch 64/100\n",
      "85/85 [==============================] - 1s 5ms/step - loss: 0.0216 - mae: 0.1288 - val_loss: 0.0033 - val_mae: 0.0776\n",
      "Epoch 65/100\n",
      "85/85 [==============================] - 1s 5ms/step - loss: 0.0216 - mae: 0.1287 - val_loss: 0.0034 - val_mae: 0.0780\n",
      "Epoch 66/100\n",
      "85/85 [==============================] - 1s 5ms/step - loss: 0.0215 - mae: 0.1287 - val_loss: 0.0034 - val_mae: 0.0784\n",
      "Epoch 67/100\n",
      "85/85 [==============================] - 1s 6ms/step - loss: 0.0215 - mae: 0.1286 - val_loss: 0.0034 - val_mae: 0.0787\n",
      "Epoch 68/100\n",
      "85/85 [==============================] - 1s 6ms/step - loss: 0.0214 - mae: 0.1285 - val_loss: 0.0034 - val_mae: 0.0790\n",
      "Epoch 69/100\n",
      "85/85 [==============================] - 1s 6ms/step - loss: 0.0214 - mae: 0.1285 - val_loss: 0.0035 - val_mae: 0.0794\n",
      "Epoch 70/100\n",
      "85/85 [==============================] - 1s 5ms/step - loss: 0.0213 - mae: 0.1284 - val_loss: 0.0035 - val_mae: 0.0796\n",
      "Epoch 71/100\n",
      "85/85 [==============================] - 1s 5ms/step - loss: 0.0213 - mae: 0.1284 - val_loss: 0.0035 - val_mae: 0.0799\n",
      "Epoch 72/100\n",
      "85/85 [==============================] - 1s 5ms/step - loss: 0.0213 - mae: 0.1284 - val_loss: 0.0035 - val_mae: 0.0801\n",
      "Epoch 73/100\n",
      "85/85 [==============================] - 1s 5ms/step - loss: 0.0212 - mae: 0.1283 - val_loss: 0.0035 - val_mae: 0.0803\n",
      "Epoch 74/100\n",
      "85/85 [==============================] - 1s 5ms/step - loss: 0.0212 - mae: 0.1283 - val_loss: 0.0035 - val_mae: 0.0805\n",
      "Epoch 75/100\n",
      "85/85 [==============================] - 1s 5ms/step - loss: 0.0212 - mae: 0.1283 - val_loss: 0.0036 - val_mae: 0.0807\n",
      "Epoch 76/100\n",
      "85/85 [==============================] - 1s 5ms/step - loss: 0.0212 - mae: 0.1282 - val_loss: 0.0036 - val_mae: 0.0808\n",
      "Epoch 77/100\n",
      "85/85 [==============================] - 1s 5ms/step - loss: 0.0211 - mae: 0.1282 - val_loss: 0.0036 - val_mae: 0.0809\n",
      "Epoch 78/100\n",
      "85/85 [==============================] - 1s 5ms/step - loss: 0.0211 - mae: 0.1282 - val_loss: 0.0036 - val_mae: 0.0811\n",
      "Epoch 79/100\n",
      "85/85 [==============================] - 1s 5ms/step - loss: 0.0211 - mae: 0.1281 - val_loss: 0.0036 - val_mae: 0.0812\n",
      "Epoch 80/100\n",
      "85/85 [==============================] - 1s 5ms/step - loss: 0.0211 - mae: 0.1281 - val_loss: 0.0036 - val_mae: 0.0812\n",
      "Epoch 81/100\n",
      "85/85 [==============================] - 1s 5ms/step - loss: 0.0210 - mae: 0.1281 - val_loss: 0.0036 - val_mae: 0.0813\n",
      "Epoch 82/100\n",
      "85/85 [==============================] - 1s 5ms/step - loss: 0.0210 - mae: 0.1280 - val_loss: 0.0036 - val_mae: 0.0814\n",
      "Epoch 83/100\n",
      "85/85 [==============================] - 1s 5ms/step - loss: 0.0210 - mae: 0.1280 - val_loss: 0.0036 - val_mae: 0.0814\n",
      "Epoch 84/100\n",
      "85/85 [==============================] - 1s 5ms/step - loss: 0.0210 - mae: 0.1280 - val_loss: 0.0036 - val_mae: 0.0815\n",
      "Epoch 85/100\n",
      "85/85 [==============================] - 1s 5ms/step - loss: 0.0210 - mae: 0.1279 - val_loss: 0.0036 - val_mae: 0.0815\n",
      "Epoch 86/100\n",
      "85/85 [==============================] - 1s 5ms/step - loss: 0.0209 - mae: 0.1279 - val_loss: 0.0036 - val_mae: 0.0815\n",
      "Epoch 87/100\n",
      "85/85 [==============================] - 1s 5ms/step - loss: 0.0209 - mae: 0.1279 - val_loss: 0.0036 - val_mae: 0.0815\n",
      "Epoch 88/100\n",
      "85/85 [==============================] - 1s 5ms/step - loss: 0.0209 - mae: 0.1278 - val_loss: 0.0036 - val_mae: 0.0815\n",
      "Epoch 89/100\n",
      "85/85 [==============================] - 1s 5ms/step - loss: 0.0209 - mae: 0.1278 - val_loss: 0.0036 - val_mae: 0.0815\n",
      "Epoch 90/100\n",
      "85/85 [==============================] - 1s 5ms/step - loss: 0.0209 - mae: 0.1278 - val_loss: 0.0036 - val_mae: 0.0815\n",
      "Epoch 91/100\n",
      "85/85 [==============================] - 1s 5ms/step - loss: 0.0209 - mae: 0.1277 - val_loss: 0.0036 - val_mae: 0.0815\n",
      "Epoch 92/100\n",
      "85/85 [==============================] - 1s 5ms/step - loss: 0.0209 - mae: 0.1277 - val_loss: 0.0036 - val_mae: 0.0815\n",
      "Epoch 93/100\n",
      "85/85 [==============================] - 1s 5ms/step - loss: 0.0208 - mae: 0.1276 - val_loss: 0.0036 - val_mae: 0.0814\n",
      "Epoch 94/100\n",
      "85/85 [==============================] - 1s 5ms/step - loss: 0.0208 - mae: 0.1276 - val_loss: 0.0036 - val_mae: 0.0814\n",
      "Epoch 95/100\n",
      "85/85 [==============================] - 1s 5ms/step - loss: 0.0208 - mae: 0.1276 - val_loss: 0.0036 - val_mae: 0.0813\n",
      "Epoch 96/100\n",
      "85/85 [==============================] - 1s 5ms/step - loss: 0.0208 - mae: 0.1275 - val_loss: 0.0036 - val_mae: 0.0813\n",
      "Epoch 97/100\n",
      "85/85 [==============================] - 1s 5ms/step - loss: 0.0208 - mae: 0.1275 - val_loss: 0.0036 - val_mae: 0.0813\n",
      "Epoch 98/100\n",
      "85/85 [==============================] - 1s 5ms/step - loss: 0.0208 - mae: 0.1275 - val_loss: 0.0036 - val_mae: 0.0812\n",
      "Epoch 99/100\n",
      "85/85 [==============================] - 1s 5ms/step - loss: 0.0208 - mae: 0.1274 - val_loss: 0.0036 - val_mae: 0.0811\n",
      "Epoch 100/100\n",
      "85/85 [==============================] - 1s 5ms/step - loss: 0.0208 - mae: 0.1274 - val_loss: 0.0036 - val_mae: 0.0810\n"
     ]
    },
    {
     "data": {
      "text/plain": [
       "<tensorflow.python.keras.callbacks.History at 0x1cdb8d74e50>"
      ]
     },
     "execution_count": 15,
     "metadata": {},
     "output_type": "execute_result"
    }
   ],
   "source": [
    "refresh()\n",
    "\n",
    "window_size = 30\n",
    "\n",
    "train_set = window_dataset(x_train, window_size)\n",
    "valid_set = window_dataset(x_valid, window_size)\n",
    "\n",
    "model = Sequential([\n",
    "            Dense(1, input_shape=[window_size])\n",
    "        ])\n",
    "\n",
    "optimizer = keras.optimizers.SGD(learning_rate=1e-5, momentum=0.9)\n",
    "\n",
    "model.compile(loss=keras.losses.Huber(),\n",
    "              optimizer=optimizer,\n",
    "              metrics=[\"mae\"])\n",
    "\n",
    "model.fit(train_set, epochs=100, validation_data=valid_set)"
   ]
  },
  {
   "cell_type": "code",
   "execution_count": 16,
   "id": "e6fc0594",
   "metadata": {
    "colab": {
     "base_uri": "https://localhost:8080/"
    },
    "id": "355tyeamxIzq",
    "outputId": "a86f210b-2eec-49ab-92d8-717b8724a2b0",
    "scrolled": true,
    "tags": []
   },
   "outputs": [
    {
     "name": "stdout",
     "output_type": "stream",
     "text": [
      "Epoch 1/100\n",
      "85/85 [==============================] - 1s 6ms/step - loss: 0.2802 - mae: 0.6444\n",
      "Epoch 2/100\n",
      "85/85 [==============================] - 1s 4ms/step - loss: 0.2780 - mae: 0.6413\n",
      "Epoch 3/100\n",
      "85/85 [==============================] - 0s 4ms/step - loss: 0.2756 - mae: 0.6378\n",
      "Epoch 4/100\n",
      "85/85 [==============================] - 0s 4ms/step - loss: 0.2730 - mae: 0.6341\n",
      "Epoch 5/100\n",
      "85/85 [==============================] - 0s 4ms/step - loss: 0.2703 - mae: 0.6301\n",
      "Epoch 6/100\n",
      "85/85 [==============================] - 0s 4ms/step - loss: 0.2673 - mae: 0.6258\n",
      "Epoch 7/100\n",
      "85/85 [==============================] - 0s 3ms/step - loss: 0.2641 - mae: 0.6212\n",
      "Epoch 8/100\n",
      "85/85 [==============================] - 0s 4ms/step - loss: 0.2607 - mae: 0.6163\n",
      "Epoch 9/100\n",
      "85/85 [==============================] - 0s 4ms/step - loss: 0.2571 - mae: 0.6109\n",
      "Epoch 10/100\n",
      "85/85 [==============================] - 0s 4ms/step - loss: 0.2532 - mae: 0.6052\n",
      "Epoch 11/100\n",
      "85/85 [==============================] - 0s 4ms/step - loss: 0.2490 - mae: 0.5990\n",
      "Epoch 12/100\n",
      "85/85 [==============================] - 0s 4ms/step - loss: 0.2445 - mae: 0.5924\n",
      "Epoch 13/100\n",
      "85/85 [==============================] - 0s 3ms/step - loss: 0.2398 - mae: 0.5853\n",
      "Epoch 14/100\n",
      "85/85 [==============================] - 0s 4ms/step - loss: 0.2347 - mae: 0.5778\n",
      "Epoch 15/100\n",
      "85/85 [==============================] - 0s 4ms/step - loss: 0.2294 - mae: 0.5696\n",
      "Epoch 16/100\n",
      "85/85 [==============================] - 0s 4ms/step - loss: 0.2237 - mae: 0.5608\n",
      "Epoch 17/100\n",
      "85/85 [==============================] - 0s 4ms/step - loss: 0.2176 - mae: 0.5515\n",
      "Epoch 18/100\n",
      "85/85 [==============================] - 0s 4ms/step - loss: 0.2112 - mae: 0.5415\n",
      "Epoch 19/100\n",
      "85/85 [==============================] - 0s 4ms/step - loss: 0.2043 - mae: 0.5309\n",
      "Epoch 20/100\n",
      "85/85 [==============================] - 0s 4ms/step - loss: 0.1972 - mae: 0.5195\n",
      "Epoch 21/100\n",
      "85/85 [==============================] - 0s 4ms/step - loss: 0.1896 - mae: 0.5074\n",
      "Epoch 22/100\n",
      "85/85 [==============================] - 0s 4ms/step - loss: 0.1817 - mae: 0.4945\n",
      "Epoch 23/100\n",
      "85/85 [==============================] - 0s 3ms/step - loss: 0.1734 - mae: 0.4809\n",
      "Epoch 24/100\n",
      "85/85 [==============================] - 0s 4ms/step - loss: 0.1647 - mae: 0.4664\n",
      "Epoch 25/100\n",
      "85/85 [==============================] - 0s 4ms/step - loss: 0.1557 - mae: 0.4512\n",
      "Epoch 26/100\n",
      "85/85 [==============================] - 0s 4ms/step - loss: 0.1464 - mae: 0.4351\n",
      "Epoch 27/100\n",
      "85/85 [==============================] - 0s 3ms/step - loss: 0.1369 - mae: 0.4182\n",
      "Epoch 28/100\n",
      "85/85 [==============================] - 0s 4ms/step - loss: 0.1273 - mae: 0.4005\n",
      "Epoch 29/100\n",
      "85/85 [==============================] - 0s 4ms/step - loss: 0.1175 - mae: 0.3823\n",
      "Epoch 30/100\n",
      "85/85 [==============================] - 0s 4ms/step - loss: 0.1078 - mae: 0.3633\n",
      "Epoch 31/100\n",
      "85/85 [==============================] - 0s 4ms/step - loss: 0.0982 - mae: 0.3440\n",
      "Epoch 32/100\n",
      "85/85 [==============================] - 0s 4ms/step - loss: 0.0889 - mae: 0.3243\n",
      "Epoch 33/100\n",
      "85/85 [==============================] - 0s 4ms/step - loss: 0.0800 - mae: 0.3045A: 0s - loss: 0.1556 - mae: 0.\n",
      "Epoch 34/100\n",
      "85/85 [==============================] - 0s 4ms/step - loss: 0.0714 - mae: 0.2845\n",
      "Epoch 35/100\n",
      "85/85 [==============================] - 0s 4ms/step - loss: 0.0634 - mae: 0.2647\n",
      "Epoch 36/100\n",
      "85/85 [==============================] - 1s 4ms/step - loss: 0.0559 - mae: 0.2453\n",
      "Epoch 37/100\n",
      "85/85 [==============================] - 0s 3ms/step - loss: 0.0490 - mae: 0.2263\n",
      "Epoch 38/100\n",
      "85/85 [==============================] - 0s 4ms/step - loss: 0.0428 - mae: 0.2082\n",
      "Epoch 39/100\n",
      "85/85 [==============================] - 0s 3ms/step - loss: 0.0373 - mae: 0.1910\n",
      "Epoch 40/100\n",
      "85/85 [==============================] - 0s 4ms/step - loss: 0.0324 - mae: 0.1750\n",
      "Epoch 41/100\n",
      "85/85 [==============================] - 0s 3ms/step - loss: 0.0282 - mae: 0.1602\n",
      "Epoch 42/100\n",
      "85/85 [==============================] - 0s 4ms/step - loss: 0.0247 - mae: 0.1467\n",
      "Epoch 43/100\n",
      "85/85 [==============================] - 0s 4ms/step - loss: 0.0217 - mae: 0.1351\n",
      "Epoch 44/100\n",
      "85/85 [==============================] - 0s 4ms/step - loss: 0.0193 - mae: 0.1253\n",
      "Epoch 45/100\n",
      "85/85 [==============================] - 0s 3ms/step - loss: 0.0174 - mae: 0.1177\n",
      "Epoch 46/100\n",
      "85/85 [==============================] - 0s 3ms/step - loss: 0.0159 - mae: 0.1117\n",
      "Epoch 47/100\n",
      "85/85 [==============================] - 0s 3ms/step - loss: 0.0148 - mae: 0.1073\n",
      "Epoch 48/100\n",
      "85/85 [==============================] - 0s 3ms/step - loss: 0.0140 - mae: 0.1042\n",
      "Epoch 49/100\n",
      "85/85 [==============================] - 0s 4ms/step - loss: 0.0134 - mae: 0.1021\n",
      "Epoch 50/100\n",
      "85/85 [==============================] - 0s 4ms/step - loss: 0.0129 - mae: 0.1007\n",
      "Epoch 51/100\n",
      "85/85 [==============================] - 0s 4ms/step - loss: 0.0126 - mae: 0.0999\n",
      "Epoch 52/100\n",
      "85/85 [==============================] - 1s 4ms/step - loss: 0.0124 - mae: 0.0996\n",
      "Epoch 53/100\n",
      "85/85 [==============================] - 0s 4ms/step - loss: 0.0123 - mae: 0.0994\n",
      "Epoch 54/100\n",
      "85/85 [==============================] - 0s 4ms/step - loss: 0.0122 - mae: 0.0993\n",
      "Epoch 55/100\n",
      "85/85 [==============================] - 0s 4ms/step - loss: 0.0121 - mae: 0.0991\n",
      "Epoch 56/100\n",
      "85/85 [==============================] - 1s 4ms/step - loss: 0.0120 - mae: 0.0989\n",
      "Epoch 57/100\n",
      "85/85 [==============================] - 1s 4ms/step - loss: 0.0120 - mae: 0.0987\n",
      "Epoch 58/100\n",
      "85/85 [==============================] - 1s 4ms/step - loss: 0.0119 - mae: 0.0985\n",
      "Epoch 59/100\n",
      "85/85 [==============================] - 1s 4ms/step - loss: 0.0119 - mae: 0.0981\n",
      "Epoch 60/100\n",
      "85/85 [==============================] - 1s 4ms/step - loss: 0.0118 - mae: 0.0976\n",
      "Epoch 61/100\n",
      "85/85 [==============================] - 1s 5ms/step - loss: 0.0117 - mae: 0.0972\n",
      "Epoch 62/100\n",
      "85/85 [==============================] - 1s 4ms/step - loss: 0.0117 - mae: 0.0967\n",
      "Epoch 63/100\n",
      "85/85 [==============================] - 1s 5ms/step - loss: 0.0116 - mae: 0.0962\n",
      "Epoch 64/100\n",
      "85/85 [==============================] - 1s 4ms/step - loss: 0.0115 - mae: 0.0956\n",
      "Epoch 65/100\n",
      "85/85 [==============================] - 1s 4ms/step - loss: 0.0114 - mae: 0.0948\n",
      "Epoch 66/100\n",
      "85/85 [==============================] - 1s 4ms/step - loss: 0.0113 - mae: 0.0943\n",
      "Epoch 67/100\n",
      "85/85 [==============================] - 1s 4ms/step - loss: 0.0113 - mae: 0.0938\n",
      "Epoch 68/100\n",
      "85/85 [==============================] - 1s 4ms/step - loss: 0.0112 - mae: 0.0932A: 0s - loss: 0.0145 - mae: 0.10\n",
      "Epoch 69/100\n",
      "85/85 [==============================] - 0s 4ms/step - loss: 0.0111 - mae: 0.0924\n",
      "Epoch 70/100\n",
      "85/85 [==============================] - 1s 4ms/step - loss: 0.0110 - mae: 0.0917\n",
      "Epoch 71/100\n",
      "85/85 [==============================] - 0s 4ms/step - loss: 0.0109 - mae: 0.0909\n",
      "Epoch 72/100\n",
      "85/85 [==============================] - 1s 4ms/step - loss: 0.0108 - mae: 0.0900\n",
      "Epoch 73/100\n",
      "85/85 [==============================] - 1s 4ms/step - loss: 0.0107 - mae: 0.0893\n",
      "Epoch 74/100\n",
      "85/85 [==============================] - 1s 4ms/step - loss: 0.0106 - mae: 0.0885\n",
      "Epoch 75/100\n",
      "85/85 [==============================] - 0s 4ms/step - loss: 0.0105 - mae: 0.0876\n",
      "Epoch 76/100\n",
      "85/85 [==============================] - 1s 4ms/step - loss: 0.0103 - mae: 0.0870\n",
      "Epoch 77/100\n",
      "85/85 [==============================] - 1s 4ms/step - loss: 0.0103 - mae: 0.0860\n",
      "Epoch 78/100\n",
      "85/85 [==============================] - 1s 4ms/step - loss: 0.0101 - mae: 0.0854\n",
      "Epoch 79/100\n",
      "85/85 [==============================] - 0s 4ms/step - loss: 0.0100 - mae: 0.0845\n",
      "Epoch 80/100\n",
      "85/85 [==============================] - 1s 4ms/step - loss: 0.0099 - mae: 0.0837\n",
      "Epoch 81/100\n",
      "85/85 [==============================] - 1s 4ms/step - loss: 0.0098 - mae: 0.0832\n",
      "Epoch 82/100\n",
      "85/85 [==============================] - 0s 4ms/step - loss: 0.0096 - mae: 0.0823\n",
      "Epoch 83/100\n",
      "85/85 [==============================] - 0s 4ms/step - loss: 0.0095 - mae: 0.0816\n",
      "Epoch 84/100\n",
      "85/85 [==============================] - 1s 4ms/step - loss: 0.0094 - mae: 0.0808\n",
      "Epoch 85/100\n",
      "85/85 [==============================] - 1s 4ms/step - loss: 0.0092 - mae: 0.0800\n",
      "Epoch 86/100\n",
      "85/85 [==============================] - 1s 4ms/step - loss: 0.0091 - mae: 0.0795\n",
      "Epoch 87/100\n",
      "85/85 [==============================] - 1s 4ms/step - loss: 0.0090 - mae: 0.0787\n",
      "Epoch 88/100\n",
      "85/85 [==============================] - 1s 4ms/step - loss: 0.0088 - mae: 0.0782\n",
      "Epoch 89/100\n",
      "85/85 [==============================] - 1s 4ms/step - loss: 0.0087 - mae: 0.0777\n",
      "Epoch 90/100\n",
      "85/85 [==============================] - 0s 4ms/step - loss: 0.0085 - mae: 0.0766\n",
      "Epoch 91/100\n",
      "85/85 [==============================] - 0s 4ms/step - loss: 0.0084 - mae: 0.0760\n",
      "Epoch 92/100\n",
      "85/85 [==============================] - 0s 4ms/step - loss: 0.0082 - mae: 0.0752\n",
      "Epoch 93/100\n",
      "85/85 [==============================] - 1s 4ms/step - loss: 0.0081 - mae: 0.0748\n",
      "Epoch 94/100\n",
      "85/85 [==============================] - 1s 4ms/step - loss: 0.0079 - mae: 0.0739\n",
      "Epoch 95/100\n",
      "85/85 [==============================] - 1s 4ms/step - loss: 0.0078 - mae: 0.0734\n",
      "Epoch 96/100\n",
      "85/85 [==============================] - 0s 4ms/step - loss: 0.0076 - mae: 0.0730\n",
      "Epoch 97/100\n",
      "85/85 [==============================] - 1s 4ms/step - loss: 0.0075 - mae: 0.0721\n",
      "Epoch 98/100\n",
      "85/85 [==============================] - 1s 4ms/step - loss: 0.0073 - mae: 0.0711\n",
      "Epoch 99/100\n",
      "85/85 [==============================] - 1s 4ms/step - loss: 0.0072 - mae: 0.0704\n",
      "Epoch 100/100\n",
      "85/85 [==============================] - 0s 4ms/step - loss: 0.0070 - mae: 0.0697\n"
     ]
    }
   ],
   "source": [
    "refresh()\n",
    "\n",
    "window_size = 30\n",
    "\n",
    "train_set = window_dataset(x_train, window_size)\n",
    "\n",
    "model = Sequential([\n",
    "            Dense(1, input_shape=[window_size])\n",
    "        ])\n",
    "\n",
    "lr_schedule = LearningRateScheduler(\n",
    "                lambda epoch: 1e-6 * 10**(epoch / 30)\n",
    "                )\n",
    "\n",
    "optimizer = keras.optimizers.SGD(learning_rate=1e-6, momentum=0.9)\n",
    "\n",
    "model.compile(loss=keras.losses.Huber(),\n",
    "              optimizer=optimizer,\n",
    "              metrics=[\"mae\"])\n",
    "\n",
    "history = model.fit(train_set, epochs=100, callbacks=[lr_schedule])"
   ]
  },
  {
   "cell_type": "code",
   "execution_count": 17,
   "id": "8aefdd30",
   "metadata": {
    "colab": {
     "base_uri": "https://localhost:8080/",
     "height": 287
    },
    "id": "WmpdBlM8xWwD",
    "outputId": "62832d3b-731d-43b2-c554-8da8b6480c80"
   },
   "outputs": [
    {
     "data": {
      "image/png": "[encoded data removed]",
      "text/plain": [
       "<Figure size 432x288 with 1 Axes>"
      ]
     },
     "metadata": {
      "needs_background": "light"
     },
     "output_type": "display_data"
    },
    {
     "data": {
      "text/plain": [
       "0.0019952622"
      ]
     },
     "execution_count": 17,
     "metadata": {},
     "output_type": "execute_result"
    }
   ],
   "source": [
    "plt.semilogx(history.history[\"lr\"], history.history[\"loss\"])\n",
    "plt.axis([1e-6, 2e-3, 0, 0.3])\n",
    "\n",
    "plt.show()\n",
    "\n",
    "max(history.history[\"lr\"])"
   ]
  },
  {
   "cell_type": "code",
   "execution_count": 18,
   "id": "9ad6204b",
   "metadata": {
    "colab": {
     "base_uri": "https://localhost:8080/"
    },
    "id": "W9LyiD-HyIzl",
    "outputId": "48d9cdc7-8959-41ef-b90b-459dd0d18351",
    "scrolled": true,
    "tags": []
   },
   "outputs": [
    {
     "name": "stdout",
     "output_type": "stream",
     "text": [
      "Epoch 1/500\n",
      "85/85 [==============================] - 1s 7ms/step - loss: 0.1062 - mae: 0.2851 - val_loss: 0.0022 - val_mae: 0.0620\n",
      "Epoch 2/500\n",
      "85/85 [==============================] - 1s 5ms/step - loss: 0.0199 - mae: 0.1196 - val_loss: 0.0016 - val_mae: 0.0520\n",
      "Epoch 3/500\n",
      "85/85 [==============================] - 1s 5ms/step - loss: 0.0190 - mae: 0.1159 - val_loss: 9.7387e-04 - val_mae: 0.0394\n",
      "Epoch 4/500\n",
      "85/85 [==============================] - 1s 6ms/step - loss: 0.0184 - mae: 0.1131 - val_loss: 7.9908e-04 - val_mae: 0.0352\n",
      "Epoch 5/500\n",
      "85/85 [==============================] - 1s 5ms/step - loss: 0.0176 - mae: 0.1101 - val_loss: 5.6979e-04 - val_mae: 0.0288\n",
      "Epoch 6/500\n",
      "85/85 [==============================] - 1s 5ms/step - loss: 0.0170 - mae: 0.1080 - val_loss: 6.1732e-04 - val_mae: 0.0303\n",
      "Epoch 7/500\n",
      "85/85 [==============================] - 1s 6ms/step - loss: 0.0165 - mae: 0.1047 - val_loss: 5.0081e-04 - val_mae: 0.0267\n",
      "Epoch 8/500\n",
      "85/85 [==============================] - 1s 5ms/step - loss: 0.0160 - mae: 0.1030 - val_loss: 4.0210e-04 - val_mae: 0.0233\n",
      "Epoch 9/500\n",
      "85/85 [==============================] - 1s 6ms/step - loss: 0.0155 - mae: 0.1013 - val_loss: 3.2336e-04 - val_mae: 0.0204\n",
      "Epoch 10/500\n",
      "85/85 [==============================] - 1s 6ms/step - loss: 0.0150 - mae: 0.0999 - val_loss: 3.7761e-04 - val_mae: 0.0224\n",
      "Epoch 11/500\n",
      "85/85 [==============================] - 1s 5ms/step - loss: 0.0146 - mae: 0.0982 - val_loss: 2.6865e-04 - val_mae: 0.0181\n",
      "Epoch 12/500\n",
      "85/85 [==============================] - 1s 5ms/step - loss: 0.0142 - mae: 0.0966 - val_loss: 2.8371e-04 - val_mae: 0.0187\n",
      "Epoch 13/500\n",
      "85/85 [==============================] - 1s 5ms/step - loss: 0.0138 - mae: 0.0955 - val_loss: 2.7879e-04 - val_mae: 0.0185\n",
      "Epoch 14/500\n",
      "85/85 [==============================] - 1s 5ms/step - loss: 0.0134 - mae: 0.0940 - val_loss: 2.7572e-04 - val_mae: 0.0184\n",
      "Epoch 15/500\n",
      "85/85 [==============================] - 1s 4ms/step - loss: 0.0131 - mae: 0.0926 - val_loss: 2.5720e-04 - val_mae: 0.0175\n",
      "Epoch 16/500\n",
      "85/85 [==============================] - 1s 5ms/step - loss: 0.0127 - mae: 0.0914 - val_loss: 2.5647e-04 - val_mae: 0.0175\n",
      "Epoch 17/500\n",
      "85/85 [==============================] - 1s 5ms/step - loss: 0.0124 - mae: 0.0901 - val_loss: 2.4396e-04 - val_mae: 0.0170\n",
      "Epoch 18/500\n",
      "85/85 [==============================] - 1s 6ms/step - loss: 0.0121 - mae: 0.0893 - val_loss: 2.2315e-04 - val_mae: 0.0161\n",
      "Epoch 19/500\n",
      "85/85 [==============================] - 1s 5ms/step - loss: 0.0118 - mae: 0.0885 - val_loss: 2.3111e-04 - val_mae: 0.0164\n",
      "Epoch 20/500\n",
      "85/85 [==============================] - 1s 5ms/step - loss: 0.0116 - mae: 0.0876 - val_loss: 1.8720e-04 - val_mae: 0.0143\n",
      "Epoch 21/500\n",
      "85/85 [==============================] - 1s 5ms/step - loss: 0.0114 - mae: 0.0867 - val_loss: 2.3411e-04 - val_mae: 0.0166\n",
      "Epoch 22/500\n",
      "85/85 [==============================] - 1s 5ms/step - loss: 0.0111 - mae: 0.0853 - val_loss: 2.1340e-04 - val_mae: 0.0157\n",
      "Epoch 23/500\n",
      "85/85 [==============================] - 1s 5ms/step - loss: 0.0109 - mae: 0.0845 - val_loss: 1.8236e-04 - val_mae: 0.0142\n",
      "Epoch 24/500\n",
      "85/85 [==============================] - 1s 5ms/step - loss: 0.0106 - mae: 0.0838 - val_loss: 2.2898e-04 - val_mae: 0.0164\n",
      "Epoch 25/500\n",
      "85/85 [==============================] - 1s 5ms/step - loss: 0.0105 - mae: 0.0828 - val_loss: 2.1596e-04 - val_mae: 0.0158\n",
      "Epoch 26/500\n",
      "85/85 [==============================] - 1s 5ms/step - loss: 0.0102 - mae: 0.0820 - val_loss: 2.0576e-04 - val_mae: 0.0154\n",
      "Epoch 27/500\n",
      "85/85 [==============================] - 1s 5ms/step - loss: 0.0100 - mae: 0.0812 - val_loss: 2.0853e-04 - val_mae: 0.0155\n",
      "Epoch 28/500\n",
      "85/85 [==============================] - 1s 5ms/step - loss: 0.0099 - mae: 0.0806 - val_loss: 1.7591e-04 - val_mae: 0.0139\n",
      "Epoch 29/500\n",
      "85/85 [==============================] - 1s 5ms/step - loss: 0.0097 - mae: 0.0799 - val_loss: 1.7634e-04 - val_mae: 0.0140\n",
      "Epoch 30/500\n",
      "85/85 [==============================] - 1s 5ms/step - loss: 0.0095 - mae: 0.0795 - val_loss: 2.1365e-04 - val_mae: 0.0158\n",
      "Epoch 31/500\n",
      "85/85 [==============================] - 1s 5ms/step - loss: 0.0094 - mae: 0.0784 - val_loss: 1.7254e-04 - val_mae: 0.0138\n",
      "Epoch 32/500\n",
      "85/85 [==============================] - 1s 5ms/step - loss: 0.0092 - mae: 0.0779 - val_loss: 1.8548e-04 - val_mae: 0.0145\n",
      "Epoch 33/500\n",
      "85/85 [==============================] - 1s 5ms/step - loss: 0.0091 - mae: 0.0774 - val_loss: 1.9012e-04 - val_mae: 0.0148\n",
      "Epoch 34/500\n",
      "85/85 [==============================] - 1s 5ms/step - loss: 0.0089 - mae: 0.0769 - val_loss: 1.4896e-04 - val_mae: 0.0126\n",
      "Epoch 35/500\n",
      "85/85 [==============================] - 1s 5ms/step - loss: 0.0088 - mae: 0.0763 - val_loss: 1.7429e-04 - val_mae: 0.0140\n",
      "Epoch 36/500\n",
      "85/85 [==============================] - 1s 5ms/step - loss: 0.0087 - mae: 0.0756 - val_loss: 1.8359e-04 - val_mae: 0.0145\n",
      "Epoch 37/500\n",
      "85/85 [==============================] - 1s 5ms/step - loss: 0.0085 - mae: 0.0750 - val_loss: 1.3313e-04 - val_mae: 0.0118\n",
      "Epoch 38/500\n",
      "85/85 [==============================] - 1s 5ms/step - loss: 0.0085 - mae: 0.0749 - val_loss: 1.5839e-04 - val_mae: 0.0133\n",
      "Epoch 39/500\n",
      "85/85 [==============================] - 1s 5ms/step - loss: 0.0083 - mae: 0.0742 - val_loss: 1.6047e-04 - val_mae: 0.0134\n",
      "Epoch 40/500\n",
      "85/85 [==============================] - 1s 5ms/step - loss: 0.0082 - mae: 0.0737 - val_loss: 1.5814e-04 - val_mae: 0.0133\n",
      "Epoch 41/500\n",
      "85/85 [==============================] - 1s 5ms/step - loss: 0.0081 - mae: 0.0733 - val_loss: 1.7182e-04 - val_mae: 0.0140\n",
      "Epoch 42/500\n",
      "85/85 [==============================] - 1s 4ms/step - loss: 0.0080 - mae: 0.0728 - val_loss: 1.7235e-04 - val_mae: 0.0141\n",
      "Epoch 43/500\n",
      "85/85 [==============================] - 1s 5ms/step - loss: 0.0079 - mae: 0.0724 - val_loss: 1.5403e-04 - val_mae: 0.0131\n",
      "Epoch 44/500\n",
      "85/85 [==============================] - 1s 5ms/step - loss: 0.0078 - mae: 0.0722 - val_loss: 1.4923e-04 - val_mae: 0.0128\n",
      "Epoch 45/500\n",
      "85/85 [==============================] - 1s 5ms/step - loss: 0.0077 - mae: 0.0716 - val_loss: 1.1769e-04 - val_mae: 0.0110\n",
      "Epoch 46/500\n",
      "85/85 [==============================] - 1s 5ms/step - loss: 0.0077 - mae: 0.0714 - val_loss: 1.6803e-04 - val_mae: 0.0140\n",
      "Epoch 47/500\n",
      "85/85 [==============================] - 1s 5ms/step - loss: 0.0075 - mae: 0.0707 - val_loss: 1.4037e-04 - val_mae: 0.0124\n",
      "Epoch 48/500\n",
      "85/85 [==============================] - 1s 5ms/step - loss: 0.0075 - mae: 0.0704 - val_loss: 1.2610e-04 - val_mae: 0.0115\n",
      "Epoch 49/500\n",
      "85/85 [==============================] - 1s 5ms/step - loss: 0.0074 - mae: 0.0702 - val_loss: 1.3079e-04 - val_mae: 0.0118\n",
      "Epoch 50/500\n",
      "85/85 [==============================] - 1s 5ms/step - loss: 0.0073 - mae: 0.0697 - val_loss: 1.4555e-04 - val_mae: 0.0128\n",
      "Epoch 51/500\n",
      "85/85 [==============================] - 1s 5ms/step - loss: 0.0072 - mae: 0.0693 - val_loss: 1.4102e-04 - val_mae: 0.0125\n",
      "Epoch 52/500\n",
      "85/85 [==============================] - 1s 5ms/step - loss: 0.0072 - mae: 0.0691 - val_loss: 1.5658e-04 - val_mae: 0.0134\n",
      "Epoch 53/500\n",
      "85/85 [==============================] - 1s 5ms/step - loss: 0.0071 - mae: 0.0687 - val_loss: 1.4586e-04 - val_mae: 0.0128\n",
      "Epoch 54/500\n",
      "85/85 [==============================] - 1s 5ms/step - loss: 0.0070 - mae: 0.0683 - val_loss: 1.5057e-04 - val_mae: 0.0131\n",
      "Epoch 55/500\n",
      "85/85 [==============================] - 1s 5ms/step - loss: 0.0070 - mae: 0.0681 - val_loss: 1.4120e-04 - val_mae: 0.0126\n"
     ]
    },
    {
     "data": {
      "text/plain": [
       "<tensorflow.python.keras.callbacks.History at 0x1cdb8ccafa0>"
      ]
     },
     "execution_count": 18,
     "metadata": {},
     "output_type": "execute_result"
    }
   ],
   "source": [
    "keras.backend.clear_session()\n",
    "\n",
    "tf.random.set_seed(42)\n",
    "np.random.seed(42)\n",
    "\n",
    "window_size = 30\n",
    "\n",
    "train_set = window_dataset(x_train, window_size)\n",
    "valid_set = window_dataset(x_valid, window_size)\n",
    "\n",
    "model = Sequential([\n",
    "            Dense(1, input_shape=[window_size])\n",
    "        ])\n",
    "\n",
    "optimizer = keras.optimizers.SGD(learning_rate=1e-3, momentum=0.9)\n",
    "\n",
    "model.compile(loss=keras.losses.Huber(),\n",
    "              optimizer=optimizer,\n",
    "              metrics=[\"mae\"])\n",
    "\n",
    "early_stopping = EarlyStopping(patience=10)\n",
    "\n",
    "model.fit(train_set, epochs=500,\n",
    "          validation_data=valid_set,\n",
    "          callbacks=[early_stopping])"
   ]
  },
  {
   "cell_type": "code",
   "execution_count": 19,
   "id": "1e8eb847",
   "metadata": {
    "id": "DEjoH2EqyTFk"
   },
   "outputs": [],
   "source": [
    "def model_forecast(model, series, window_size):\n",
    "    \n",
    "    ds = tf.data.Dataset.from_tensor_slices(series)\n",
    "    ds = ds.window(window_size, shift=1, drop_remainder=True)\n",
    "    ds = ds.flat_map(lambda w: w.batch(window_size))\n",
    "    ds = ds.batch(32).prefetch(1)\n",
    "    forecast = model.predict(ds)\n",
    "    \n",
    "    return forecast"
   ]
  },
  {
   "cell_type": "code",
   "execution_count": 20,
   "id": "68260641-ca3d-4b3a-8791-c9dd655ee1e1",
   "metadata": {
    "id": "kbC_t-oPyk8_"
   },
   "outputs": [
    {
     "data": {
      "text/plain": [
       "(306,)"
      ]
     },
     "execution_count": 20,
     "metadata": {},
     "output_type": "execute_result"
    }
   ],
   "source": [
    "lin_forecast = model_forecast(model, oil_data[split_date - window_size:-1], window_size)[:, 0]\n",
    "\n",
    "lin_forecast.shape"
   ]
  },
  {
   "cell_type": "code",
   "execution_count": 21,
   "id": "9fe7272a",
   "metadata": {
    "colab": {
     "base_uri": "https://localhost:8080/",
     "height": 388
    },
    "id": "s1S7a0Tryutp",
    "outputId": "601de338-3aa3-4b21-a336-746221453830"
   },
   "outputs": [
    {
     "data": {
      "image/png": "[encoded data removed]",
      "text/plain": [
       "<Figure size 720x432 with 1 Axes>"
      ]
     },
     "metadata": {
      "needs_background": "light"
     },
     "output_type": "display_data"
    }
   ],
   "source": [
    "plt.figure(figsize=(10, 6))\n",
    "plot_series(date_valid, x_valid, label=\"Actual\")\n",
    "plot_series(date_valid, lin_forecast, label=\"Linear Model\")\n",
    "\n",
    "plt.show()"
   ]
  },
  {
   "cell_type": "code",
   "execution_count": 22,
   "id": "551996be",
   "metadata": {
    "colab": {
     "base_uri": "https://localhost:8080/"
    },
    "id": "AIL6T-zszZrs",
    "outputId": "9a5e4501-3b8b-4f6e-b99c-26e783d6ddf2"
   },
   "outputs": [
    {
     "data": {
      "text/plain": [
       "0.013131646"
      ]
     },
     "execution_count": 22,
     "metadata": {},
     "output_type": "execute_result"
    }
   ],
   "source": [
    "keras.metrics.mean_absolute_error(x_valid, lin_forecast).numpy()"
   ]
  },
  {
   "cell_type": "markdown",
   "id": "4cdb3033",
   "metadata": {
    "id": "e6228521-e56f-4306-89da-eddfa4d5823c",
    "tags": []
   },
   "source": [
    "#  MLP"
   ]
  },
  {
   "cell_type": "code",
   "execution_count": 23,
   "id": "9922c1ff",
   "metadata": {
    "colab": {
     "base_uri": "https://localhost:8080/"
    },
    "id": "9e760c02-4ac0-495e-8451-638bce1fdab2",
    "outputId": "be9721a7-bdcb-48bd-f52a-c1764156b048",
    "scrolled": true,
    "tags": []
   },
   "outputs": [
    {
     "name": "stdout",
     "output_type": "stream",
     "text": [
      "Epoch 1/100\n",
      "85/85 [==============================] - 2s 5ms/step - loss: 0.1109 - mae: 0.3892\n",
      "Epoch 2/100\n",
      "85/85 [==============================] - 1s 4ms/step - loss: 0.1108 - mae: 0.3888\n",
      "Epoch 3/100\n",
      "85/85 [==============================] - 1s 5ms/step - loss: 0.1106 - mae: 0.3884\n",
      "Epoch 4/100\n",
      "85/85 [==============================] - 1s 4ms/step - loss: 0.1104 - mae: 0.3880\n",
      "Epoch 5/100\n",
      "85/85 [==============================] - 1s 4ms/step - loss: 0.1101 - mae: 0.3875\n",
      "Epoch 6/100\n",
      "85/85 [==============================] - 1s 5ms/step - loss: 0.1098 - mae: 0.3870\n",
      "Epoch 7/100\n",
      "85/85 [==============================] - 1s 4ms/step - loss: 0.1095 - mae: 0.3863\n",
      "Epoch 8/100\n",
      "85/85 [==============================] - 1s 4ms/step - loss: 0.1092 - mae: 0.3857\n",
      "Epoch 9/100\n",
      "85/85 [==============================] - 0s 4ms/step - loss: 0.1088 - mae: 0.3849\n",
      "Epoch 10/100\n",
      "85/85 [==============================] - 1s 4ms/step - loss: 0.1083 - mae: 0.3840\n",
      "Epoch 11/100\n",
      "85/85 [==============================] - 1s 4ms/step - loss: 0.1079 - mae: 0.3831\n",
      "Epoch 12/100\n",
      "85/85 [==============================] - 1s 4ms/step - loss: 0.1073 - mae: 0.3820\n",
      "Epoch 13/100\n",
      "85/85 [==============================] - 1s 5ms/step - loss: 0.1067 - mae: 0.3808\n",
      "Epoch 14/100\n",
      "85/85 [==============================] - 1s 4ms/step - loss: 0.1060 - mae: 0.3794\n",
      "Epoch 15/100\n",
      "85/85 [==============================] - 1s 5ms/step - loss: 0.1053 - mae: 0.3779\n",
      "Epoch 16/100\n",
      "85/85 [==============================] - 1s 4ms/step - loss: 0.1044 - mae: 0.3762\n",
      "Epoch 17/100\n",
      "85/85 [==============================] - 1s 4ms/step - loss: 0.1035 - mae: 0.3743\n",
      "Epoch 18/100\n",
      "85/85 [==============================] - 1s 5ms/step - loss: 0.1024 - mae: 0.3722\n",
      "Epoch 19/100\n",
      "85/85 [==============================] - 1s 7ms/step - loss: 0.1012 - mae: 0.3698\n",
      "Epoch 20/100\n",
      "85/85 [==============================] - 1s 4ms/step - loss: 0.1000 - mae: 0.3672\n",
      "Epoch 21/100\n",
      "85/85 [==============================] - 1s 4ms/step - loss: 0.0985 - mae: 0.3642\n",
      "Epoch 22/100\n",
      "85/85 [==============================] - 1s 4ms/step - loss: 0.0969 - mae: 0.3609\n",
      "Epoch 23/100\n",
      "85/85 [==============================] - 1s 5ms/step - loss: 0.0952 - mae: 0.3572\n",
      "Epoch 24/100\n",
      "85/85 [==============================] - 1s 4ms/step - loss: 0.0932 - mae: 0.3531\n",
      "Epoch 25/100\n",
      "85/85 [==============================] - 1s 5ms/step - loss: 0.0911 - mae: 0.3486\n",
      "Epoch 26/100\n",
      "85/85 [==============================] - 1s 5ms/step - loss: 0.0888 - mae: 0.3435\n",
      "Epoch 27/100\n",
      "85/85 [==============================] - 1s 5ms/step - loss: 0.0862 - mae: 0.3379\n",
      "Epoch 28/100\n",
      "85/85 [==============================] - ETA: 0s - loss: 0.0934 - mae: 0.354 - 1s 4ms/step - loss: 0.0834 - mae: 0.3317\n",
      "Epoch 29/100\n",
      "85/85 [==============================] - 1s 4ms/step - loss: 0.0804 - mae: 0.3249\n",
      "Epoch 30/100\n",
      "85/85 [==============================] - 1s 4ms/step - loss: 0.0772 - mae: 0.3175\n",
      "Epoch 31/100\n",
      "85/85 [==============================] - 1s 4ms/step - loss: 0.0737 - mae: 0.3092\n",
      "Epoch 32/100\n",
      "85/85 [==============================] - 1s 5ms/step - loss: 0.0699 - mae: 0.3003\n",
      "Epoch 33/100\n",
      "85/85 [==============================] - 1s 6ms/step - loss: 0.0660 - mae: 0.2905\n",
      "Epoch 34/100\n",
      "85/85 [==============================] - 1s 4ms/step - loss: 0.0618 - mae: 0.2799\n",
      "Epoch 35/100\n",
      "85/85 [==============================] - 1s 4ms/step - loss: 0.0575 - mae: 0.2685\n",
      "Epoch 36/100\n",
      "85/85 [==============================] - 1s 5ms/step - loss: 0.0531 - mae: 0.2563\n",
      "Epoch 37/100\n",
      "85/85 [==============================] - 1s 6ms/step - loss: 0.0485 - mae: 0.2433\n",
      "Epoch 38/100\n",
      "85/85 [==============================] - 1s 5ms/step - loss: 0.0440 - mae: 0.2298\n",
      "Epoch 39/100\n",
      "85/85 [==============================] - 1s 4ms/step - loss: 0.0395 - mae: 0.2156\n",
      "Epoch 40/100\n",
      "85/85 [==============================] - 1s 5ms/step - loss: 0.0351 - mae: 0.2010\n",
      "Epoch 41/100\n",
      "85/85 [==============================] - 1s 5ms/step - loss: 0.0309 - mae: 0.1861\n",
      "Epoch 42/100\n",
      "85/85 [==============================] - 1s 4ms/step - loss: 0.0269 - mae: 0.1712\n",
      "Epoch 43/100\n",
      "85/85 [==============================] - 1s 4ms/step - loss: 0.0233 - mae: 0.1564\n",
      "Epoch 44/100\n",
      "85/85 [==============================] - 1s 5ms/step - loss: 0.0200 - mae: 0.1421A: 0s - loss: 0.0305 - mae: 0.\n",
      "Epoch 45/100\n",
      "85/85 [==============================] - 1s 5ms/step - loss: 0.0172 - mae: 0.1282\n",
      "Epoch 46/100\n",
      "85/85 [==============================] - 1s 5ms/step - loss: 0.0147 - mae: 0.1157\n",
      "Epoch 47/100\n",
      "85/85 [==============================] - 1s 4ms/step - loss: 0.0127 - mae: 0.1048\n",
      "Epoch 48/100\n",
      "85/85 [==============================] - 1s 4ms/step - loss: 0.0111 - mae: 0.0960\n",
      "Epoch 49/100\n",
      "85/85 [==============================] - 1s 4ms/step - loss: 0.0099 - mae: 0.0894\n",
      "Epoch 50/100\n",
      "85/85 [==============================] - 1s 4ms/step - loss: 0.0090 - mae: 0.0846\n",
      "Epoch 51/100\n",
      "85/85 [==============================] - 1s 4ms/step - loss: 0.0084 - mae: 0.0812\n",
      "Epoch 52/100\n",
      "85/85 [==============================] - 0s 4ms/step - loss: 0.0080 - mae: 0.0792\n",
      "Epoch 53/100\n",
      "85/85 [==============================] - 1s 4ms/step - loss: 0.0078 - mae: 0.0782\n",
      "Epoch 54/100\n",
      "85/85 [==============================] - 1s 5ms/step - loss: 0.0076 - mae: 0.0777\n",
      "Epoch 55/100\n",
      "85/85 [==============================] - 1s 4ms/step - loss: 0.0075 - mae: 0.0775A: 0s - loss: 0.0096 - mae: 0.08\n",
      "Epoch 56/100\n",
      "85/85 [==============================] - 1s 5ms/step - loss: 0.0075 - mae: 0.0773\n",
      "Epoch 57/100\n",
      "85/85 [==============================] - 1s 4ms/step - loss: 0.0074 - mae: 0.0770\n",
      "Epoch 58/100\n",
      "85/85 [==============================] - 1s 5ms/step - loss: 0.0074 - mae: 0.0768\n",
      "Epoch 59/100\n",
      "85/85 [==============================] - 1s 5ms/step - loss: 0.0074 - mae: 0.0763\n",
      "Epoch 60/100\n",
      "85/85 [==============================] - 1s 5ms/step - loss: 0.0073 - mae: 0.0759\n",
      "Epoch 61/100\n",
      "85/85 [==============================] - 1s 6ms/step - loss: 0.0073 - mae: 0.0755\n",
      "Epoch 62/100\n",
      "85/85 [==============================] - 1s 9ms/step - loss: 0.0072 - mae: 0.0748\n",
      "Epoch 63/100\n",
      "85/85 [==============================] - 1s 5ms/step - loss: 0.0072 - mae: 0.0743\n",
      "Epoch 64/100\n",
      "85/85 [==============================] - 1s 5ms/step - loss: 0.0072 - mae: 0.0736\n",
      "Epoch 65/100\n",
      "85/85 [==============================] - 1s 5ms/step - loss: 0.0071 - mae: 0.0731\n",
      "Epoch 66/100\n",
      "85/85 [==============================] - 1s 5ms/step - loss: 0.0071 - mae: 0.0728\n",
      "Epoch 67/100\n",
      "85/85 [==============================] - 1s 5ms/step - loss: 0.0070 - mae: 0.0718\n",
      "Epoch 68/100\n",
      "85/85 [==============================] - 1s 7ms/step - loss: 0.0070 - mae: 0.0710\n",
      "Epoch 69/100\n",
      "85/85 [==============================] - 1s 4ms/step - loss: 0.0069 - mae: 0.0705\n",
      "Epoch 70/100\n",
      "85/85 [==============================] - 1s 4ms/step - loss: 0.0069 - mae: 0.0697\n",
      "Epoch 71/100\n",
      "85/85 [==============================] - 1s 4ms/step - loss: 0.0068 - mae: 0.0692\n",
      "Epoch 72/100\n",
      "85/85 [==============================] - 1s 4ms/step - loss: 0.0068 - mae: 0.0688\n",
      "Epoch 73/100\n",
      "85/85 [==============================] - 0s 4ms/step - loss: 0.0068 - mae: 0.0679\n",
      "Epoch 74/100\n",
      "85/85 [==============================] - 1s 4ms/step - loss: 0.0067 - mae: 0.0674\n",
      "Epoch 75/100\n",
      "85/85 [==============================] - 1s 4ms/step - loss: 0.0067 - mae: 0.0669\n",
      "Epoch 76/100\n",
      "85/85 [==============================] - 1s 4ms/step - loss: 0.0066 - mae: 0.0665\n",
      "Epoch 77/100\n",
      "85/85 [==============================] - 1s 4ms/step - loss: 0.0065 - mae: 0.0661\n",
      "Epoch 78/100\n",
      "85/85 [==============================] - 1s 4ms/step - loss: 0.0065 - mae: 0.0654\n",
      "Epoch 79/100\n",
      "85/85 [==============================] - 1s 4ms/step - loss: 0.0064 - mae: 0.0649\n",
      "Epoch 80/100\n",
      "85/85 [==============================] - 0s 4ms/step - loss: 0.0064 - mae: 0.0647\n",
      "Epoch 81/100\n",
      "85/85 [==============================] - 1s 4ms/step - loss: 0.0063 - mae: 0.0646\n",
      "Epoch 82/100\n",
      "85/85 [==============================] - 1s 4ms/step - loss: 0.0063 - mae: 0.0640\n",
      "Epoch 83/100\n",
      "85/85 [==============================] - 1s 4ms/step - loss: 0.0062 - mae: 0.0637\n",
      "Epoch 84/100\n",
      "85/85 [==============================] - 1s 4ms/step - loss: 0.0061 - mae: 0.0635\n",
      "Epoch 85/100\n",
      "85/85 [==============================] - 1s 4ms/step - loss: 0.0061 - mae: 0.0634\n",
      "Epoch 86/100\n",
      "85/85 [==============================] - 1s 4ms/step - loss: 0.0060 - mae: 0.0629\n",
      "Epoch 87/100\n",
      "85/85 [==============================] - 0s 4ms/step - loss: 0.0059 - mae: 0.0617\n",
      "Epoch 88/100\n",
      "85/85 [==============================] - 1s 4ms/step - loss: 0.0058 - mae: 0.0614\n",
      "Epoch 89/100\n",
      "85/85 [==============================] - 1s 4ms/step - loss: 0.0057 - mae: 0.0610\n",
      "Epoch 90/100\n",
      "85/85 [==============================] - 1s 4ms/step - loss: 0.0057 - mae: 0.0609\n",
      "Epoch 91/100\n",
      "85/85 [==============================] - 0s 4ms/step - loss: 0.0056 - mae: 0.0602\n",
      "Epoch 92/100\n",
      "85/85 [==============================] - 1s 4ms/step - loss: 0.0055 - mae: 0.0600A: 0s - loss: 0.0072 - mae: 0.0\n",
      "Epoch 93/100\n",
      "85/85 [==============================] - 0s 4ms/step - loss: 0.0054 - mae: 0.0597\n",
      "Epoch 94/100\n",
      "85/85 [==============================] - 1s 4ms/step - loss: 0.0054 - mae: 0.0584\n",
      "Epoch 95/100\n",
      "85/85 [==============================] - 1s 4ms/step - loss: 0.0052 - mae: 0.0577\n",
      "Epoch 96/100\n",
      "85/85 [==============================] - 1s 4ms/step - loss: 0.0053 - mae: 0.0585\n",
      "Epoch 97/100\n",
      "85/85 [==============================] - 1s 4ms/step - loss: 0.0052 - mae: 0.0587\n",
      "Epoch 98/100\n",
      "85/85 [==============================] - 1s 4ms/step - loss: 0.0051 - mae: 0.0581\n",
      "Epoch 99/100\n",
      "85/85 [==============================] - 1s 4ms/step - loss: 0.0049 - mae: 0.0572\n",
      "Epoch 100/100\n",
      "85/85 [==============================] - 1s 4ms/step - loss: 0.0049 - mae: 0.0564\n"
     ]
    }
   ],
   "source": [
    "refresh()\n",
    "\n",
    "window_size = 30\n",
    "\n",
    "train_set = window_dataset(x_train, window_size)\n",
    "\n",
    "model = Sequential([\n",
    "            Dense(10, activation=\"relu\", input_shape=[window_size]),\n",
    "            Dense(10, activation=\"relu\"),\n",
    "            Dense(1)\n",
    "        ])\n",
    "\n",
    "lr_schedule = LearningRateScheduler(lambda epoch: 1e-7 * 10**(epoch / 20))\n",
    "\n",
    "optimizer = keras.optimizers.SGD(learning_rate=1e-7, momentum=0.9)\n",
    "\n",
    "model.compile(loss=keras.losses.Huber(),\n",
    "              optimizer=optimizer,\n",
    "              metrics=[\"mae\"])\n",
    "\n",
    "history = model.fit(train_set, epochs=100, callbacks=[lr_schedule])"
   ]
  },
  {
   "cell_type": "code",
   "execution_count": 24,
   "id": "3a946df7",
   "metadata": {
    "colab": {
     "base_uri": "https://localhost:8080/",
     "height": 287
    },
    "id": "5g-nC_em8OIq",
    "outputId": "330b9a14-2f99-4724-f0c4-0c7c0cbed318"
   },
   "outputs": [
    {
     "data": {
      "image/png": "[encoded data removed]",
      "text/plain": [
       "<Figure size 432x288 with 1 Axes>"
      ]
     },
     "metadata": {
      "needs_background": "light"
     },
     "output_type": "display_data"
    },
    {
     "data": {
      "text/plain": [
       "0.008912509"
      ]
     },
     "execution_count": 24,
     "metadata": {},
     "output_type": "execute_result"
    }
   ],
   "source": [
    "plt.semilogx(history.history[\"lr\"], history.history[\"loss\"])\n",
    "plt.axis([1e-7, 9e-3, 0.004, 0.12])\n",
    "\n",
    "plt.show()\n",
    "\n",
    "max(history.history[\"lr\"])"
   ]
  },
  {
   "cell_type": "code",
   "execution_count": 25,
   "id": "4935d179",
   "metadata": {
    "colab": {
     "base_uri": "https://localhost:8080/"
    },
    "id": "B7t0VrCH8OIr",
    "outputId": "07791842-f637-4519-9e07-9175911d5bad",
    "scrolled": true,
    "tags": []
   },
   "outputs": [
    {
     "name": "stdout",
     "output_type": "stream",
     "text": [
      "Epoch 1/500\n",
      "85/85 [==============================] - 2s 11ms/step - loss: 0.0264 - mae: 0.1516 - val_loss: 0.0021 - val_mae: 0.0619\n",
      "Epoch 2/500\n",
      "85/85 [==============================] - 1s 6ms/step - loss: 0.0087 - mae: 0.0866 - val_loss: 0.0011 - val_mae: 0.0447\n",
      "Epoch 3/500\n",
      "85/85 [==============================] - 1s 6ms/step - loss: 0.0083 - mae: 0.0816 - val_loss: 7.7643e-04 - val_mae: 0.0358\n",
      "Epoch 4/500\n",
      "85/85 [==============================] - 1s 6ms/step - loss: 0.0079 - mae: 0.0781 - val_loss: 6.0120e-04 - val_mae: 0.0310\n",
      "Epoch 5/500\n",
      "85/85 [==============================] - 1s 6ms/step - loss: 0.0076 - mae: 0.0748 - val_loss: 4.6772e-04 - val_mae: 0.0268\n",
      "Epoch 6/500\n",
      "85/85 [==============================] - 1s 6ms/step - loss: 0.0074 - mae: 0.0725 - val_loss: 4.3163e-04 - val_mae: 0.0256\n",
      "Epoch 7/500\n",
      "85/85 [==============================] - 1s 6ms/step - loss: 0.0072 - mae: 0.0710 - val_loss: 3.7539e-04 - val_mae: 0.0236\n",
      "Epoch 8/500\n",
      "85/85 [==============================] - 1s 6ms/step - loss: 0.0070 - mae: 0.0693 - val_loss: 2.4625e-04 - val_mae: 0.0180\n",
      "Epoch 9/500\n",
      "85/85 [==============================] - 1s 6ms/step - loss: 0.0069 - mae: 0.0689 - val_loss: 2.2741e-04 - val_mae: 0.0171\n",
      "Epoch 10/500\n",
      "85/85 [==============================] - 1s 7ms/step - loss: 0.0068 - mae: 0.0684 - val_loss: 2.7708e-04 - val_mae: 0.0195\n",
      "Epoch 11/500\n",
      "85/85 [==============================] - 1s 6ms/step - loss: 0.0067 - mae: 0.0673 - val_loss: 2.0179e-04 - val_mae: 0.0159\n",
      "Epoch 12/500\n",
      "85/85 [==============================] - 1s 5ms/step - loss: 0.0066 - mae: 0.0666 - val_loss: 2.7397e-04 - val_mae: 0.0195\n",
      "Epoch 13/500\n",
      "85/85 [==============================] - 1s 6ms/step - loss: 0.0065 - mae: 0.0658 - val_loss: 2.5011e-04 - val_mae: 0.0184\n",
      "Epoch 14/500\n",
      "85/85 [==============================] - 1s 6ms/step - loss: 0.0064 - mae: 0.0652 - val_loss: 1.9675e-04 - val_mae: 0.0157\n",
      "Epoch 15/500\n",
      "85/85 [==============================] - 1s 5ms/step - loss: 0.0063 - mae: 0.0653 - val_loss: 2.2060e-04 - val_mae: 0.0171\n",
      "Epoch 16/500\n",
      "85/85 [==============================] - 1s 6ms/step - loss: 0.0062 - mae: 0.0645 - val_loss: 2.0678e-04 - val_mae: 0.0164\n",
      "Epoch 17/500\n",
      "85/85 [==============================] - 1s 6ms/step - loss: 0.0062 - mae: 0.0641 - val_loss: 2.4181e-04 - val_mae: 0.0182\n",
      "Epoch 18/500\n",
      "85/85 [==============================] - 1s 6ms/step - loss: 0.0061 - mae: 0.0636 - val_loss: 1.7770e-04 - val_mae: 0.0149\n",
      "Epoch 19/500\n",
      "85/85 [==============================] - 1s 6ms/step - loss: 0.0060 - mae: 0.0640 - val_loss: 2.2192e-04 - val_mae: 0.0173\n",
      "Epoch 20/500\n",
      "85/85 [==============================] - 1s 6ms/step - loss: 0.0060 - mae: 0.0630 - val_loss: 1.8546e-04 - val_mae: 0.0154\n",
      "Epoch 21/500\n",
      "85/85 [==============================] - 1s 6ms/step - loss: 0.0059 - mae: 0.0627 - val_loss: 1.7028e-04 - val_mae: 0.0145\n",
      "Epoch 22/500\n",
      "85/85 [==============================] - 1s 5ms/step - loss: 0.0059 - mae: 0.0623 - val_loss: 1.7392e-04 - val_mae: 0.0148\n",
      "Epoch 23/500\n",
      "85/85 [==============================] - 1s 6ms/step - loss: 0.0058 - mae: 0.0621 - val_loss: 1.3942e-04 - val_mae: 0.0127\n",
      "Epoch 24/500\n",
      "85/85 [==============================] - 1s 7ms/step - loss: 0.0058 - mae: 0.0623 - val_loss: 1.7995e-04 - val_mae: 0.0152\n",
      "Epoch 25/500\n",
      "85/85 [==============================] - 1s 6ms/step - loss: 0.0057 - mae: 0.0618 - val_loss: 1.8238e-04 - val_mae: 0.0153\n",
      "Epoch 26/500\n",
      "85/85 [==============================] - 1s 6ms/step - loss: 0.0057 - mae: 0.0612 - val_loss: 1.5001e-04 - val_mae: 0.0135\n",
      "Epoch 27/500\n",
      "85/85 [==============================] - 1s 7ms/step - loss: 0.0056 - mae: 0.0610 - val_loss: 1.9035e-04 - val_mae: 0.0159\n",
      "Epoch 28/500\n",
      "85/85 [==============================] - 1s 7ms/step - loss: 0.0056 - mae: 0.0607 - val_loss: 1.5300e-04 - val_mae: 0.0137\n",
      "Epoch 29/500\n",
      "85/85 [==============================] - 1s 6ms/step - loss: 0.0055 - mae: 0.0605 - val_loss: 1.3282e-04 - val_mae: 0.0125\n",
      "Epoch 30/500\n",
      "85/85 [==============================] - 1s 5ms/step - loss: 0.0055 - mae: 0.0607 - val_loss: 1.5508e-04 - val_mae: 0.0139\n",
      "Epoch 31/500\n",
      "85/85 [==============================] - 1s 6ms/step - loss: 0.0055 - mae: 0.0599 - val_loss: 1.2970e-04 - val_mae: 0.0123\n",
      "Epoch 32/500\n",
      "85/85 [==============================] - 1s 6ms/step - loss: 0.0054 - mae: 0.0602 - val_loss: 1.6293e-04 - val_mae: 0.0144\n",
      "Epoch 33/500\n",
      "85/85 [==============================] - 1s 6ms/step - loss: 0.0054 - mae: 0.0596 - val_loss: 1.5079e-04 - val_mae: 0.0137\n",
      "Epoch 34/500\n",
      "85/85 [==============================] - 1s 7ms/step - loss: 0.0054 - mae: 0.0594 - val_loss: 1.0599e-04 - val_mae: 0.0106\n",
      "Epoch 35/500\n",
      "85/85 [==============================] - 1s 7ms/step - loss: 0.0054 - mae: 0.0595 - val_loss: 1.3357e-04 - val_mae: 0.0126\n",
      "Epoch 36/500\n",
      "85/85 [==============================] - 1s 7ms/step - loss: 0.0053 - mae: 0.0592 - val_loss: 1.3302e-04 - val_mae: 0.0126\n",
      "Epoch 37/500\n",
      "85/85 [==============================] - 1s 6ms/step - loss: 0.0053 - mae: 0.0590 - val_loss: 1.0846e-04 - val_mae: 0.0109\n",
      "Epoch 38/500\n",
      "85/85 [==============================] - 1s 6ms/step - loss: 0.0053 - mae: 0.0591 - val_loss: 1.4623e-04 - val_mae: 0.0135\n",
      "Epoch 39/500\n",
      "85/85 [==============================] - 1s 6ms/step - loss: 0.0052 - mae: 0.0587 - val_loss: 1.2628e-04 - val_mae: 0.0122\n",
      "Epoch 40/500\n",
      "85/85 [==============================] - 1s 6ms/step - loss: 0.0052 - mae: 0.0586 - val_loss: 1.4241e-04 - val_mae: 0.0133\n",
      "Epoch 41/500\n",
      "85/85 [==============================] - 1s 6ms/step - loss: 0.0052 - mae: 0.0585 - val_loss: 1.4414e-04 - val_mae: 0.0134\n",
      "Epoch 42/500\n",
      "85/85 [==============================] - 1s 6ms/step - loss: 0.0052 - mae: 0.0581 - val_loss: 1.3669e-04 - val_mae: 0.0130\n",
      "Epoch 43/500\n",
      "85/85 [==============================] - 1s 5ms/step - loss: 0.0051 - mae: 0.0580 - val_loss: 1.5203e-04 - val_mae: 0.0140\n",
      "Epoch 44/500\n",
      "85/85 [==============================] - 1s 5ms/step - loss: 0.0051 - mae: 0.0579 - val_loss: 1.1579e-04 - val_mae: 0.0115\n"
     ]
    },
    {
     "data": {
      "text/plain": [
       "<tensorflow.python.keras.callbacks.History at 0x1cdbbe15700>"
      ]
     },
     "execution_count": 25,
     "metadata": {},
     "output_type": "execute_result"
    }
   ],
   "source": [
    "refresh()\n",
    "\n",
    "window_size = 30\n",
    "\n",
    "train_set = window_dataset(x_train, window_size)\n",
    "valid_set = window_dataset(x_valid, window_size)\n",
    "\n",
    "model = Sequential([\n",
    "            Dense(10, activation=\"relu\", input_shape=[window_size]),\n",
    "            Dense(10, activation=\"relu\"),\n",
    "            Dense(1)\n",
    "        ])\n",
    "\n",
    "optimizer = keras.optimizers.SGD(learning_rate=1e-3, momentum=0.9)\n",
    "\n",
    "model.compile(loss=keras.losses.Huber(),\n",
    "              optimizer=optimizer,\n",
    "              metrics=[\"mae\"])\n",
    "\n",
    "early_stopping = EarlyStopping(patience=10)\n",
    "\n",
    "model.fit(train_set, epochs=500,\n",
    "          validation_data=valid_set,\n",
    "          callbacks=[early_stopping])"
   ]
  },
  {
   "cell_type": "code",
   "execution_count": 26,
   "id": "00756dff",
   "metadata": {
    "id": "RqQbX6DZ8OIu"
   },
   "outputs": [],
   "source": [
    "dense_forecast = model_forecast(\n",
    "                    model,\n",
    "                    oil_data[split_date - window_size:-1],\n",
    "                    window_size)[:, 0]"
   ]
  },
  {
   "cell_type": "code",
   "execution_count": 27,
   "id": "6df2f3cc",
   "metadata": {
    "colab": {
     "base_uri": "https://localhost:8080/",
     "height": 388
    },
    "id": "98zwAuIo8OIv",
    "outputId": "006b83fb-6191-425b-f0f2-55dfab80ff00"
   },
   "outputs": [
    {
     "data": {
      "image/png": "[encoded data removed]",
      "text/plain": [
       "<Figure size 720x432 with 1 Axes>"
      ]
     },
     "metadata": {
      "needs_background": "light"
     },
     "output_type": "display_data"
    }
   ],
   "source": [
    "plt.figure(figsize=(10, 6))\n",
    "plot_series(date_valid, x_valid, label=\"Actual\")\n",
    "plot_series(date_valid, dense_forecast, label=\"MLP Model\")\n",
    "\n",
    "plt.show()"
   ]
  },
  {
   "cell_type": "code",
   "execution_count": 28,
   "id": "b214a03a",
   "metadata": {
    "colab": {
     "base_uri": "https://localhost:8080/"
    },
    "id": "EgkELN-58OIw",
    "outputId": "44baae06-fe0c-42d1-e638-23b6e48997df"
   },
   "outputs": [
    {
     "data": {
      "text/plain": [
       "0.011866755"
      ]
     },
     "execution_count": 28,
     "metadata": {},
     "output_type": "execute_result"
    }
   ],
   "source": [
    "keras.metrics.mean_absolute_error(x_valid, dense_forecast).numpy()"
   ]
  },
  {
   "cell_type": "markdown",
   "id": "1ed9d28e",
   "metadata": {
    "id": "b577aadb-081a-49f0-999c-4d2a6062968e",
    "tags": []
   },
   "source": [
    "# RNN Model - LSTM"
   ]
  },
  {
   "cell_type": "code",
   "execution_count": 29,
   "id": "849be30c",
   "metadata": {
    "id": "8zfwXGuuvmix"
   },
   "outputs": [],
   "source": [
    "def sequential_window_dataset(series, window_size):\n",
    "    \n",
    "    series = tf.expand_dims(series, axis=-1)\n",
    "    ds = tf.data.Dataset.from_tensor_slices(series)\n",
    "    ds = ds.window(window_size + 1, shift=window_size, drop_remainder=True)\n",
    "    ds = ds.flat_map(lambda window: window.batch(window_size + 1))\n",
    "    ds = ds.map(lambda window: (window[:-1], window[1:]))\n",
    "    \n",
    "    return ds.batch(1).prefetch(1)"
   ]
  },
  {
   "cell_type": "code",
   "execution_count": 30,
   "id": "22074a35",
   "metadata": {
    "colab": {
     "base_uri": "https://localhost:8080/"
    },
    "id": "01913cd7",
    "outputId": "46d6ab6d-ea57-48e1-d2b6-b95d3fc9ce38",
    "scrolled": true,
    "tags": []
   },
   "outputs": [
    {
     "name": "stdout",
     "output_type": "stream",
     "text": [
      "Epoch 1/100\n",
      "91/91 [==============================] - 10s 26ms/step - loss: 0.1192 - mae: 0.4041\n",
      "Epoch 2/100\n",
      "91/91 [==============================] - 2s 22ms/step - loss: 0.1192 - mae: 0.4041\n",
      "Epoch 3/100\n",
      "91/91 [==============================] - 2s 23ms/step - loss: 0.1192 - mae: 0.4041: 0s - loss: 0.1479 - m\n",
      "Epoch 4/100\n",
      "91/91 [==============================] - 2s 23ms/step - loss: 0.1192 - mae: 0.4041: 0s - loss: 0.1428 - mae\n",
      "Epoch 5/100\n",
      "91/91 [==============================] - 2s 22ms/step - loss: 0.1192 - mae: 0.4041\n",
      "Epoch 6/100\n",
      "91/91 [==============================] - 3s 28ms/step - loss: 0.1192 - mae: 0.4040:\n",
      "Epoch 7/100\n",
      "91/91 [==============================] - 2s 26ms/step - loss: 0.1192 - mae: 0.4040\n",
      "Epoch 8/100\n",
      "91/91 [==============================] - 2s 24ms/step - loss: 0.1192 - mae: 0.4040: 1s -\n",
      "Epoch 9/100\n",
      "91/91 [==============================] - 2s 25ms/step - loss: 0.1192 - mae: 0.4039\n",
      "Epoch 10/100\n",
      "91/91 [==============================] - 2s 25ms/step - loss: 0.1192 - mae: 0.4039\n",
      "Epoch 11/100\n",
      "91/91 [==============================] - 2s 25ms/step - loss: 0.1191 - mae: 0.4039\n",
      "Epoch 12/100\n",
      "91/91 [==============================] - 3s 32ms/step - loss: 0.1191 - mae: 0.4038\n",
      "Epoch 13/100\n",
      "91/91 [==============================] - 3s 37ms/step - loss: 0.1191 - mae: 0.4038\n",
      "Epoch 14/100\n",
      "91/91 [==============================] - 2s 23ms/step - loss: 0.1191 - mae: 0.4037\n",
      "Epoch 15/100\n",
      "91/91 [==============================] - 2s 26ms/step - loss: 0.1190 - mae: 0.4037\n",
      "Epoch 16/100\n",
      "91/91 [==============================] - 3s 37ms/step - loss: 0.1190 - mae: 0.4036\n",
      "Epoch 17/100\n",
      "91/91 [==============================] - 2s 25ms/step - loss: 0.1190 - mae: 0.4035\n",
      "Epoch 18/100\n",
      "91/91 [==============================] - 3s 30ms/step - loss: 0.1189 - mae: 0.4034: \n",
      "Epoch 19/100\n",
      "91/91 [==============================] - 3s 35ms/step - loss: 0.1189 - mae: 0.4033\n",
      "Epoch 20/100\n",
      "91/91 [==============================] - 3s 28ms/step - loss: 0.1188 - mae: 0.4032: 0s - loss: 0.1285 - mae: \n",
      "Epoch 21/100\n",
      "91/91 [==============================] - 3s 28ms/step - loss: 0.1188 - mae: 0.4030\n",
      "Epoch 22/100\n",
      "91/91 [==============================] - 2s 24ms/step - loss: 0.1187 - mae: 0.4029\n",
      "Epoch 23/100\n",
      "91/91 [==============================] - 2s 21ms/step - loss: 0.1187 - mae: 0.4027\n",
      "Epoch 24/100\n",
      "91/91 [==============================] - 2s 27ms/step - loss: 0.1186 - mae: 0.4025\n",
      "Epoch 25/100\n",
      "91/91 [==============================] - 3s 36ms/step - loss: 0.1185 - mae: 0.4023: 1s - ETA: 0s - loss: 0.1185 - mae: 0.402\n",
      "Epoch 26/100\n",
      "91/91 [==============================] - 2s 25ms/step - loss: 0.1184 - mae: 0.4021: 0s - loss: 0.1250 - mae: 0.4\n",
      "Epoch 27/100\n",
      "91/91 [==============================] - 2s 25ms/step - loss: 0.1183 - mae: 0.4018\n",
      "Epoch 28/100\n",
      "91/91 [==============================] - 3s 28ms/step - loss: 0.1182 - mae: 0.4015\n",
      "Epoch 29/100\n",
      "91/91 [==============================] - 2s 25ms/step - loss: 0.1180 - mae: 0.4012: 1s - loss: 0\n",
      "Epoch 30/100\n",
      "91/91 [==============================] - 2s 21ms/step - loss: 0.1179 - mae: 0.4008\n",
      "Epoch 31/100\n",
      "91/91 [==============================] - 2s 20ms/step - loss: 0.1177 - mae: 0.4004\n",
      "Epoch 32/100\n",
      "91/91 [==============================] - 2s 23ms/step - loss: 0.1175 - mae: 0.3999\n",
      "Epoch 33/100\n",
      "91/91 [==============================] - 2s 20ms/step - loss: 0.1173 - mae: 0.3994\n",
      "Epoch 34/100\n",
      "91/91 [==============================] - 2s 19ms/step - loss: 0.1170 - mae: 0.3988\n",
      "Epoch 35/100\n",
      "91/91 [==============================] - 2s 20ms/step - loss: 0.1168 - mae: 0.3981\n",
      "Epoch 36/100\n",
      "91/91 [==============================] - 2s 20ms/step - loss: 0.1165 - mae: 0.3974\n",
      "Epoch 37/100\n",
      "91/91 [==============================] - 2s 20ms/step - loss: 0.1161 - mae: 0.3965\n",
      "Epoch 38/100\n",
      "91/91 [==============================] - 2s 20ms/step - loss: 0.1157 - mae: 0.3956: 1s - lo\n",
      "Epoch 39/100\n",
      "91/91 [==============================] - 2s 20ms/step - loss: 0.1153 - mae: 0.3946\n",
      "Epoch 40/100\n",
      "91/91 [==============================] - 2s 22ms/step - loss: 0.1148 - mae: 0.3934\n",
      "Epoch 41/100\n",
      "91/91 [==============================] - 2s 21ms/step - loss: 0.1143 - mae: 0.3921\n",
      "Epoch 42/100\n",
      "91/91 [==============================] - 2s 21ms/step - loss: 0.1137 - mae: 0.3906\n",
      "Epoch 43/100\n",
      "91/91 [==============================] - 2s 20ms/step - loss: 0.1130 - mae: 0.3890\n",
      "Epoch 44/100\n",
      "91/91 [==============================] - 2s 21ms/step - loss: 0.1123 - mae: 0.3871\n",
      "Epoch 45/100\n",
      "91/91 [==============================] - 2s 20ms/step - loss: 0.1115 - mae: 0.3851\n",
      "Epoch 46/100\n",
      "91/91 [==============================] - 2s 20ms/step - loss: 0.1106 - mae: 0.3828: 1s - loss\n",
      "Epoch 47/100\n",
      "91/91 [==============================] - 2s 21ms/step - loss: 0.1096 - mae: 0.3803\n",
      "Epoch 48/100\n",
      "91/91 [==============================] - 2s 21ms/step - loss: 0.1085 - mae: 0.3775\n",
      "Epoch 49/100\n",
      "91/91 [==============================] - 2s 21ms/step - loss: 0.1072 - mae: 0.3743\n",
      "Epoch 50/100\n",
      "91/91 [==============================] - 2s 20ms/step - loss: 0.1059 - mae: 0.3709\n",
      "Epoch 51/100\n",
      "91/91 [==============================] - 2s 20ms/step - loss: 0.1044 - mae: 0.3670: 1\n",
      "Epoch 52/100\n",
      "91/91 [==============================] - 2s 20ms/step - loss: 0.1027 - mae: 0.3627\n",
      "Epoch 53/100\n",
      "91/91 [==============================] - 2s 20ms/step - loss: 0.1009 - mae: 0.3580\n",
      "Epoch 54/100\n",
      "91/91 [==============================] - 2s 20ms/step - loss: 0.0990 - mae: 0.3528\n",
      "Epoch 55/100\n",
      "91/91 [==============================] - 2s 20ms/step - loss: 0.0968 - mae: 0.3470\n",
      "Epoch 56/100\n",
      "91/91 [==============================] - 2s 22ms/step - loss: 0.0945 - mae: 0.3407: 0s - loss: 0.0973 - mae: 0.34\n",
      "Epoch 57/100\n",
      "91/91 [==============================] - 3s 27ms/step - loss: 0.0920 - mae: 0.3339: 1s - loss: - ETA: 0s - loss: 0.0938 - mae: 0.337\n",
      "Epoch 58/100\n",
      "91/91 [==============================] - 3s 31ms/step - loss: 0.0893 - mae: 0.3265\n",
      "Epoch 59/100\n",
      "91/91 [==============================] - 3s 33ms/step - loss: 0.0864 - mae: 0.3185\n",
      "Epoch 60/100\n",
      "91/91 [==============================] - 3s 35ms/step - loss: 0.0833 - mae: 0.3098\n",
      "Epoch 61/100\n",
      "91/91 [==============================] - 4s 42ms/step - loss: 0.0801 - mae: 0.3005\n",
      "Epoch 62/100\n",
      "91/91 [==============================] - 3s 30ms/step - loss: 0.0767 - mae: 0.2906\n",
      "Epoch 63/100\n",
      "91/91 [==============================] - 2s 21ms/step - loss: 0.0731 - mae: 0.2801\n",
      "Epoch 64/100\n",
      "91/91 [==============================] - 2s 22ms/step - loss: 0.0695 - mae: 0.2690: \n",
      "Epoch 65/100\n",
      "91/91 [==============================] - 2s 22ms/step - loss: 0.0657 - mae: 0.2573\n",
      "Epoch 66/100\n",
      "91/91 [==============================] - 2s 22ms/step - loss: 0.0619 - mae: 0.2453\n",
      "Epoch 67/100\n",
      "91/91 [==============================] - 2s 22ms/step - loss: 0.0582 - mae: 0.2336\n",
      "Epoch 68/100\n",
      "91/91 [==============================] - 2s 22ms/step - loss: 0.0544 - mae: 0.2222: 0s - loss: 0.0685 - ma\n",
      "Epoch 69/100\n",
      "91/91 [==============================] - 2s 25ms/step - loss: 0.0508 - mae: 0.2116\n",
      "Epoch 70/100\n",
      "91/91 [==============================] - 2s 21ms/step - loss: 0.0474 - mae: 0.2021\n",
      "Epoch 71/100\n",
      "91/91 [==============================] - 2s 21ms/step - loss: 0.0442 - mae: 0.1941\n",
      "Epoch 72/100\n",
      "91/91 [==============================] - 2s 22ms/step - loss: 0.0412 - mae: 0.1888: 1s - l\n",
      "Epoch 73/100\n",
      "91/91 [==============================] - 2s 22ms/step - loss: 0.0386 - mae: 0.1857\n",
      "Epoch 74/100\n",
      "91/91 [==============================] - 2s 21ms/step - loss: 0.0363 - mae: 0.1836\n",
      "Epoch 75/100\n",
      "91/91 [==============================] - 2s 22ms/step - loss: 0.0344 - mae: 0.1828\n",
      "Epoch 76/100\n",
      "91/91 [==============================] - 2s 23ms/step - loss: 0.0327 - mae: 0.1831\n",
      "Epoch 77/100\n",
      "91/91 [==============================] - 2s 26ms/step - loss: 0.0314 - mae: 0.1842\n",
      "Epoch 78/100\n",
      "91/91 [==============================] - 2s 24ms/step - loss: 0.0303 - mae: 0.1854: 1s - l\n",
      "Epoch 79/100\n",
      "91/91 [==============================] - 2s 24ms/step - loss: 0.0294 - mae: 0.1865: 1s - loss: 0.0631 - mae: 0.297 - ETA: 1s - los\n",
      "Epoch 80/100\n",
      "91/91 [==============================] - 2s 22ms/step - loss: 0.0287 - mae: 0.1874\n",
      "Epoch 81/100\n",
      "91/91 [==============================] - 2s 21ms/step - loss: 0.0280 - mae: 0.1878: 0s - loss: 0.0366 \n",
      "Epoch 82/100\n",
      "91/91 [==============================] - 2s 22ms/step - loss: 0.0274 - mae: 0.1875\n",
      "Epoch 83/100\n",
      "91/91 [==============================] - 2s 22ms/step - loss: 0.0268 - mae: 0.1866\n",
      "Epoch 84/100\n",
      "91/91 [==============================] - 2s 24ms/step - loss: 0.0262 - mae: 0.1850\n",
      "Epoch 85/100\n",
      "91/91 [==============================] - 2s 23ms/step - loss: 0.0255 - mae: 0.1829\n",
      "Epoch 86/100\n",
      "91/91 [==============================] - 2s 22ms/step - loss: 0.0248 - mae: 0.1802\n",
      "Epoch 87/100\n",
      "91/91 [==============================] - 2s 22ms/step - loss: 0.0240 - mae: 0.1771\n",
      "Epoch 88/100\n",
      "91/91 [==============================] - 2s 23ms/step - loss: 0.0232 - mae: 0.1735\n",
      "Epoch 89/100\n",
      "91/91 [==============================] - 2s 22ms/step - loss: 0.0223 - mae: 0.1694\n",
      "Epoch 90/100\n",
      "91/91 [==============================] - 2s 21ms/step - loss: 0.0212 - mae: 0.1648: \n",
      "Epoch 91/100\n",
      "91/91 [==============================] - 2s 21ms/step - loss: 0.0201 - mae: 0.1596\n",
      "Epoch 92/100\n",
      "91/91 [==============================] - 2s 24ms/step - loss: 0.0190 - mae: 0.1538\n",
      "Epoch 93/100\n",
      "91/91 [==============================] - 2s 21ms/step - loss: 0.0177 - mae: 0.1473\n",
      "Epoch 94/100\n",
      "91/91 [==============================] - 2s 21ms/step - loss: 0.0163 - mae: 0.1400\n",
      "Epoch 95/100\n",
      "91/91 [==============================] - 2s 21ms/step - loss: 0.0148 - mae: 0.1319\n",
      "Epoch 96/100\n",
      "91/91 [==============================] - 2s 22ms/step - loss: 0.0133 - mae: 0.1229\n",
      "Epoch 97/100\n",
      "91/91 [==============================] - 2s 21ms/step - loss: 0.0118 - mae: 0.1133\n",
      "Epoch 98/100\n",
      "91/91 [==============================] - 2s 20ms/step - loss: 0.0103 - mae: 0.1035\n",
      "Epoch 99/100\n",
      "91/91 [==============================] - 2s 21ms/step - loss: 0.0091 - mae: 0.0940\n",
      "Epoch 100/100\n",
      "91/91 [==============================] - 2s 23ms/step - loss: 0.0080 - mae: 0.0857\n"
     ]
    }
   ],
   "source": [
    "refresh()\n",
    "\n",
    "window_size = 30\n",
    "\n",
    "train_set = sequential_window_dataset(x_train, window_size)\n",
    "\n",
    "model = Sequential([\n",
    "    \n",
    "        LSTM(100, return_sequences=True, stateful=True, batch_input_shape=[1, None, 1]),\n",
    "        LSTM(100, return_sequences=True, stateful=True),\n",
    "        Dense(1)\n",
    "        #Lambda(lambda x: x * 200.0)\n",
    "    \n",
    "        ])\n",
    "\n",
    "learning_rate_schedule = LearningRateScheduler(lambda epoch: 1e-8 * 10**(epoch / 20))\n",
    "reset_states = ResetStatesCallback()\n",
    "\n",
    "optimizer = keras.optimizers.SGD(learning_rate=1e-8, momentum=0.9)\n",
    "\n",
    "model.compile(loss=keras.losses.Huber(), optimizer=optimizer, metrics=[\"mae\"])\n",
    "\n",
    "history = model.fit(train_set, epochs=100, callbacks=[learning_rate_schedule, reset_states])"
   ]
  },
  {
   "cell_type": "code",
   "execution_count": 34,
   "id": "0ec70b7d",
   "metadata": {
    "colab": {
     "base_uri": "https://localhost:8080/",
     "height": 291
    },
    "id": "eada4ef5",
    "outputId": "267fff3c-e77a-479e-f939-72b980fccca8"
   },
   "outputs": [
    {
     "data": {
      "image/png": "[encoded data removed]",
      "text/plain": [
       "<Figure size 432x288 with 1 Axes>"
      ]
     },
     "metadata": {
      "needs_background": "light"
     },
     "output_type": "display_data"
    },
    {
     "data": {
      "text/plain": [
       "0.00089125097"
      ]
     },
     "execution_count": 34,
     "metadata": {},
     "output_type": "execute_result"
    }
   ],
   "source": [
    "plt.semilogx(history.history[\"lr\"], history.history[\"loss\"])\n",
    "plt.axis([1e-8, 1e-3, 0.009, 0.12])\n",
    "plt.show()\n",
    "\n",
    "max(history.history[\"lr\"])"
   ]
  },
  {
   "cell_type": "code",
   "execution_count": 35,
   "id": "cd1f6f16",
   "metadata": {
    "colab": {
     "base_uri": "https://localhost:8080/"
    },
    "id": "IpAvutYit4qq",
    "outputId": "137a9e66-fd42-4188-c872-0343c322f08c",
    "scrolled": true,
    "tags": []
   },
   "outputs": [
    {
     "name": "stdout",
     "output_type": "stream",
     "text": [
      "Epoch 1/500\n",
      "91/91 [==============================] - 10s 44ms/step - loss: 0.0664 - mae: 0.2672 - val_loss: 0.0063 - val_mae: 0.1018\n",
      "Epoch 2/500\n",
      "91/91 [==============================] - 2s 24ms/step - loss: 0.0304 - mae: 0.1919 - val_loss: 0.0046 - val_mae: 0.0865\n",
      "Epoch 3/500\n",
      "91/91 [==============================] - 2s 25ms/step - loss: 0.0251 - mae: 0.1731 - val_loss: 0.0034 - val_mae: 0.0741\n",
      "Epoch 4/500\n",
      "91/91 [==============================] - 2s 24ms/step - loss: 0.0205 - mae: 0.1550 - val_loss: 0.0024 - val_mae: 0.0617\n",
      "Epoch 5/500\n",
      "91/91 [==============================] - 2s 24ms/step - loss: 0.0167 - mae: 0.1379 - val_loss: 0.0016 - val_mae: 0.0503\n",
      "Epoch 6/500\n",
      "91/91 [==============================] - 2s 23ms/step - loss: 0.0136 - mae: 0.1221 - val_loss: 0.0011 - val_mae: 0.0402\n",
      "Epoch 7/500\n",
      "91/91 [==============================] - 2s 24ms/step - loss: 0.0111 - mae: 0.1078 - val_loss: 6.9260e-04 - val_mae: 0.0320\n",
      "Epoch 8/500\n",
      "91/91 [==============================] - 2s 23ms/step - loss: 0.0093 - mae: 0.0957 - val_loss: 4.5574e-04 - val_mae: 0.0255\n",
      "Epoch 9/500\n",
      "91/91 [==============================] - 2s 24ms/step - loss: 0.0080 - mae: 0.0859 - val_loss: 3.1454e-04 - val_mae: 0.0208\n",
      "Epoch 10/500\n",
      "91/91 [==============================] - 2s 25ms/step - loss: 0.0072 - mae: 0.0783 - val_loss: 2.3271e-04 - val_mae: 0.0174\n",
      "Epoch 11/500\n",
      "91/91 [==============================] - 2s 24ms/step - loss: 0.0067 - mae: 0.0726 - val_loss: 1.8574e-04 - val_mae: 0.0152\n",
      "Epoch 12/500\n",
      "91/91 [==============================] - 2s 26ms/step - loss: 0.0064 - mae: 0.0686 - val_loss: 1.5862e-04 - val_mae: 0.0137\n",
      "Epoch 13/500\n",
      "91/91 [==============================] - 2s 23ms/step - loss: 0.0062 - mae: 0.0658 - val_loss: 1.4273e-04 - val_mae: 0.0127\n",
      "Epoch 14/500\n",
      "91/91 [==============================] - 2s 24ms/step - loss: 0.0061 - mae: 0.0638 - val_loss: 1.3324e-04 - val_mae: 0.0121\n",
      "Epoch 15/500\n",
      "91/91 [==============================] - 2s 24ms/step - loss: 0.0060 - mae: 0.0625 - val_loss: 1.2747e-04 - val_mae: 0.0117\n",
      "Epoch 16/500\n",
      "91/91 [==============================] - 2s 26ms/step - loss: 0.0060 - mae: 0.0616 - val_loss: 1.2393e-04 - val_mae: 0.0114\n",
      "Epoch 17/500\n",
      "91/91 [==============================] - 2s 23ms/step - loss: 0.0060 - mae: 0.0610 - val_loss: 1.2174e-04 - val_mae: 0.0113\n",
      "Epoch 18/500\n",
      "91/91 [==============================] - 2s 23ms/step - loss: 0.0060 - mae: 0.0605 - val_loss: 1.2042e-04 - val_mae: 0.0112\n",
      "Epoch 19/500\n",
      "91/91 [==============================] - 2s 26ms/step - loss: 0.0059 - mae: 0.0602 - val_loss: 1.1965e-04 - val_mae: 0.0111\n",
      "Epoch 20/500\n",
      "91/91 [==============================] - 2s 23ms/step - loss: 0.0059 - mae: 0.0600 - val_loss: 1.1923e-04 - val_mae: 0.0111\n",
      "Epoch 21/500\n",
      "91/91 [==============================] - 2s 23ms/step - loss: 0.0059 - mae: 0.0598 - val_loss: 1.1906e-04 - val_mae: 0.0111\n",
      "Epoch 22/500\n",
      "91/91 [==============================] - 2s 25ms/step - loss: 0.0059 - mae: 0.0597 - val_loss: 1.1904e-04 - val_mae: 0.0111\n",
      "Epoch 23/500\n",
      "91/91 [==============================] - 2s 26ms/step - loss: 0.0059 - mae: 0.0596 - val_loss: 1.1913e-04 - val_mae: 0.0111\n",
      "Epoch 24/500\n",
      "91/91 [==============================] - 2s 23ms/step - loss: 0.0059 - mae: 0.0595 - val_loss: 1.1929e-04 - val_mae: 0.0111\n",
      "Epoch 25/500\n",
      "91/91 [==============================] - 2s 23ms/step - loss: 0.0059 - mae: 0.0595 - val_loss: 1.1949e-04 - val_mae: 0.0112\n",
      "Epoch 26/500\n",
      "91/91 [==============================] - 2s 24ms/step - loss: 0.0059 - mae: 0.0594 - val_loss: 1.1973e-04 - val_mae: 0.0112\n",
      "Epoch 27/500\n",
      "91/91 [==============================] - 2s 23ms/step - loss: 0.0059 - mae: 0.0594 - val_loss: 1.1998e-04 - val_mae: 0.0112\n",
      "Epoch 28/500\n",
      "91/91 [==============================] - 2s 24ms/step - loss: 0.0059 - mae: 0.0593 - val_loss: 1.2025e-04 - val_mae: 0.0112\n",
      "Epoch 29/500\n",
      "91/91 [==============================] - 2s 25ms/step - loss: 0.0059 - mae: 0.0593 - val_loss: 1.2053e-04 - val_mae: 0.0113\n",
      "Epoch 30/500\n",
      "91/91 [==============================] - 2s 27ms/step - loss: 0.0059 - mae: 0.0592 - val_loss: 1.2081e-04 - val_mae: 0.0113\n",
      "Epoch 31/500\n",
      "91/91 [==============================] - 2s 23ms/step - loss: 0.0059 - mae: 0.0592 - val_loss: 1.2110e-04 - val_mae: 0.0113\n",
      "Epoch 32/500\n",
      "91/91 [==============================] - 2s 24ms/step - loss: 0.0059 - mae: 0.0591 - val_loss: 1.2138e-04 - val_mae: 0.0113\n",
      "Epoch 33/500\n",
      "91/91 [==============================] - 2s 24ms/step - loss: 0.0059 - mae: 0.0591 - val_loss: 1.2167e-04 - val_mae: 0.0114\n",
      "Epoch 34/500\n",
      "91/91 [==============================] - 2s 25ms/step - loss: 0.0059 - mae: 0.0590 - val_loss: 1.2195e-04 - val_mae: 0.0114\n",
      "Epoch 35/500\n",
      "91/91 [==============================] - 2s 25ms/step - loss: 0.0058 - mae: 0.0590 - val_loss: 1.2224e-04 - val_mae: 0.0114\n",
      "Epoch 36/500\n",
      "91/91 [==============================] - 2s 25ms/step - loss: 0.0058 - mae: 0.0590 - val_loss: 1.2252e-04 - val_mae: 0.0114\n",
      "Epoch 37/500\n",
      "91/91 [==============================] - 2s 26ms/step - loss: 0.0058 - mae: 0.0589 - val_loss: 1.2279e-04 - val_mae: 0.0115\n",
      "Epoch 38/500\n",
      "91/91 [==============================] - 2s 23ms/step - loss: 0.0058 - mae: 0.0589 - val_loss: 1.2307e-04 - val_mae: 0.0115\n",
      "Epoch 39/500\n",
      "91/91 [==============================] - 2s 25ms/step - loss: 0.0058 - mae: 0.0588 - val_loss: 1.2334e-04 - val_mae: 0.0115\n",
      "Epoch 40/500\n",
      "91/91 [==============================] - 2s 24ms/step - loss: 0.0058 - mae: 0.0588 - val_loss: 1.2361e-04 - val_mae: 0.0115\n",
      "Epoch 41/500\n",
      "91/91 [==============================] - 2s 24ms/step - loss: 0.0058 - mae: 0.0588 - val_loss: 1.2388e-04 - val_mae: 0.0116\n",
      "Epoch 42/500\n",
      "91/91 [==============================] - 2s 24ms/step - loss: 0.0058 - mae: 0.0587 - val_loss: 1.2415e-04 - val_mae: 0.0116\n",
      "Epoch 43/500\n",
      "91/91 [==============================] - 2s 24ms/step - loss: 0.0058 - mae: 0.0587 - val_loss: 1.2441e-04 - val_mae: 0.0116\n",
      "Epoch 44/500\n",
      "91/91 [==============================] - 2s 26ms/step - loss: 0.0058 - mae: 0.0586 - val_loss: 1.2467e-04 - val_mae: 0.0116\n",
      "Epoch 45/500\n",
      "91/91 [==============================] - 2s 24ms/step - loss: 0.0058 - mae: 0.0586 - val_loss: 1.2493e-04 - val_mae: 0.0117\n",
      "Epoch 46/500\n",
      "91/91 [==============================] - 2s 24ms/step - loss: 0.0058 - mae: 0.0586 - val_loss: 1.2519e-04 - val_mae: 0.0117\n",
      "Epoch 47/500\n",
      "91/91 [==============================] - 2s 25ms/step - loss: 0.0058 - mae: 0.0585 - val_loss: 1.2544e-04 - val_mae: 0.0117\n",
      "Epoch 48/500\n",
      "91/91 [==============================] - 2s 24ms/step - loss: 0.0058 - mae: 0.0585 - val_loss: 1.2569e-04 - val_mae: 0.0117\n",
      "Epoch 49/500\n",
      "91/91 [==============================] - 2s 24ms/step - loss: 0.0058 - mae: 0.0585 - val_loss: 1.2594e-04 - val_mae: 0.0117\n",
      "Epoch 50/500\n",
      "91/91 [==============================] - 2s 24ms/step - loss: 0.0058 - mae: 0.0584 - val_loss: 1.2618e-04 - val_mae: 0.0118\n",
      "Epoch 51/500\n",
      "91/91 [==============================] - 3s 30ms/step - loss: 0.0058 - mae: 0.0584 - val_loss: 1.2642e-04 - val_mae: 0.0118\n",
      "Epoch 52/500\n",
      "91/91 [==============================] - 2s 25ms/step - loss: 0.0058 - mae: 0.0583 - val_loss: 1.2666e-04 - val_mae: 0.0118\n",
      "Epoch 53/500\n",
      "91/91 [==============================] - 2s 24ms/step - loss: 0.0058 - mae: 0.0583 - val_loss: 1.2690e-04 - val_mae: 0.0118\n",
      "Epoch 54/500\n",
      "91/91 [==============================] - 2s 24ms/step - loss: 0.0058 - mae: 0.0583 - val_loss: 1.2713e-04 - val_mae: 0.0118\n",
      "Epoch 55/500\n",
      "91/91 [==============================] - 2s 26ms/step - loss: 0.0058 - mae: 0.0582 - val_loss: 1.2736e-04 - val_mae: 0.0119\n",
      "Epoch 56/500\n",
      "91/91 [==============================] - 2s 24ms/step - loss: 0.0058 - mae: 0.0582 - val_loss: 1.2759e-04 - val_mae: 0.0119\n",
      "Epoch 57/500\n",
      "91/91 [==============================] - 2s 26ms/step - loss: 0.0058 - mae: 0.0582 - val_loss: 1.2782e-04 - val_mae: 0.0119\n",
      "Epoch 58/500\n",
      "91/91 [==============================] - 3s 29ms/step - loss: 0.0058 - mae: 0.0581 - val_loss: 1.2804e-04 - val_mae: 0.0119\n",
      "Epoch 59/500\n",
      "91/91 [==============================] - 2s 26ms/step - loss: 0.0058 - mae: 0.0581 - val_loss: 1.2827e-04 - val_mae: 0.0119\n",
      "Epoch 60/500\n",
      "91/91 [==============================] - 2s 26ms/step - loss: 0.0058 - mae: 0.0581 - val_loss: 1.2848e-04 - val_mae: 0.0120\n",
      "Epoch 61/500\n",
      "91/91 [==============================] - 2s 27ms/step - loss: 0.0058 - mae: 0.0580 - val_loss: 1.2870e-04 - val_mae: 0.0120\n",
      "Epoch 62/500\n",
      "91/91 [==============================] - 2s 25ms/step - loss: 0.0058 - mae: 0.0580 - val_loss: 1.2892e-04 - val_mae: 0.0120\n",
      "Epoch 63/500\n",
      "91/91 [==============================] - 2s 25ms/step - loss: 0.0058 - mae: 0.0580 - val_loss: 1.2913e-04 - val_mae: 0.0120\n",
      "Epoch 64/500\n",
      "91/91 [==============================] - 3s 32ms/step - loss: 0.0057 - mae: 0.0579 - val_loss: 1.2934e-04 - val_mae: 0.0120\n",
      "Epoch 65/500\n",
      "91/91 [==============================] - 2s 24ms/step - loss: 0.0057 - mae: 0.0579 - val_loss: 1.2954e-04 - val_mae: 0.0120\n",
      "Epoch 66/500\n",
      "91/91 [==============================] - 2s 24ms/step - loss: 0.0057 - mae: 0.0579 - val_loss: 1.2975e-04 - val_mae: 0.0121\n",
      "Epoch 67/500\n",
      "91/91 [==============================] - 2s 24ms/step - loss: 0.0057 - mae: 0.0579 - val_loss: 1.2995e-04 - val_mae: 0.0121\n",
      "Epoch 68/500\n",
      "91/91 [==============================] - 2s 23ms/step - loss: 0.0057 - mae: 0.0578 - val_loss: 1.3015e-04 - val_mae: 0.0121\n",
      "Epoch 69/500\n",
      "91/91 [==============================] - 2s 23ms/step - loss: 0.0057 - mae: 0.0578 - val_loss: 1.3035e-04 - val_mae: 0.0121\n",
      "Epoch 70/500\n",
      "91/91 [==============================] - 2s 23ms/step - loss: 0.0057 - mae: 0.0578 - val_loss: 1.3054e-04 - val_mae: 0.0121\n",
      "Epoch 71/500\n",
      "91/91 [==============================] - 3s 32ms/step - loss: 0.0057 - mae: 0.0577 - val_loss: 1.3073e-04 - val_mae: 0.0122\n",
      "Epoch 72/500\n",
      "91/91 [==============================] - 2s 23ms/step - loss: 0.0057 - mae: 0.0577 - val_loss: 1.3092e-04 - val_mae: 0.0122\n"
     ]
    },
    {
     "data": {
      "text/plain": [
       "<tensorflow.python.keras.callbacks.History at 0x1cdc15f6c10>"
      ]
     },
     "execution_count": 35,
     "metadata": {},
     "output_type": "execute_result"
    }
   ],
   "source": [
    "refresh()\n",
    "\n",
    "window_size = 30\n",
    "train_set = sequential_window_dataset(x_train, window_size)\n",
    "valid_set = sequential_window_dataset(x_valid, window_size)\n",
    "\n",
    "model = Sequential([\n",
    "                    \n",
    "        LSTM(100, return_sequences=True, stateful=True, batch_input_shape=[1, None, 1]),\n",
    "        LSTM(100, return_sequences=True, stateful=True),\n",
    "        Dense(1),\n",
    "        #Lambda(lambda x: x * 200.0)\n",
    "        \n",
    "        ])\n",
    "\n",
    "optimizer = keras.optimizers.SGD(learning_rate=1e-3, momentum=0.9)\n",
    "\n",
    "model.compile(loss=keras.losses.Huber(), optimizer=optimizer, metrics=[\"mae\"])\n",
    "\n",
    "reset_states = ResetStatesCallback()\n",
    "model_checkpoint = ModelCheckpoint(\"my_checkpoint.h5\", save_best_only=True)\n",
    "early_stopping = EarlyStopping(patience=50)\n",
    "\n",
    "model.fit(train_set, epochs=500, validation_data=valid_set, \n",
    "          callbacks=[early_stopping, model_checkpoint, reset_states])"
   ]
  },
  {
   "cell_type": "code",
   "execution_count": 36,
   "id": "07d2b465",
   "metadata": {
    "id": "nPeZUfQy8OJQ"
   },
   "outputs": [],
   "source": [
    "#load best model\n",
    "model = keras.models.load_model(\"my_checkpoint.h5\")"
   ]
  },
  {
   "cell_type": "code",
   "execution_count": 37,
   "id": "44fb6ea8",
   "metadata": {
    "id": "4tFrq5uW8OJR"
   },
   "outputs": [],
   "source": [
    "#forcast\n",
    "rnn_forecast = model.predict(oil_data[np.newaxis, :, np.newaxis])\n",
    "rnn_forecast = rnn_forecast[0, split_date - 1:-1, 0]"
   ]
  },
  {
   "cell_type": "code",
   "execution_count": 40,
   "id": "f34606e5",
   "metadata": {
    "colab": {
     "base_uri": "https://localhost:8080/",
     "height": 388
    },
    "id": "ZfaR6nqj8OJT",
    "outputId": "2175a190-f6e4-4bd7-dba5-cf18b0035da7",
    "tags": []
   },
   "outputs": [
    {
     "data": {
      "image/png": "[encoded data removed]",
      "text/plain": [
       "<Figure size 720x432 with 1 Axes>"
      ]
     },
     "metadata": {
      "needs_background": "light"
     },
     "output_type": "display_data"
    }
   ],
   "source": [
    "plt.figure(figsize=(10, 6))\n",
    "plot_series(date_valid, x_valid)\n",
    "plot_series(date_valid, rnn_forecast)\n",
    "\n",
    "plt.show()"
   ]
  },
  {
   "cell_type": "code",
   "execution_count": 39,
   "id": "c33dfae1",
   "metadata": {
    "colab": {
     "base_uri": "https://localhost:8080/"
    },
    "id": "Wgf2u2Tp8OJV",
    "outputId": "8401bdf9-b18b-4d98-97be-621e3132e752"
   },
   "outputs": [
    {
     "data": {
      "text/plain": [
       "0.0109032"
      ]
     },
     "execution_count": 39,
     "metadata": {},
     "output_type": "execute_result"
    }
   ],
   "source": [
    "keras.metrics.mean_absolute_error(x_valid, rnn_forecast).numpy()"
   ]
  },
  {
   "cell_type": "code",
   "execution_count": null,
   "id": "f1d56893",
   "metadata": {
    "id": "e55de80a-bae0-4ef1-a05a-00de6df093a0"
   },
   "outputs": [],
   "source": []
  },
  {
   "cell_type": "code",
   "execution_count": null,
   "id": "c9ab99cd",
   "metadata": {
    "id": "1d2df512-51e7-480e-8946-513ed58764b8"
   },
   "outputs": [],
   "source": []
  }
 ],
 "metadata": {
  "colab": {
   "include_colab_link": true,
   "name": "model.ipynb",
   "provenance": []
  },
  "kernelspec": {
   "display_name": "Python 3",
   "language": "python",
   "name": "python3"
  },
  "language_info": {
   "codemirror_mode": {
    "name": "ipython",
    "version": 3
   },
   "file_extension": ".py",
   "mimetype": "text/x-python",
   "name": "python",
   "nbconvert_exporter": "python",
   "pygments_lexer": "ipython3",
   "version": "3.8.8"
  }
 },
 "nbformat": 4,
 "nbformat_minor": 5
}
