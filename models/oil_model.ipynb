{
 "cells": [
  {
   "cell_type": "code",
   "execution_count": null,
   "id": "ca26bf12",
   "metadata": {
    "id": "a62016be-f548-426c-8463-4990bce88bad"
   },
   "outputs": [],
   "source": [
    "import io\n",
    "import math\n",
    "\n",
    "import matplotlib.pyplot as plt\n",
    "import numpy as np\n",
    "import pandas as pd\n",
    "# import seaborn as sns\n",
    "import tensorflow as tf\n",
    "import tensorflow.keras as keras\n",
    "\n",
    "# from sklearn.linear_model import LinearRegression\n",
    "# from sklearn.model_selection import train_test_split\n",
    "from sklearn.preprocessing import MinMaxScaler\n",
    "\n",
    "from tensorflow.keras import Sequential\n",
    "\n",
    "from tensorflow.keras.callbacks import Callback, ModelCheckpoint, EarlyStopping, LearningRateScheduler\n",
    "from tensorflow.keras.layers import Dense, Input, Lambda, LSTM"
   ]
  },
  {
   "cell_type": "code",
   "execution_count": null,
   "id": "c4cfbd6a",
   "metadata": {
    "colab": {
     "base_uri": "https://localhost:8080/",
     "height": 315,
     "resources": {
      "http://localhost:8080/nbextensions/google.colab/files.js": {
       "data": "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",
       "headers": [
        [
         "content-type",
         "application/javascript"
        ]
       ],
       "ok": true,
       "status": 200,
       "status_text": "OK"
      }
     }
    },
    "id": "bd3fdbc8-d459-4639-a2f1-d2e556e321d5",
    "outputId": "599e54b2-896c-4501-b065-8d8aa9b50cc3"
   },
   "outputs": [],
   "source": [
    "df = pd.read_csv(\"../datasets/consolidated_data/oil_data.csv\", index_col=\"DATEPRD\")\n",
    "\n",
    "date = df.index\n",
    "df.head()"
   ]
  },
  {
   "cell_type": "code",
   "execution_count": null,
   "id": "95c8208f",
   "metadata": {
    "id": "9525ff5a-6d80-43d7-8fda-5c7a3b310106"
   },
   "outputs": [],
   "source": [
    "#function to plot a series\n",
    "def plot_series(x, y, ylabel=None, format=\"-\", start=None, end=None, label=None):\n",
    "    plt.figure(figsize=(10, 6))\n",
    "    plt.plot(x[start:end], y[start:end], format, label=label)\n",
    "    plt.xlabel(\"Date\")\n",
    "    plt.ylabel(f\"{ylabel} Volume\")\n",
    "    if label:\n",
    "        plt.legend(fontsize=14)\n",
    "    plt.grid(True)\n",
    "    plt.show()\n",
    "\n",
    "\n",
    "#clear session \n",
    "def refresh():\n",
    "    keras.backend.clear_session()\n",
    "    tf.random.set_seed(42)\n",
    "    np.random.seed(42)\n",
    "\n",
    "class ResetStatesCallback(Callback):\n",
    "    def on_epoch_begin(self, epoch, logs):\n",
    "        self.model.reset_states()"
   ]
  },
  {
   "cell_type": "code",
   "execution_count": null,
   "id": "120a9fb4-43f7-41cf-b3d7-29c573a1705e",
   "metadata": {},
   "outputs": [],
   "source": [
    "oil_data = df.BORE_OIL_VOL.to_numpy()\n",
    "\n",
    "plot_series(date, oil_data, \"Oil\", label=\"Daily Oil Production\")\n",
    "\n",
    "oil_data"
   ]
  },
  {
   "cell_type": "code",
   "execution_count": null,
   "id": "c1035464-9ddc-443d-b5b7-99c39608904f",
   "metadata": {},
   "outputs": [],
   "source": [
    "gas_data = df.BORE_GAS_VOL.to_numpy()\n",
    "\n",
    "plt.figure(figsize=(10, 6))\n",
    "plot_series(date, gas_data, \"Gas\", label=\"Daily Gas Production\")\n",
    "plt.show()\n",
    "\n",
    "gas_data"
   ]
  },
  {
   "cell_type": "code",
   "execution_count": null,
   "id": "fb5673bf-f36b-4bf1-8987-5c667b7bb471",
   "metadata": {},
   "outputs": [],
   "source": [
    "scaler = MinMaxScaler(feature_range=(0, 1))\n",
    "scaled = scaler.fit_transform(df)\n",
    "\n",
    "scaled_df = pd.DataFrame(scaled, index=df.index, columns=df.columns)\n",
    "scaled_df.head()"
   ]
  },
  {
   "cell_type": "code",
   "execution_count": null,
   "id": "c5d2c9fa",
   "metadata": {
    "colab": {
     "base_uri": "https://localhost:8080/",
     "height": 406
    },
    "id": "44685c64-c61f-431d-8527-cd77d346bf81",
    "outputId": "06e5798d-f394-41f8-aa2c-b796557aa3a3"
   },
   "outputs": [],
   "source": [
    "scaled_oil_data = scaled_df.BORE_OIL_VOL.to_numpy()\n",
    "\n",
    "# scaled_gas_data = scaled_df.BORE_GAS_VOL.to_numpy()"
   ]
  },
  {
   "cell_type": "code",
   "execution_count": null,
   "id": "a1b1d3b4",
   "metadata": {
    "colab": {
     "base_uri": "https://localhost:8080/"
    },
    "id": "7696660b",
    "outputId": "37f70c06-16f1-4b7f-e6a2-b0f2bd5eaa50"
   },
   "outputs": [],
   "source": [
    "#split the time series into training and validation sets\n",
    "split_date = 2140\n",
    "\n",
    "date_train = date[:split_date]\n",
    "date_valid = date[split_date:]\n",
    "\n",
    "oil_train = scaled_oil_data[:split_date]\n",
    "oil_valid = scaled_oil_data[split_date:]\n",
    "\n",
    "# gas_train = scaled_gas_data[:split_date]\n",
    "# gas_valid = scaled_gas_data[split_date:]\n",
    "\n",
    "print(oil_train.shape, oil_valid.shape, date_train.shape, date_valid.shape)"
   ]
  },
  {
   "cell_type": "markdown",
   "id": "93c16a40",
   "metadata": {
    "id": "ZoszA02TqC46",
    "tags": []
   },
   "source": [
    "# NAIVE Forecast"
   ]
  },
  {
   "cell_type": "code",
   "execution_count": null,
   "id": "82f0262a-a5a6-433b-8e19-1cd6f7faae45",
   "metadata": {
    "colab": {
     "base_uri": "https://localhost:8080/"
    },
    "id": "GYOr_jvNsMXB",
    "outputId": "11485910-5566-4f81-9253-d0f617ba74b8"
   },
   "outputs": [],
   "source": [
    "naive_oil_forecast = scaled_oil_data[split_date - 1:-1]\n",
    "\n",
    "plt.figure(figsize=(10, 6))\n",
    "plot_series(date_valid, oil_valid, label=\"Actual\")\n",
    "plot_series(date_valid, naive_oil_forecast,\"Oil\", label=\"Naive Forecast\")\n",
    "\n",
    "plt.show()\n",
    "\n",
    "mae = keras.metrics.mean_absolute_error(oil_valid, naive_oil_forecast).numpy()\n",
    "mse = keras.metrics.mean_squared_error(oil_valid, naive_oil_forecast).numpy()\n",
    "rmse = math.sqrt(mse)\n",
    "\n",
    "print(f'mae = {mae}, \\nmse = {mse}, \\nrmse = {rmse}')"
   ]
  },
  {
   "cell_type": "code",
   "execution_count": null,
   "id": "f20d9000-82b9-4f61-b757-94971cfaf65c",
   "metadata": {},
   "outputs": [],
   "source": [
    "naive_gas_forecast = scaled_gas_data[split_date - 1:-1]\n",
    "\n",
    "plt.figure(figsize=(10, 6))\n",
    "plot_series(date_valid, gas_valid, label=\"Actual\")\n",
    "plot_series(date_valid, naive_gas_forecast,\"Gas\", label=\"Naive Forecast\")\n",
    "\n",
    "plt.show()\n",
    "\n",
    "mae = keras.metrics.mean_absolute_error(gas_valid, naive_gas_forecast).numpy()\n",
    "mse = keras.metrics.mean_squared_error(gas_valid, naive_gas_forecast).numpy()\n",
    "rmse = math.sqrt(mse)\n",
    "\n",
    "print(f'mae = {mae}, \\nmse = {mse}, \\nrmse = {rmse}')"
   ]
  },
  {
   "cell_type": "markdown",
   "id": "01a6ab68",
   "metadata": {
    "id": "YJzeJRPQryVu",
    "tags": []
   },
   "source": [
    "# Moving Average"
   ]
  },
  {
   "cell_type": "code",
   "execution_count": null,
   "id": "19082d8b",
   "metadata": {
    "id": "2ezRKSFSrwxc"
   },
   "outputs": [],
   "source": [
    "def moving_average_forecast(series, window_size):\n",
    "    \"\"\"Forecasts the mean of the last few values.\n",
    "    If window_size=1, then this is equivalent to naive forecast\"\"\"\n",
    "    \n",
    "    mov = np.cumsum(series)\n",
    "    mov[window_size:] = mov[window_size:] - mov[:-window_size]\n",
    "    \n",
    "    return mov[window_size - 1:-1] / window_size"
   ]
  },
  {
   "cell_type": "code",
   "execution_count": null,
   "id": "4fabed69-d6ef-4917-8030-ab7d71091488",
   "metadata": {
    "colab": {
     "base_uri": "https://localhost:8080/"
    },
    "id": "ohcCp_DktM7S",
    "outputId": "2b88f93e-beea-4d71-c219-2d72a68dd094"
   },
   "outputs": [],
   "source": [
    "oil_moving_avg = moving_average_forecast(scaled_oil_data, 30)[split_date - 30:]\n",
    "\n",
    "plt.figure(figsize=(10, 6))\n",
    "plot_series(date_valid, oil_valid, label=\"Actual\")\n",
    "plot_series(date_valid, oil_moving_avg, \"Oil\", label=\"30-day Moving average\")\n",
    "\n",
    "plt.show()\n",
    "\n",
    "mae = keras.metrics.mean_absolute_error(oil_valid, oil_moving_avg).numpy()\n",
    "mse = keras.metrics.mean_squared_error(oil_valid, oil_moving_avg).numpy()\n",
    "rmse = math.sqrt(mse)\n",
    "\n",
    "print(f'mae = {mae}, \\nmse = {mse}, \\nrmse = {rmse}')"
   ]
  },
  {
   "cell_type": "code",
   "execution_count": null,
   "id": "c9d669fe-e02d-4c37-9854-1f36c5afab7a",
   "metadata": {
    "colab": {
     "base_uri": "https://localhost:8080/"
    },
    "id": "ohcCp_DktM7S",
    "outputId": "2b88f93e-beea-4d71-c219-2d72a68dd094"
   },
   "outputs": [],
   "source": [
    "gas_moving_avg = moving_average_forecast(scaled_gas_data, 30)[split_date - 30:]\n",
    "\n",
    "plt.figure(figsize=(10, 6))\n",
    "plot_series(date_valid, gas_valid, label=\"Actual\")\n",
    "plot_series(date_valid, gas_moving_avg, \"Gas\", label=\"30-day Moving average\")\n",
    "\n",
    "plt.show()\n",
    "\n",
    "mae = keras.metrics.mean_absolute_error(gas_valid, gas_moving_avg).numpy()\n",
    "mse = keras.metrics.mean_squared_error(gas_valid, gas_moving_avg).numpy()\n",
    "rmse = math.sqrt(mse)\n",
    "\n",
    "print(f'mae = {mae}, \\nmse = {mse}, \\nrmse = {rmse}')"
   ]
  },
  {
   "cell_type": "markdown",
   "id": "eb33a52d",
   "metadata": {
    "id": "iNWLQHpGvZSI",
    "tags": []
   },
   "source": [
    "# Linear Model"
   ]
  },
  {
   "cell_type": "markdown",
   "id": "fc3c0a00-cd71-4979-9393-3b38508b58c9",
   "metadata": {
    "id": "iNWLQHpGvZSI",
    "tags": []
   },
   "source": [
    "Oil"
   ]
  },
  {
   "cell_type": "code",
   "execution_count": null,
   "id": "f2bcddd2-17ae-4ff9-a3f5-0181297cd9f3",
   "metadata": {
    "id": "DEjoH2EqyTFk"
   },
   "outputs": [],
   "source": [
    "def window_dataset(series, window_size, batch_size=30, shuffle_buffer=100):\n",
    "    \n",
    "    dataset = tf.data.Dataset.from_tensor_slices(series)\n",
    "    dataset = dataset.window(window_size + 1, shift=1, drop_remainder=True)\n",
    "    dataset = dataset.flat_map(lambda window: window.batch(window_size + 1))\n",
    "    dataset = dataset.shuffle(shuffle_buffer)\n",
    "    dataset = dataset.map(lambda window: (window[:-1], window[-1]))\n",
    "    dataset = dataset.batch(batch_size).prefetch(2)\n",
    "    \n",
    "    return dataset\n",
    "\n",
    "\n",
    "def model_forecast(model, series, window_size):\n",
    "    \n",
    "    dataset = tf.data.Dataset.from_tensor_slices(series)\n",
    "    dataset = dataset.window(window_size, shift=1, drop_remainder=True)\n",
    "    dataset = dataset.flat_map(lambda w: w.batch(window_size))\n",
    "    dataset = dataset.batch(30).prefetch(2)\n",
    "    \n",
    "    forecast = model.predict(dataset)\n",
    "    \n",
    "    return forecast"
   ]
  },
  {
   "cell_type": "code",
   "execution_count": null,
   "id": "e6fc0594",
   "metadata": {
    "scrolled": true,
    "tags": []
   },
   "outputs": [],
   "source": [
    "refresh()\n",
    "\n",
    "window_size = 30\n",
    "\n",
    "oil_train_set = window_dataset(oil_train, window_size)\n",
    "\n",
    "model = Sequential( [ Dense(1, input_shape=[window_size]) ] )\n",
    "\n",
    "lr_schedule = LearningRateScheduler(\n",
    "                lambda epoch: 1e-4 * 10**(epoch / 30)\n",
    "                )\n",
    "\n",
    "optimizer = keras.optimizers.SGD(learning_rate=1e-4, momentum=0.9)\n",
    "\n",
    "model.compile(loss=keras.losses.Huber(),\n",
    "              optimizer=optimizer,\n",
    "              metrics=[\"mae\"])\n",
    "\n",
    "history = model.fit(oil_train_set, epochs=100, callbacks=[lr_schedule])"
   ]
  },
  {
   "cell_type": "code",
   "execution_count": null,
   "id": "8aefdd30",
   "metadata": {
    "colab": {
     "base_uri": "https://localhost:8080/",
     "height": 287
    },
    "id": "WmpdBlM8xWwD",
    "outputId": "62832d3b-731d-43b2-c554-8da8b6480c80"
   },
   "outputs": [],
   "source": [
    "plt.semilogx(history.history[\"lr\"], history.history[\"loss\"])\n",
    "plt.axis([5e-5, 5e-1, 0, 0.3])\n",
    "\n",
    "plt.show()\n",
    "\n",
    "max(history.history[\"loss\"])"
   ]
  },
  {
   "cell_type": "code",
   "execution_count": null,
   "id": "9ad6204b",
   "metadata": {
    "colab": {
     "base_uri": "https://localhost:8080/"
    },
    "id": "W9LyiD-HyIzl",
    "outputId": "48d9cdc7-8959-41ef-b90b-459dd0d18351",
    "scrolled": true,
    "tags": []
   },
   "outputs": [],
   "source": [
    "keras.backend.clear_session()\n",
    "\n",
    "tf.random.set_seed(42)\n",
    "np.random.seed(42)\n",
    "\n",
    "window_size = 30\n",
    "\n",
    "oil_train_set = window_dataset(oil_train, window_size)\n",
    "oil_valid_set = window_dataset(oil_valid, window_size)\n",
    "\n",
    "model = Sequential( [ Dense(1, input_shape=[window_size]) ] )\n",
    "\n",
    "optimizer = keras.optimizers.SGD(learning_rate=1e-3, momentum=0.9)\n",
    "\n",
    "model.compile(loss=keras.losses.Huber(),\n",
    "              optimizer=optimizer,\n",
    "              metrics=[\"mae\"])\n",
    "\n",
    "early_stopping = EarlyStopping(patience=10)\n",
    "\n",
    "model.fit(\n",
    "    \n",
    "    oil_train_set,\n",
    "    epochs=500,\n",
    "    validation_data=oil_valid_set,\n",
    "    callbacks=[early_stopping]\n",
    "\n",
    ")\n"
   ]
  },
  {
   "cell_type": "code",
   "execution_count": null,
   "id": "83684bfa-1d72-402e-9c20-1db8639de0d7",
   "metadata": {
    "colab": {
     "base_uri": "https://localhost:8080/"
    },
    "id": "AIL6T-zszZrs",
    "outputId": "9a5e4501-3b8b-4f6e-b99c-26e783d6ddf2"
   },
   "outputs": [],
   "source": [
    "linear_oil_forecast = model_forecast(model, scaled_oil_data[split_date - window_size:-1], window_size)[:, 0]\n",
    "\n",
    "plt.figure(figsize=(10, 6))\n",
    "plot_series(date_valid, oil_valid, label=\"Actual\")\n",
    "plot_series(date_valid, linear_oil_forecast, \"Oil\", label=\"Linear Model\")\n",
    "\n",
    "plt.show()\n",
    "\n",
    "mae = keras.metrics.mean_absolute_error(oil_valid, linear_oil_forecast).numpy()\n",
    "mse = keras.metrics.mean_squared_error(oil_valid, linear_oil_forecast).numpy()\n",
    "rmse = math.sqrt(mse)\n",
    "\n",
    "print(f'mae = {mae}, \\nmse = {mse}, \\nrmse = {rmse}')"
   ]
  },
  {
   "cell_type": "code",
   "execution_count": null,
   "id": "9bca315a-64b8-4780-86ff-34f4a897f91e",
   "metadata": {},
   "outputs": [],
   "source": [
    "#model.summary()\n",
    "#print(model.trainable_variables)"
   ]
  },
  {
   "cell_type": "markdown",
   "id": "c2aa5b23-7926-42d5-8f58-4641bd3e4072",
   "metadata": {
    "id": "iNWLQHpGvZSI",
    "jp-MarkdownHeadingCollapsed": true,
    "tags": []
   },
   "source": [
    "Gas"
   ]
  },
  {
   "cell_type": "code",
   "execution_count": null,
   "id": "ddfc169a-f2eb-4b76-b38b-8c46153f9686",
   "metadata": {
    "scrolled": true,
    "tags": []
   },
   "outputs": [],
   "source": [
    "refresh()\n",
    "\n",
    "window_size = 30\n",
    "\n",
    "gas_train_set = window_dataset(gas_train, window_size)\n",
    "\n",
    "model = Sequential( [ Dense(1, input_shape=[window_size]) ] )\n",
    "\n",
    "lr_schedule = LearningRateScheduler(\n",
    "                lambda epoch: 1e-4 * 10**(epoch / 30)\n",
    "                )\n",
    "\n",
    "optimizer = keras.optimizers.SGD(learning_rate=1e-4, momentum=0.9)\n",
    "\n",
    "model.compile(loss=keras.losses.Huber(),\n",
    "              optimizer=optimizer,\n",
    "              metrics=[\"mae\"])\n",
    "\n",
    "history = model.fit(gas_train_set, epochs=100, callbacks=[lr_schedule])"
   ]
  },
  {
   "cell_type": "code",
   "execution_count": null,
   "id": "927a452a-2c64-4270-85b8-0fbf3d59ad98",
   "metadata": {
    "colab": {
     "base_uri": "https://localhost:8080/",
     "height": 287
    },
    "id": "WmpdBlM8xWwD",
    "outputId": "62832d3b-731d-43b2-c554-8da8b6480c80"
   },
   "outputs": [],
   "source": [
    "plt.semilogx(history.history[\"lr\"], history.history[\"loss\"])\n",
    "plt.axis([5e-5, 5e-1, 0, 0.3])\n",
    "\n",
    "plt.show()\n",
    "\n",
    "max(history.history[\"loss\"])"
   ]
  },
  {
   "cell_type": "code",
   "execution_count": null,
   "id": "9f586982-368f-4d8f-a954-1ffd5b9ec294",
   "metadata": {
    "colab": {
     "base_uri": "https://localhost:8080/"
    },
    "id": "W9LyiD-HyIzl",
    "outputId": "48d9cdc7-8959-41ef-b90b-459dd0d18351",
    "scrolled": true,
    "tags": []
   },
   "outputs": [],
   "source": [
    "keras.backend.clear_session()\n",
    "\n",
    "tf.random.set_seed(42)\n",
    "np.random.seed(42)\n",
    "\n",
    "window_size = 30\n",
    "\n",
    "gas_train_set = window_dataset(gas_train, window_size)\n",
    "gas_valid_set = window_dataset(gas_valid, window_size)\n",
    "\n",
    "model = Sequential( [ Dense(1, input_shape=[window_size]) ] )\n",
    "\n",
    "optimizer = keras.optimizers.SGD(learning_rate=1e-3, momentum=0.9)\n",
    "\n",
    "model.compile(loss=keras.losses.Huber(),\n",
    "              optimizer=optimizer,\n",
    "              metrics=[\"mae\"])\n",
    "\n",
    "early_stopping = EarlyStopping(patience=10)\n",
    "\n",
    "model.fit(\n",
    "    \n",
    "    gas_train_set,\n",
    "    epochs=500,\n",
    "    validation_data=gas_valid_set,\n",
    "    callbacks=[early_stopping]\n",
    "\n",
    ")\n"
   ]
  },
  {
   "cell_type": "code",
   "execution_count": null,
   "id": "6ed156d1-152d-4518-b72a-411d973b6495",
   "metadata": {
    "colab": {
     "base_uri": "https://localhost:8080/"
    },
    "id": "AIL6T-zszZrs",
    "outputId": "9a5e4501-3b8b-4f6e-b99c-26e783d6ddf2"
   },
   "outputs": [],
   "source": [
    "linear_gas_forecast = model_forecast(model, scaled_gas_data[split_date - window_size:-1], window_size)[:, 0]\n",
    "\n",
    "plt.figure(figsize=(10, 6))\n",
    "plot_series(date_valid, gas_valid, label=\"Actual\")\n",
    "plot_series(date_valid, linear_gas_forecast, \"Gas\", label=\"Linear Model\")\n",
    "\n",
    "plt.show()\n",
    "\n",
    "mae = keras.metrics.mean_absolute_error(gas_valid, linear_gas_forecast).numpy()\n",
    "mse = keras.metrics.mean_squared_error(gas_valid, linear_gas_forecast).numpy()\n",
    "rmse = math.sqrt(mse)\n",
    "\n",
    "print(f'mae = {mae}, \\nmse = {mse}, \\nrmse = {rmse}')"
   ]
  },
  {
   "cell_type": "code",
   "execution_count": null,
   "id": "e376d8fd-2c53-40bb-a6a7-2c86b7cfb768",
   "metadata": {},
   "outputs": [],
   "source": [
    "#model.summary()\n",
    "#print(model.trainable_variables)"
   ]
  },
  {
   "cell_type": "markdown",
   "id": "4cdb3033",
   "metadata": {
    "id": "e6228521-e56f-4306-89da-eddfa4d5823c",
    "jp-MarkdownHeadingCollapsed": true,
    "tags": []
   },
   "source": [
    "#  FF-NN"
   ]
  },
  {
   "cell_type": "markdown",
   "id": "94ad32b0-1e4e-400f-b4a5-fbbc2e7b543a",
   "metadata": {},
   "source": [
    "Oil"
   ]
  },
  {
   "cell_type": "code",
   "execution_count": null,
   "id": "9922c1ff",
   "metadata": {
    "colab": {
     "base_uri": "https://localhost:8080/"
    },
    "id": "9e760c02-4ac0-495e-8451-638bce1fdab2",
    "outputId": "be9721a7-bdcb-48bd-f52a-c1764156b048",
    "scrolled": true,
    "tags": []
   },
   "outputs": [],
   "source": [
    "refresh()\n",
    "\n",
    "window_size = 30\n",
    "\n",
    "oil_train_set = window_dataset(oil_train, window_size)\n",
    "\n",
    "model = Sequential([\n",
    "            Dense(10, activation=\"relu\", input_shape=[window_size]),\n",
    "            Dense(10, activation=\"relu\"),\n",
    "            Dense(1)\n",
    "        ])\n",
    "\n",
    "lr_schedule = LearningRateScheduler(lambda epoch: 1e-5 * 10**(epoch / 20))\n",
    "\n",
    "optimizer = keras.optimizers.SGD(learning_rate=1e-5, momentum=0.9)\n",
    "\n",
    "model.compile(loss=keras.losses.Huber(),\n",
    "              optimizer=optimizer,\n",
    "              metrics=[\"mae\"])\n",
    "\n",
    "history = model.fit(oil_train_set, epochs=100, callbacks=[lr_schedule])"
   ]
  },
  {
   "cell_type": "code",
   "execution_count": null,
   "id": "3a946df7",
   "metadata": {
    "colab": {
     "base_uri": "https://localhost:8080/",
     "height": 287
    },
    "id": "5g-nC_em8OIq",
    "outputId": "330b9a14-2f99-4724-f0c4-0c7c0cbed318"
   },
   "outputs": [],
   "source": [
    "plt.semilogx(history.history[\"lr\"], history.history[\"loss\"])\n",
    "plt.axis([1e-5, 1, 0, 0.12])\n",
    "\n",
    "plt.show()\n",
    "\n",
    "max(history.history[\"lr\"])"
   ]
  },
  {
   "cell_type": "code",
   "execution_count": null,
   "id": "4935d179",
   "metadata": {
    "colab": {
     "base_uri": "https://localhost:8080/"
    },
    "id": "B7t0VrCH8OIr",
    "outputId": "07791842-f637-4519-9e07-9175911d5bad",
    "scrolled": true,
    "tags": []
   },
   "outputs": [],
   "source": [
    "refresh()\n",
    "\n",
    "window_size = 30\n",
    "\n",
    "oil_train_set = window_dataset(oil_train, window_size)\n",
    "oil_valid_set = window_dataset(oil_valid, window_size)\n",
    "\n",
    "model = Sequential([\n",
    "            Dense(10, activation=\"relu\", input_shape=[window_size]),\n",
    "            Dense(10, activation=\"relu\"),\n",
    "            Dense(1)\n",
    "        ])\n",
    "\n",
    "optimizer = keras.optimizers.SGD(learning_rate=1e-3, momentum=0.9)\n",
    "\n",
    "model.compile(loss=keras.losses.Huber(),\n",
    "              optimizer=optimizer,\n",
    "              metrics=[\"mae\"])\n",
    "\n",
    "early_stopping = EarlyStopping(patience=10)\n",
    "\n",
    "model.fit(oil_train_set,\n",
    "          epochs=500,\n",
    "          validation_data=oil_valid_set,\n",
    "          callbacks=[early_stopping])"
   ]
  },
  {
   "cell_type": "code",
   "execution_count": null,
   "id": "0cd4e184-73c4-4689-94bb-5332f1d3038d",
   "metadata": {
    "colab": {
     "base_uri": "https://localhost:8080/"
    },
    "id": "EgkELN-58OIw",
    "outputId": "44baae06-fe0c-42d1-e638-23b6e48997df"
   },
   "outputs": [],
   "source": [
    "ffnn_oil_forecast = model_forecast(\n",
    "    \n",
    "                    model,\n",
    "                    scaled_oil_data[split_date - window_size:-1],\n",
    "                    window_size\n",
    "\n",
    "                                )[:, 0]\n",
    "\n",
    "plt.figure(figsize=(10, 6))\n",
    "plot_series(date_valid, oil_valid, label=\"Actual\")\n",
    "plot_series(date_valid, ffnn_oil_forecast, \"Oil\", label=\"FF-NN Model\")\n",
    "\n",
    "plt.show()\n",
    "\n",
    "mae = keras.metrics.mean_absolute_error(oil_valid, ffnn_oil_forecast).numpy()\n",
    "mse = keras.metrics.mean_squared_error(oil_valid, ffnn_oil_forecast).numpy()\n",
    "rmse = math.sqrt(mse)\n",
    "\n",
    "print(f'mae = {mae}, \\nmse = {mse}, \\nrmse = {rmse}')"
   ]
  },
  {
   "cell_type": "markdown",
   "id": "1ed9d28e",
   "metadata": {
    "id": "b577aadb-081a-49f0-999c-4d2a6062968e",
    "jp-MarkdownHeadingCollapsed": true,
    "tags": []
   },
   "source": [
    "# RNN Model - LSTM"
   ]
  },
  {
   "cell_type": "code",
   "execution_count": null,
   "id": "849be30c",
   "metadata": {
    "id": "8zfwXGuuvmix"
   },
   "outputs": [],
   "source": [
    "def sequential_window_dataset(series, window_size):\n",
    "    \n",
    "    series = tf.expand_dims(series, axis=-1)\n",
    "    dataset = tf.data.Dataset.from_tensor_slices(series)\n",
    "    dataset = dataset.window(window_size + 1, shift=window_size, drop_remainder=True)\n",
    "    dataset = dataset.flat_map(lambda window: window.batch(window_size + 1))\n",
    "    dataset = dataset.map(lambda window: (window[:-1], window[1:]))\n",
    "    \n",
    "    return dataset.batch(1).prefetch(1)"
   ]
  },
  {
   "cell_type": "markdown",
   "id": "82cefc22-1d0f-4b05-be24-e81e73d08f37",
   "metadata": {},
   "source": [
    "Oil"
   ]
  },
  {
   "cell_type": "code",
   "execution_count": null,
   "id": "22074a35",
   "metadata": {
    "colab": {
     "base_uri": "https://localhost:8080/"
    },
    "id": "01913cd7",
    "outputId": "46d6ab6d-ea57-48e1-d2b6-b95d3fc9ce38",
    "scrolled": true,
    "tags": []
   },
   "outputs": [],
   "source": [
    "refresh()\n",
    "\n",
    "window_size = 30\n",
    "\n",
    "oil_train_set = sequential_window_dataset(oil_train, window_size)\n",
    "\n",
    "model = Sequential([\n",
    "    \n",
    "        LSTM(100, return_sequences=True, stateful=True, batch_input_shape=[1, None, 1]),\n",
    "        LSTM(100, return_sequences=True, stateful=True),\n",
    "        Dense(1)\n",
    "    \n",
    "        ])\n",
    "\n",
    "learning_rate_schedule = LearningRateScheduler(lambda epoch: 1e-5 * 10**(epoch / 20))\n",
    "reset_states = ResetStatesCallback()\n",
    "\n",
    "optimizer = keras.optimizers.SGD(learning_rate=1e-4, momentum=0.9)\n",
    "\n",
    "model.compile(loss=keras.losses.Huber(), optimizer=optimizer, metrics=[\"mae\"])\n",
    "\n",
    "history = model.fit(oil_train_set, epochs=100, callbacks=[learning_rate_schedule, reset_states])"
   ]
  },
  {
   "cell_type": "code",
   "execution_count": null,
   "id": "0ec70b7d",
   "metadata": {
    "colab": {
     "base_uri": "https://localhost:8080/",
     "height": 291
    },
    "id": "eada4ef5",
    "outputId": "267fff3c-e77a-479e-f939-72b980fccca8"
   },
   "outputs": [],
   "source": [
    "plt.semilogx(history.history[\"lr\"], history.history[\"loss\"])\n",
    "plt.axis([1e-5, 10, 0.009, 0.12])\n",
    "plt.show()\n",
    "\n",
    "max(history.history[\"lr\"])"
   ]
  },
  {
   "cell_type": "code",
   "execution_count": null,
   "id": "cd1f6f16",
   "metadata": {
    "colab": {
     "base_uri": "https://localhost:8080/"
    },
    "id": "IpAvutYit4qq",
    "outputId": "137a9e66-fd42-4188-c872-0343c322f08c",
    "scrolled": true,
    "tags": []
   },
   "outputs": [],
   "source": [
    "refresh()\n",
    "\n",
    "window_size = 30\n",
    "oil_train_set = sequential_window_dataset(oil_train, window_size)\n",
    "oil_valid_set = sequential_window_dataset(oil_valid, window_size)\n",
    "\n",
    "model = Sequential([\n",
    "                    \n",
    "        LSTM(100, return_sequences=True, stateful=True, batch_input_shape=[1, None, 1]),\n",
    "        LSTM(100, return_sequences=True, stateful=True),\n",
    "        Dense(1)\n",
    "        \n",
    "        ])\n",
    "\n",
    "optimizer = keras.optimizers.SGD(learning_rate=1e-3, momentum=0.9)\n",
    "\n",
    "model.compile(loss=keras.losses.Huber(), optimizer=optimizer, metrics=[\"mae\"])\n",
    "\n",
    "reset_states = ResetStatesCallback()\n",
    "model_checkpoint = ModelCheckpoint(\"LSTM_oil_checkpoint.h5\", save_best_only=True)\n",
    "early_stopping = EarlyStopping(patience=50)\n",
    "\n",
    "model.fit(oil_train_set, epochs=500, validation_data=oil_valid_set, \n",
    "          callbacks=[early_stopping, model_checkpoint, reset_states])"
   ]
  },
  {
   "cell_type": "code",
   "execution_count": null,
   "id": "07d2b465",
   "metadata": {
    "id": "nPeZUfQy8OJQ"
   },
   "outputs": [],
   "source": [
    "#load best model\n",
    "model = keras.models.load_model(\"LSTM_oil_checkpoint.h5\")"
   ]
  },
  {
   "cell_type": "code",
   "execution_count": null,
   "id": "6835d57c-98c9-4621-92de-734242333dc9",
   "metadata": {
    "colab": {
     "base_uri": "https://localhost:8080/",
     "height": 388
    },
    "id": "ZfaR6nqj8OJT",
    "outputId": "2175a190-f6e4-4bd7-dba5-cf18b0035da7",
    "tags": []
   },
   "outputs": [],
   "source": [
    "#forecast\n",
    "LSTM_oil_forecast = model.predict(scaled_oil_data[np.newaxis, :, np.newaxis])\n",
    "LSTM_oil_forecast = LSTM_oil_forecast[0, split_date - 1:-1, 0]\n",
    "\n",
    "plt.figure(figsize=(10, 6))\n",
    "plot_series(date_valid, oil_valid, label=\"Actual\")\n",
    "plot_series(date_valid, LSTM_oil_forecast, \"Oil\", label=\"LSTM Model\")\n",
    "\n",
    "plt.show()\n",
    "\n",
    "mae = keras.metrics.mean_absolute_error(oil_valid, LSTM_oil_forecast).numpy()\n",
    "mse = keras.metrics.mean_squared_error(oil_valid, LSTM_oil_forecast).numpy()\n",
    "rmse = math.sqrt(mse)\n",
    "\n",
    "print(f'mae = {mae}, \\nmse = {mse}, \\nrmse = {rmse}')"
   ]
  }
 ],
 "metadata": {
  "colab": {
   "include_colab_link": true,
   "name": "model.ipynb",
   "provenance": []
  },
  "kernelspec": {
   "display_name": "Python 3.9.7 ('tf')",
   "language": "python",
   "name": "python3"
  },
  "language_info": {
   "codemirror_mode": {
    "name": "ipython",
    "version": 3
   },
   "file_extension": ".py",
   "mimetype": "text/x-python",
   "name": "python",
   "nbconvert_exporter": "python",
   "pygments_lexer": "ipython3",
   "version": "3.9.7"
  },
  "vscode": {
   "interpreter": {
    "hash": "133444414d1ee3d5e92372fd828872450c43ed97795e9b0f6d2c2bdc325c8146"
   }
  }
 },
 "nbformat": 4,
 "nbformat_minor": 5
}
